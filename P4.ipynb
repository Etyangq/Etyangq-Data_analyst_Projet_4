{
 "cells": [
  {
   "cell_type": "markdown",
   "id": "4f712d84",
   "metadata": {},
   "source": [
    "# Projet 4 Réalisez une étude de santé publique avec  Python"
   ]
  },
  {
   "cell_type": "code",
   "execution_count": 144,
   "id": "8555d579",
   "metadata": {},
   "outputs": [],
   "source": [
    "import pandas as pd\n",
    "import numpy as np\n",
    "%matplotlib inline\n",
    "import matplotlib.pyplot as plt\n",
    "import seaborn as sns"
   ]
  },
  {
   "cell_type": "markdown",
   "id": "c29645d4",
   "metadata": {},
   "source": [
    "\n",
    "## Partie 1 - Importation et nettoyage des données"
   ]
  },
  {
   "cell_type": "markdown",
   "id": "15711ffe",
   "metadata": {},
   "source": [
    "### 1.  Fichier d’aide alimentaire qui contient :\n",
    "-\tLe pays bénéficiaire.\n",
    "-\tL’année.\n",
    "-\tLe produit.\n",
    "-\tLa quantité qui a été donnée comme aide alimentaire, en tonnes."
   ]
  },
  {
   "cell_type": "markdown",
   "id": "14b9743e",
   "metadata": {},
   "source": [
    "### A. Lecture du fichier"
   ]
  },
  {
   "cell_type": "code",
   "execution_count": 145,
   "id": "4e078a62",
   "metadata": {},
   "outputs": [],
   "source": [
    "aide_alimentaire = pd.read_csv(\"D:/Open_work/P4/doc_origine/DAN-P4-FAO/aide_alimentaire.csv\")"
   ]
  },
  {
   "cell_type": "code",
   "execution_count": 146,
   "id": "00d640ce",
   "metadata": {},
   "outputs": [
    {
     "data": {
      "text/html": [
       "<div>\n",
       "<style scoped>\n",
       "    .dataframe tbody tr th:only-of-type {\n",
       "        vertical-align: middle;\n",
       "    }\n",
       "\n",
       "    .dataframe tbody tr th {\n",
       "        vertical-align: top;\n",
       "    }\n",
       "\n",
       "    .dataframe thead th {\n",
       "        text-align: right;\n",
       "    }\n",
       "</style>\n",
       "<table border=\"1\" class=\"dataframe\">\n",
       "  <thead>\n",
       "    <tr style=\"text-align: right;\">\n",
       "      <th></th>\n",
       "      <th>Pays bénéficiaire</th>\n",
       "      <th>Année</th>\n",
       "      <th>Produit</th>\n",
       "      <th>Valeur</th>\n",
       "    </tr>\n",
       "  </thead>\n",
       "  <tbody>\n",
       "    <tr>\n",
       "      <th>0</th>\n",
       "      <td>Afghanistan</td>\n",
       "      <td>2013</td>\n",
       "      <td>Autres non-céréales</td>\n",
       "      <td>682</td>\n",
       "    </tr>\n",
       "    <tr>\n",
       "      <th>1</th>\n",
       "      <td>Afghanistan</td>\n",
       "      <td>2014</td>\n",
       "      <td>Autres non-céréales</td>\n",
       "      <td>335</td>\n",
       "    </tr>\n",
       "    <tr>\n",
       "      <th>2</th>\n",
       "      <td>Afghanistan</td>\n",
       "      <td>2013</td>\n",
       "      <td>Blé et Farin</td>\n",
       "      <td>39224</td>\n",
       "    </tr>\n",
       "    <tr>\n",
       "      <th>3</th>\n",
       "      <td>Afghanistan</td>\n",
       "      <td>2014</td>\n",
       "      <td>Blé et Farin</td>\n",
       "      <td>15160</td>\n",
       "    </tr>\n",
       "    <tr>\n",
       "      <th>4</th>\n",
       "      <td>Afghanistan</td>\n",
       "      <td>2013</td>\n",
       "      <td>Céréales</td>\n",
       "      <td>40504</td>\n",
       "    </tr>\n",
       "  </tbody>\n",
       "</table>\n",
       "</div>"
      ],
      "text/plain": [
       "  Pays bénéficiaire  Année              Produit  Valeur\n",
       "0       Afghanistan   2013  Autres non-céréales     682\n",
       "1       Afghanistan   2014  Autres non-céréales     335\n",
       "2       Afghanistan   2013         Blé et Farin   39224\n",
       "3       Afghanistan   2014         Blé et Farin   15160\n",
       "4       Afghanistan   2013             Céréales   40504"
      ]
     },
     "execution_count": 146,
     "metadata": {},
     "output_type": "execute_result"
    }
   ],
   "source": [
    "aide_alimentaire.head()"
   ]
  },
  {
   "cell_type": "code",
   "execution_count": 147,
   "id": "53ee97be",
   "metadata": {},
   "outputs": [
    {
     "name": "stdout",
     "output_type": "stream",
     "text": [
      "<class 'pandas.core.frame.DataFrame'>\n",
      "RangeIndex: 1475 entries, 0 to 1474\n",
      "Data columns (total 4 columns):\n",
      " #   Column             Non-Null Count  Dtype \n",
      "---  ------             --------------  ----- \n",
      " 0   Pays bénéficiaire  1475 non-null   object\n",
      " 1   Année              1475 non-null   int64 \n",
      " 2   Produit            1475 non-null   object\n",
      " 3   Valeur             1475 non-null   int64 \n",
      "dtypes: int64(2), object(2)\n",
      "memory usage: 46.2+ KB\n"
     ]
    }
   ],
   "source": [
    "aide_alimentaire.info()"
   ]
  },
  {
   "cell_type": "code",
   "execution_count": 148,
   "id": "b0f8788b",
   "metadata": {},
   "outputs": [
    {
     "data": {
      "text/html": [
       "<div>\n",
       "<style scoped>\n",
       "    .dataframe tbody tr th:only-of-type {\n",
       "        vertical-align: middle;\n",
       "    }\n",
       "\n",
       "    .dataframe tbody tr th {\n",
       "        vertical-align: top;\n",
       "    }\n",
       "\n",
       "    .dataframe thead th {\n",
       "        text-align: right;\n",
       "    }\n",
       "</style>\n",
       "<table border=\"1\" class=\"dataframe\">\n",
       "  <thead>\n",
       "    <tr style=\"text-align: right;\">\n",
       "      <th></th>\n",
       "      <th>Pays bénéficiaire</th>\n",
       "      <th>Année</th>\n",
       "      <th>Produit</th>\n",
       "      <th>Valeur</th>\n",
       "    </tr>\n",
       "  </thead>\n",
       "  <tbody>\n",
       "    <tr>\n",
       "      <th>count</th>\n",
       "      <td>1475</td>\n",
       "      <td>1475.000000</td>\n",
       "      <td>1475</td>\n",
       "      <td>1475.000000</td>\n",
       "    </tr>\n",
       "    <tr>\n",
       "      <th>unique</th>\n",
       "      <td>76</td>\n",
       "      <td>NaN</td>\n",
       "      <td>16</td>\n",
       "      <td>NaN</td>\n",
       "    </tr>\n",
       "    <tr>\n",
       "      <th>top</th>\n",
       "      <td>Algérie</td>\n",
       "      <td>NaN</td>\n",
       "      <td>Non-céréales</td>\n",
       "      <td>NaN</td>\n",
       "    </tr>\n",
       "    <tr>\n",
       "      <th>freq</th>\n",
       "      <td>39</td>\n",
       "      <td>NaN</td>\n",
       "      <td>220</td>\n",
       "      <td>NaN</td>\n",
       "    </tr>\n",
       "    <tr>\n",
       "      <th>mean</th>\n",
       "      <td>NaN</td>\n",
       "      <td>2014.054237</td>\n",
       "      <td>NaN</td>\n",
       "      <td>7481.966780</td>\n",
       "    </tr>\n",
       "    <tr>\n",
       "      <th>std</th>\n",
       "      <td>NaN</td>\n",
       "      <td>0.946916</td>\n",
       "      <td>NaN</td>\n",
       "      <td>23339.531424</td>\n",
       "    </tr>\n",
       "    <tr>\n",
       "      <th>min</th>\n",
       "      <td>NaN</td>\n",
       "      <td>2013.000000</td>\n",
       "      <td>NaN</td>\n",
       "      <td>0.000000</td>\n",
       "    </tr>\n",
       "    <tr>\n",
       "      <th>25%</th>\n",
       "      <td>NaN</td>\n",
       "      <td>2013.000000</td>\n",
       "      <td>NaN</td>\n",
       "      <td>287.500000</td>\n",
       "    </tr>\n",
       "    <tr>\n",
       "      <th>50%</th>\n",
       "      <td>NaN</td>\n",
       "      <td>2014.000000</td>\n",
       "      <td>NaN</td>\n",
       "      <td>1178.000000</td>\n",
       "    </tr>\n",
       "    <tr>\n",
       "      <th>75%</th>\n",
       "      <td>NaN</td>\n",
       "      <td>2015.000000</td>\n",
       "      <td>NaN</td>\n",
       "      <td>4334.500000</td>\n",
       "    </tr>\n",
       "    <tr>\n",
       "      <th>max</th>\n",
       "      <td>NaN</td>\n",
       "      <td>2016.000000</td>\n",
       "      <td>NaN</td>\n",
       "      <td>265013.000000</td>\n",
       "    </tr>\n",
       "  </tbody>\n",
       "</table>\n",
       "</div>"
      ],
      "text/plain": [
       "       Pays bénéficiaire        Année       Produit         Valeur\n",
       "count               1475  1475.000000          1475    1475.000000\n",
       "unique                76          NaN            16            NaN\n",
       "top              Algérie          NaN  Non-céréales            NaN\n",
       "freq                  39          NaN           220            NaN\n",
       "mean                 NaN  2014.054237           NaN    7481.966780\n",
       "std                  NaN     0.946916           NaN   23339.531424\n",
       "min                  NaN  2013.000000           NaN       0.000000\n",
       "25%                  NaN  2013.000000           NaN     287.500000\n",
       "50%                  NaN  2014.000000           NaN    1178.000000\n",
       "75%                  NaN  2015.000000           NaN    4334.500000\n",
       "max                  NaN  2016.000000           NaN  265013.000000"
      ]
     },
     "execution_count": 148,
     "metadata": {},
     "output_type": "execute_result"
    }
   ],
   "source": [
    "aide_alimentaire.describe(include=\"all\")"
   ]
  },
  {
   "cell_type": "code",
   "execution_count": 149,
   "id": "00c5b53d",
   "metadata": {},
   "outputs": [
    {
     "data": {
      "text/plain": [
       "(1475, 4)"
      ]
     },
     "execution_count": 149,
     "metadata": {},
     "output_type": "execute_result"
    }
   ],
   "source": [
    "aide_alimentaire.shape"
   ]
  },
  {
   "cell_type": "markdown",
   "id": "e4a9ecdb",
   "metadata": {},
   "source": [
    "### B. Nettoyage du fichier"
   ]
  },
  {
   "cell_type": "code",
   "execution_count": 150,
   "id": "d66789b8",
   "metadata": {},
   "outputs": [],
   "source": [
    "# Changer les noms des colonnes en minuscules\n",
    "aide_alimentaire.columns = aide_alimentaire.columns.str.lower()"
   ]
  },
  {
   "cell_type": "code",
   "execution_count": 151,
   "id": "b98a9d56",
   "metadata": {},
   "outputs": [],
   "source": [
    "# Changer le nom de colonne de 'pays bénéficiaire' \n",
    "aide_alimentaire = aide_alimentaire.rename(columns={'pays bénéficiaire':'zone'})"
   ]
  },
  {
   "cell_type": "code",
   "execution_count": 152,
   "id": "01afaca0",
   "metadata": {},
   "outputs": [
    {
     "data": {
      "text/plain": [
       "0"
      ]
     },
     "execution_count": 152,
     "metadata": {},
     "output_type": "execute_result"
    }
   ],
   "source": [
    "# Trouver le nombre des doublons\n",
    "aide_alimentaire.duplicated(['zone','année','produit']).sum()"
   ]
  },
  {
   "cell_type": "code",
   "execution_count": 153,
   "id": "b6e73325",
   "metadata": {},
   "outputs": [
    {
     "data": {
      "text/plain": [
       "zone       0\n",
       "année      0\n",
       "produit    0\n",
       "valeur     0\n",
       "dtype: int64"
      ]
     },
     "execution_count": 153,
     "metadata": {},
     "output_type": "execute_result"
    }
   ],
   "source": [
    "# Nombre de valeurs manquantes\n",
    "aide_alimentaire.isnull().sum()"
   ]
  },
  {
   "cell_type": "code",
   "execution_count": 154,
   "id": "a8e0e6c4",
   "metadata": {},
   "outputs": [
    {
     "data": {
      "text/html": [
       "<div>\n",
       "<style scoped>\n",
       "    .dataframe tbody tr th:only-of-type {\n",
       "        vertical-align: middle;\n",
       "    }\n",
       "\n",
       "    .dataframe tbody tr th {\n",
       "        vertical-align: top;\n",
       "    }\n",
       "\n",
       "    .dataframe thead th {\n",
       "        text-align: right;\n",
       "    }\n",
       "</style>\n",
       "<table border=\"1\" class=\"dataframe\">\n",
       "  <thead>\n",
       "    <tr style=\"text-align: right;\">\n",
       "      <th></th>\n",
       "      <th>zone</th>\n",
       "      <th>année</th>\n",
       "      <th>produit</th>\n",
       "      <th>valeur</th>\n",
       "    </tr>\n",
       "  </thead>\n",
       "  <tbody>\n",
       "    <tr>\n",
       "      <th>0</th>\n",
       "      <td>Afghanistan</td>\n",
       "      <td>2013</td>\n",
       "      <td>Autres non-céréales</td>\n",
       "      <td>682</td>\n",
       "    </tr>\n",
       "    <tr>\n",
       "      <th>1</th>\n",
       "      <td>Afghanistan</td>\n",
       "      <td>2014</td>\n",
       "      <td>Autres non-céréales</td>\n",
       "      <td>335</td>\n",
       "    </tr>\n",
       "    <tr>\n",
       "      <th>2</th>\n",
       "      <td>Afghanistan</td>\n",
       "      <td>2013</td>\n",
       "      <td>Blé et Farin</td>\n",
       "      <td>39224</td>\n",
       "    </tr>\n",
       "    <tr>\n",
       "      <th>3</th>\n",
       "      <td>Afghanistan</td>\n",
       "      <td>2014</td>\n",
       "      <td>Blé et Farin</td>\n",
       "      <td>15160</td>\n",
       "    </tr>\n",
       "    <tr>\n",
       "      <th>4</th>\n",
       "      <td>Afghanistan</td>\n",
       "      <td>2013</td>\n",
       "      <td>Céréales</td>\n",
       "      <td>40504</td>\n",
       "    </tr>\n",
       "  </tbody>\n",
       "</table>\n",
       "</div>"
      ],
      "text/plain": [
       "          zone  année              produit  valeur\n",
       "0  Afghanistan   2013  Autres non-céréales     682\n",
       "1  Afghanistan   2014  Autres non-céréales     335\n",
       "2  Afghanistan   2013         Blé et Farin   39224\n",
       "3  Afghanistan   2014         Blé et Farin   15160\n",
       "4  Afghanistan   2013             Céréales   40504"
      ]
     },
     "execution_count": 154,
     "metadata": {},
     "output_type": "execute_result"
    }
   ],
   "source": [
    "aide_alimentaire.head()"
   ]
  },
  {
   "cell_type": "markdown",
   "id": "92ff4d2a",
   "metadata": {},
   "source": [
    "### 2.\tFichier de disponibilité alimentaire pour l’année 2017 qui contient 17 variables :\n",
    "-\tLe pays.\n",
    "-\tLe produit.\n",
    "-\t4 variables de disponibilité alimentaire. Ces 4 variables sont exprimées dans des unités bien spécifiques, qui sont précisées directement dans le nom de la variable. À noter cependant que la notation kcal est un abus de langage, elle correspond à une calorie réelle.\n",
    "-\t10 variables qui précisent les utilisations/moyens d’acquisition de la disponibilité alimentaire. Elles sont toutes exprimées en milliers de tonnes.\n",
    "-\tEnfin, une variable type qui précise si le produit est d’origine animale ou végétale.\n"
   ]
  },
  {
   "cell_type": "markdown",
   "id": "5f04d3ae",
   "metadata": {},
   "source": [
    "### A. Lecture du fichier"
   ]
  },
  {
   "cell_type": "code",
   "execution_count": 155,
   "id": "f95f41b3",
   "metadata": {},
   "outputs": [],
   "source": [
    "dispo_alimentaire = pd.read_csv(\"D:/Open_work/P4/doc_origine/DAN-P4-FAO/dispo_alimentaire.csv\")"
   ]
  },
  {
   "cell_type": "code",
   "execution_count": 156,
   "id": "8a8ab3cf",
   "metadata": {
    "scrolled": false
   },
   "outputs": [
    {
     "data": {
      "text/html": [
       "<div>\n",
       "<style scoped>\n",
       "    .dataframe tbody tr th:only-of-type {\n",
       "        vertical-align: middle;\n",
       "    }\n",
       "\n",
       "    .dataframe tbody tr th {\n",
       "        vertical-align: top;\n",
       "    }\n",
       "\n",
       "    .dataframe thead th {\n",
       "        text-align: right;\n",
       "    }\n",
       "</style>\n",
       "<table border=\"1\" class=\"dataframe\">\n",
       "  <thead>\n",
       "    <tr style=\"text-align: right;\">\n",
       "      <th></th>\n",
       "      <th>Zone</th>\n",
       "      <th>Produit</th>\n",
       "      <th>Origine</th>\n",
       "      <th>Aliments pour animaux</th>\n",
       "      <th>Autres Utilisations</th>\n",
       "      <th>Disponibilité alimentaire (Kcal/personne/jour)</th>\n",
       "      <th>Disponibilité alimentaire en quantité (kg/personne/an)</th>\n",
       "      <th>Disponibilité de matière grasse en quantité (g/personne/jour)</th>\n",
       "      <th>Disponibilité de protéines en quantité (g/personne/jour)</th>\n",
       "      <th>Disponibilité intérieure</th>\n",
       "      <th>Exportations - Quantité</th>\n",
       "      <th>Importations - Quantité</th>\n",
       "      <th>Nourriture</th>\n",
       "      <th>Pertes</th>\n",
       "      <th>Production</th>\n",
       "      <th>Semences</th>\n",
       "      <th>Traitement</th>\n",
       "      <th>Variation de stock</th>\n",
       "    </tr>\n",
       "  </thead>\n",
       "  <tbody>\n",
       "    <tr>\n",
       "      <th>0</th>\n",
       "      <td>Afghanistan</td>\n",
       "      <td>Abats Comestible</td>\n",
       "      <td>animale</td>\n",
       "      <td>NaN</td>\n",
       "      <td>NaN</td>\n",
       "      <td>5.0</td>\n",
       "      <td>1.72</td>\n",
       "      <td>0.20</td>\n",
       "      <td>0.77</td>\n",
       "      <td>53.0</td>\n",
       "      <td>NaN</td>\n",
       "      <td>NaN</td>\n",
       "      <td>53.0</td>\n",
       "      <td>NaN</td>\n",
       "      <td>53.0</td>\n",
       "      <td>NaN</td>\n",
       "      <td>NaN</td>\n",
       "      <td>NaN</td>\n",
       "    </tr>\n",
       "    <tr>\n",
       "      <th>1</th>\n",
       "      <td>Afghanistan</td>\n",
       "      <td>Agrumes, Autres</td>\n",
       "      <td>vegetale</td>\n",
       "      <td>NaN</td>\n",
       "      <td>NaN</td>\n",
       "      <td>1.0</td>\n",
       "      <td>1.29</td>\n",
       "      <td>0.01</td>\n",
       "      <td>0.02</td>\n",
       "      <td>41.0</td>\n",
       "      <td>2.0</td>\n",
       "      <td>40.0</td>\n",
       "      <td>39.0</td>\n",
       "      <td>2.0</td>\n",
       "      <td>3.0</td>\n",
       "      <td>NaN</td>\n",
       "      <td>NaN</td>\n",
       "      <td>NaN</td>\n",
       "    </tr>\n",
       "    <tr>\n",
       "      <th>2</th>\n",
       "      <td>Afghanistan</td>\n",
       "      <td>Aliments pour enfants</td>\n",
       "      <td>vegetale</td>\n",
       "      <td>NaN</td>\n",
       "      <td>NaN</td>\n",
       "      <td>1.0</td>\n",
       "      <td>0.06</td>\n",
       "      <td>0.01</td>\n",
       "      <td>0.03</td>\n",
       "      <td>2.0</td>\n",
       "      <td>NaN</td>\n",
       "      <td>2.0</td>\n",
       "      <td>2.0</td>\n",
       "      <td>NaN</td>\n",
       "      <td>NaN</td>\n",
       "      <td>NaN</td>\n",
       "      <td>NaN</td>\n",
       "      <td>NaN</td>\n",
       "    </tr>\n",
       "    <tr>\n",
       "      <th>3</th>\n",
       "      <td>Afghanistan</td>\n",
       "      <td>Ananas</td>\n",
       "      <td>vegetale</td>\n",
       "      <td>NaN</td>\n",
       "      <td>NaN</td>\n",
       "      <td>0.0</td>\n",
       "      <td>0.00</td>\n",
       "      <td>NaN</td>\n",
       "      <td>NaN</td>\n",
       "      <td>0.0</td>\n",
       "      <td>NaN</td>\n",
       "      <td>0.0</td>\n",
       "      <td>0.0</td>\n",
       "      <td>NaN</td>\n",
       "      <td>NaN</td>\n",
       "      <td>NaN</td>\n",
       "      <td>NaN</td>\n",
       "      <td>NaN</td>\n",
       "    </tr>\n",
       "    <tr>\n",
       "      <th>4</th>\n",
       "      <td>Afghanistan</td>\n",
       "      <td>Bananes</td>\n",
       "      <td>vegetale</td>\n",
       "      <td>NaN</td>\n",
       "      <td>NaN</td>\n",
       "      <td>4.0</td>\n",
       "      <td>2.70</td>\n",
       "      <td>0.02</td>\n",
       "      <td>0.05</td>\n",
       "      <td>82.0</td>\n",
       "      <td>NaN</td>\n",
       "      <td>82.0</td>\n",
       "      <td>82.0</td>\n",
       "      <td>NaN</td>\n",
       "      <td>NaN</td>\n",
       "      <td>NaN</td>\n",
       "      <td>NaN</td>\n",
       "      <td>NaN</td>\n",
       "    </tr>\n",
       "  </tbody>\n",
       "</table>\n",
       "</div>"
      ],
      "text/plain": [
       "          Zone                Produit   Origine  Aliments pour animaux  \\\n",
       "0  Afghanistan       Abats Comestible   animale                    NaN   \n",
       "1  Afghanistan        Agrumes, Autres  vegetale                    NaN   \n",
       "2  Afghanistan  Aliments pour enfants  vegetale                    NaN   \n",
       "3  Afghanistan                 Ananas  vegetale                    NaN   \n",
       "4  Afghanistan                Bananes  vegetale                    NaN   \n",
       "\n",
       "   Autres Utilisations  Disponibilité alimentaire (Kcal/personne/jour)  \\\n",
       "0                  NaN                                             5.0   \n",
       "1                  NaN                                             1.0   \n",
       "2                  NaN                                             1.0   \n",
       "3                  NaN                                             0.0   \n",
       "4                  NaN                                             4.0   \n",
       "\n",
       "   Disponibilité alimentaire en quantité (kg/personne/an)  \\\n",
       "0                                               1.72        \n",
       "1                                               1.29        \n",
       "2                                               0.06        \n",
       "3                                               0.00        \n",
       "4                                               2.70        \n",
       "\n",
       "   Disponibilité de matière grasse en quantité (g/personne/jour)  \\\n",
       "0                                               0.20               \n",
       "1                                               0.01               \n",
       "2                                               0.01               \n",
       "3                                                NaN               \n",
       "4                                               0.02               \n",
       "\n",
       "   Disponibilité de protéines en quantité (g/personne/jour)  \\\n",
       "0                                               0.77          \n",
       "1                                               0.02          \n",
       "2                                               0.03          \n",
       "3                                                NaN          \n",
       "4                                               0.05          \n",
       "\n",
       "   Disponibilité intérieure  Exportations - Quantité  Importations - Quantité  \\\n",
       "0                      53.0                      NaN                      NaN   \n",
       "1                      41.0                      2.0                     40.0   \n",
       "2                       2.0                      NaN                      2.0   \n",
       "3                       0.0                      NaN                      0.0   \n",
       "4                      82.0                      NaN                     82.0   \n",
       "\n",
       "   Nourriture  Pertes  Production  Semences  Traitement  Variation de stock  \n",
       "0        53.0     NaN        53.0       NaN         NaN                 NaN  \n",
       "1        39.0     2.0         3.0       NaN         NaN                 NaN  \n",
       "2         2.0     NaN         NaN       NaN         NaN                 NaN  \n",
       "3         0.0     NaN         NaN       NaN         NaN                 NaN  \n",
       "4        82.0     NaN         NaN       NaN         NaN                 NaN  "
      ]
     },
     "execution_count": 156,
     "metadata": {},
     "output_type": "execute_result"
    }
   ],
   "source": [
    "dispo_alimentaire.head()"
   ]
  },
  {
   "cell_type": "code",
   "execution_count": 157,
   "id": "d2968187",
   "metadata": {},
   "outputs": [
    {
     "name": "stdout",
     "output_type": "stream",
     "text": [
      "<class 'pandas.core.frame.DataFrame'>\n",
      "RangeIndex: 15605 entries, 0 to 15604\n",
      "Data columns (total 18 columns):\n",
      " #   Column                                                         Non-Null Count  Dtype  \n",
      "---  ------                                                         --------------  -----  \n",
      " 0   Zone                                                           15605 non-null  object \n",
      " 1   Produit                                                        15605 non-null  object \n",
      " 2   Origine                                                        15605 non-null  object \n",
      " 3   Aliments pour animaux                                          2720 non-null   float64\n",
      " 4   Autres Utilisations                                            5496 non-null   float64\n",
      " 5   Disponibilité alimentaire (Kcal/personne/jour)                 14241 non-null  float64\n",
      " 6   Disponibilité alimentaire en quantité (kg/personne/an)         14015 non-null  float64\n",
      " 7   Disponibilité de matière grasse en quantité (g/personne/jour)  11794 non-null  float64\n",
      " 8   Disponibilité de protéines en quantité (g/personne/jour)       11561 non-null  float64\n",
      " 9   Disponibilité intérieure                                       15382 non-null  float64\n",
      " 10  Exportations - Quantité                                        12226 non-null  float64\n",
      " 11  Importations - Quantité                                        14852 non-null  float64\n",
      " 12  Nourriture                                                     14015 non-null  float64\n",
      " 13  Pertes                                                         4278 non-null   float64\n",
      " 14  Production                                                     9180 non-null   float64\n",
      " 15  Semences                                                       2091 non-null   float64\n",
      " 16  Traitement                                                     2292 non-null   float64\n",
      " 17  Variation de stock                                             6776 non-null   float64\n",
      "dtypes: float64(15), object(3)\n",
      "memory usage: 2.1+ MB\n"
     ]
    }
   ],
   "source": [
    "dispo_alimentaire.info()"
   ]
  },
  {
   "cell_type": "code",
   "execution_count": 158,
   "id": "ac82da21",
   "metadata": {},
   "outputs": [
    {
     "data": {
      "text/html": [
       "<div>\n",
       "<style scoped>\n",
       "    .dataframe tbody tr th:only-of-type {\n",
       "        vertical-align: middle;\n",
       "    }\n",
       "\n",
       "    .dataframe tbody tr th {\n",
       "        vertical-align: top;\n",
       "    }\n",
       "\n",
       "    .dataframe thead th {\n",
       "        text-align: right;\n",
       "    }\n",
       "</style>\n",
       "<table border=\"1\" class=\"dataframe\">\n",
       "  <thead>\n",
       "    <tr style=\"text-align: right;\">\n",
       "      <th></th>\n",
       "      <th>Zone</th>\n",
       "      <th>Produit</th>\n",
       "      <th>Origine</th>\n",
       "      <th>Aliments pour animaux</th>\n",
       "      <th>Autres Utilisations</th>\n",
       "      <th>Disponibilité alimentaire (Kcal/personne/jour)</th>\n",
       "      <th>Disponibilité alimentaire en quantité (kg/personne/an)</th>\n",
       "      <th>Disponibilité de matière grasse en quantité (g/personne/jour)</th>\n",
       "      <th>Disponibilité de protéines en quantité (g/personne/jour)</th>\n",
       "      <th>Disponibilité intérieure</th>\n",
       "      <th>Exportations - Quantité</th>\n",
       "      <th>Importations - Quantité</th>\n",
       "      <th>Nourriture</th>\n",
       "      <th>Pertes</th>\n",
       "      <th>Production</th>\n",
       "      <th>Semences</th>\n",
       "      <th>Traitement</th>\n",
       "      <th>Variation de stock</th>\n",
       "    </tr>\n",
       "  </thead>\n",
       "  <tbody>\n",
       "    <tr>\n",
       "      <th>count</th>\n",
       "      <td>15605</td>\n",
       "      <td>15605</td>\n",
       "      <td>15605</td>\n",
       "      <td>2720.000000</td>\n",
       "      <td>5496.000000</td>\n",
       "      <td>14241.000000</td>\n",
       "      <td>14015.000000</td>\n",
       "      <td>11794.000000</td>\n",
       "      <td>11561.000000</td>\n",
       "      <td>15382.000000</td>\n",
       "      <td>12226.000000</td>\n",
       "      <td>14852.000000</td>\n",
       "      <td>14015.000000</td>\n",
       "      <td>4278.000000</td>\n",
       "      <td>9180.000000</td>\n",
       "      <td>2091.000000</td>\n",
       "      <td>2292.000000</td>\n",
       "      <td>6776.000000</td>\n",
       "    </tr>\n",
       "    <tr>\n",
       "      <th>unique</th>\n",
       "      <td>174</td>\n",
       "      <td>98</td>\n",
       "      <td>2</td>\n",
       "      <td>NaN</td>\n",
       "      <td>NaN</td>\n",
       "      <td>NaN</td>\n",
       "      <td>NaN</td>\n",
       "      <td>NaN</td>\n",
       "      <td>NaN</td>\n",
       "      <td>NaN</td>\n",
       "      <td>NaN</td>\n",
       "      <td>NaN</td>\n",
       "      <td>NaN</td>\n",
       "      <td>NaN</td>\n",
       "      <td>NaN</td>\n",
       "      <td>NaN</td>\n",
       "      <td>NaN</td>\n",
       "      <td>NaN</td>\n",
       "    </tr>\n",
       "    <tr>\n",
       "      <th>top</th>\n",
       "      <td>Japon</td>\n",
       "      <td>Pommes de Terre</td>\n",
       "      <td>vegetale</td>\n",
       "      <td>NaN</td>\n",
       "      <td>NaN</td>\n",
       "      <td>NaN</td>\n",
       "      <td>NaN</td>\n",
       "      <td>NaN</td>\n",
       "      <td>NaN</td>\n",
       "      <td>NaN</td>\n",
       "      <td>NaN</td>\n",
       "      <td>NaN</td>\n",
       "      <td>NaN</td>\n",
       "      <td>NaN</td>\n",
       "      <td>NaN</td>\n",
       "      <td>NaN</td>\n",
       "      <td>NaN</td>\n",
       "      <td>NaN</td>\n",
       "    </tr>\n",
       "    <tr>\n",
       "      <th>freq</th>\n",
       "      <td>97</td>\n",
       "      <td>174</td>\n",
       "      <td>11896</td>\n",
       "      <td>NaN</td>\n",
       "      <td>NaN</td>\n",
       "      <td>NaN</td>\n",
       "      <td>NaN</td>\n",
       "      <td>NaN</td>\n",
       "      <td>NaN</td>\n",
       "      <td>NaN</td>\n",
       "      <td>NaN</td>\n",
       "      <td>NaN</td>\n",
       "      <td>NaN</td>\n",
       "      <td>NaN</td>\n",
       "      <td>NaN</td>\n",
       "      <td>NaN</td>\n",
       "      <td>NaN</td>\n",
       "      <td>NaN</td>\n",
       "    </tr>\n",
       "    <tr>\n",
       "      <th>mean</th>\n",
       "      <td>NaN</td>\n",
       "      <td>NaN</td>\n",
       "      <td>NaN</td>\n",
       "      <td>479.501838</td>\n",
       "      <td>157.391376</td>\n",
       "      <td>34.789832</td>\n",
       "      <td>8.719368</td>\n",
       "      <td>1.283111</td>\n",
       "      <td>1.223608</td>\n",
       "      <td>640.293460</td>\n",
       "      <td>110.596925</td>\n",
       "      <td>87.264543</td>\n",
       "      <td>347.931359</td>\n",
       "      <td>106.053763</td>\n",
       "      <td>1090.379085</td>\n",
       "      <td>73.974653</td>\n",
       "      <td>961.905323</td>\n",
       "      <td>-15.407615</td>\n",
       "    </tr>\n",
       "    <tr>\n",
       "      <th>std</th>\n",
       "      <td>NaN</td>\n",
       "      <td>NaN</td>\n",
       "      <td>NaN</td>\n",
       "      <td>4240.119637</td>\n",
       "      <td>5076.785816</td>\n",
       "      <td>107.287655</td>\n",
       "      <td>24.618223</td>\n",
       "      <td>3.680399</td>\n",
       "      <td>3.598686</td>\n",
       "      <td>9067.267153</td>\n",
       "      <td>1053.318990</td>\n",
       "      <td>717.372714</td>\n",
       "      <td>4475.704458</td>\n",
       "      <td>1113.100416</td>\n",
       "      <td>12067.344094</td>\n",
       "      <td>528.069224</td>\n",
       "      <td>10381.795904</td>\n",
       "      <td>549.834540</td>\n",
       "    </tr>\n",
       "    <tr>\n",
       "      <th>min</th>\n",
       "      <td>NaN</td>\n",
       "      <td>NaN</td>\n",
       "      <td>NaN</td>\n",
       "      <td>0.000000</td>\n",
       "      <td>0.000000</td>\n",
       "      <td>-21.000000</td>\n",
       "      <td>-1.930000</td>\n",
       "      <td>-0.030000</td>\n",
       "      <td>-0.370000</td>\n",
       "      <td>-3430.000000</td>\n",
       "      <td>-41.000000</td>\n",
       "      <td>-201.000000</td>\n",
       "      <td>-246.000000</td>\n",
       "      <td>0.000000</td>\n",
       "      <td>0.000000</td>\n",
       "      <td>0.000000</td>\n",
       "      <td>-19.000000</td>\n",
       "      <td>-39863.000000</td>\n",
       "    </tr>\n",
       "    <tr>\n",
       "      <th>25%</th>\n",
       "      <td>NaN</td>\n",
       "      <td>NaN</td>\n",
       "      <td>NaN</td>\n",
       "      <td>0.000000</td>\n",
       "      <td>0.000000</td>\n",
       "      <td>0.000000</td>\n",
       "      <td>0.060000</td>\n",
       "      <td>0.010000</td>\n",
       "      <td>0.010000</td>\n",
       "      <td>0.000000</td>\n",
       "      <td>0.000000</td>\n",
       "      <td>0.000000</td>\n",
       "      <td>0.000000</td>\n",
       "      <td>0.000000</td>\n",
       "      <td>2.000000</td>\n",
       "      <td>0.000000</td>\n",
       "      <td>0.000000</td>\n",
       "      <td>0.000000</td>\n",
       "    </tr>\n",
       "    <tr>\n",
       "      <th>50%</th>\n",
       "      <td>NaN</td>\n",
       "      <td>NaN</td>\n",
       "      <td>NaN</td>\n",
       "      <td>4.000000</td>\n",
       "      <td>0.000000</td>\n",
       "      <td>4.000000</td>\n",
       "      <td>0.830000</td>\n",
       "      <td>0.080000</td>\n",
       "      <td>0.100000</td>\n",
       "      <td>7.000000</td>\n",
       "      <td>0.000000</td>\n",
       "      <td>2.000000</td>\n",
       "      <td>5.000000</td>\n",
       "      <td>4.000000</td>\n",
       "      <td>22.000000</td>\n",
       "      <td>2.000000</td>\n",
       "      <td>6.000000</td>\n",
       "      <td>0.000000</td>\n",
       "    </tr>\n",
       "    <tr>\n",
       "      <th>75%</th>\n",
       "      <td>NaN</td>\n",
       "      <td>NaN</td>\n",
       "      <td>NaN</td>\n",
       "      <td>74.000000</td>\n",
       "      <td>4.000000</td>\n",
       "      <td>21.000000</td>\n",
       "      <td>5.190000</td>\n",
       "      <td>0.630000</td>\n",
       "      <td>0.660000</td>\n",
       "      <td>76.750000</td>\n",
       "      <td>9.000000</td>\n",
       "      <td>18.000000</td>\n",
       "      <td>52.000000</td>\n",
       "      <td>26.000000</td>\n",
       "      <td>191.250000</td>\n",
       "      <td>17.000000</td>\n",
       "      <td>69.000000</td>\n",
       "      <td>0.000000</td>\n",
       "    </tr>\n",
       "    <tr>\n",
       "      <th>max</th>\n",
       "      <td>NaN</td>\n",
       "      <td>NaN</td>\n",
       "      <td>NaN</td>\n",
       "      <td>150000.000000</td>\n",
       "      <td>347309.000000</td>\n",
       "      <td>1711.000000</td>\n",
       "      <td>430.760000</td>\n",
       "      <td>60.760000</td>\n",
       "      <td>54.970000</td>\n",
       "      <td>739267.000000</td>\n",
       "      <td>42797.000000</td>\n",
       "      <td>63381.000000</td>\n",
       "      <td>426850.000000</td>\n",
       "      <td>55047.000000</td>\n",
       "      <td>739267.000000</td>\n",
       "      <td>17060.000000</td>\n",
       "      <td>326711.000000</td>\n",
       "      <td>5284.000000</td>\n",
       "    </tr>\n",
       "  </tbody>\n",
       "</table>\n",
       "</div>"
      ],
      "text/plain": [
       "         Zone          Produit   Origine  Aliments pour animaux  \\\n",
       "count   15605            15605     15605            2720.000000   \n",
       "unique    174               98         2                    NaN   \n",
       "top     Japon  Pommes de Terre  vegetale                    NaN   \n",
       "freq       97              174     11896                    NaN   \n",
       "mean      NaN              NaN       NaN             479.501838   \n",
       "std       NaN              NaN       NaN            4240.119637   \n",
       "min       NaN              NaN       NaN               0.000000   \n",
       "25%       NaN              NaN       NaN               0.000000   \n",
       "50%       NaN              NaN       NaN               4.000000   \n",
       "75%       NaN              NaN       NaN              74.000000   \n",
       "max       NaN              NaN       NaN          150000.000000   \n",
       "\n",
       "        Autres Utilisations  Disponibilité alimentaire (Kcal/personne/jour)  \\\n",
       "count           5496.000000                                    14241.000000   \n",
       "unique                  NaN                                             NaN   \n",
       "top                     NaN                                             NaN   \n",
       "freq                    NaN                                             NaN   \n",
       "mean             157.391376                                       34.789832   \n",
       "std             5076.785816                                      107.287655   \n",
       "min                0.000000                                      -21.000000   \n",
       "25%                0.000000                                        0.000000   \n",
       "50%                0.000000                                        4.000000   \n",
       "75%                4.000000                                       21.000000   \n",
       "max           347309.000000                                     1711.000000   \n",
       "\n",
       "        Disponibilité alimentaire en quantité (kg/personne/an)  \\\n",
       "count                                        14015.000000        \n",
       "unique                                                NaN        \n",
       "top                                                   NaN        \n",
       "freq                                                  NaN        \n",
       "mean                                             8.719368        \n",
       "std                                             24.618223        \n",
       "min                                             -1.930000        \n",
       "25%                                              0.060000        \n",
       "50%                                              0.830000        \n",
       "75%                                              5.190000        \n",
       "max                                            430.760000        \n",
       "\n",
       "        Disponibilité de matière grasse en quantité (g/personne/jour)  \\\n",
       "count                                        11794.000000               \n",
       "unique                                                NaN               \n",
       "top                                                   NaN               \n",
       "freq                                                  NaN               \n",
       "mean                                             1.283111               \n",
       "std                                              3.680399               \n",
       "min                                             -0.030000               \n",
       "25%                                              0.010000               \n",
       "50%                                              0.080000               \n",
       "75%                                              0.630000               \n",
       "max                                             60.760000               \n",
       "\n",
       "        Disponibilité de protéines en quantité (g/personne/jour)  \\\n",
       "count                                        11561.000000          \n",
       "unique                                                NaN          \n",
       "top                                                   NaN          \n",
       "freq                                                  NaN          \n",
       "mean                                             1.223608          \n",
       "std                                              3.598686          \n",
       "min                                             -0.370000          \n",
       "25%                                              0.010000          \n",
       "50%                                              0.100000          \n",
       "75%                                              0.660000          \n",
       "max                                             54.970000          \n",
       "\n",
       "        Disponibilité intérieure  Exportations - Quantité  \\\n",
       "count               15382.000000             12226.000000   \n",
       "unique                       NaN                      NaN   \n",
       "top                          NaN                      NaN   \n",
       "freq                         NaN                      NaN   \n",
       "mean                  640.293460               110.596925   \n",
       "std                  9067.267153              1053.318990   \n",
       "min                 -3430.000000               -41.000000   \n",
       "25%                     0.000000                 0.000000   \n",
       "50%                     7.000000                 0.000000   \n",
       "75%                    76.750000                 9.000000   \n",
       "max                739267.000000             42797.000000   \n",
       "\n",
       "        Importations - Quantité     Nourriture        Pertes     Production  \\\n",
       "count              14852.000000   14015.000000   4278.000000    9180.000000   \n",
       "unique                      NaN            NaN           NaN            NaN   \n",
       "top                         NaN            NaN           NaN            NaN   \n",
       "freq                        NaN            NaN           NaN            NaN   \n",
       "mean                  87.264543     347.931359    106.053763    1090.379085   \n",
       "std                  717.372714    4475.704458   1113.100416   12067.344094   \n",
       "min                 -201.000000    -246.000000      0.000000       0.000000   \n",
       "25%                    0.000000       0.000000      0.000000       2.000000   \n",
       "50%                    2.000000       5.000000      4.000000      22.000000   \n",
       "75%                   18.000000      52.000000     26.000000     191.250000   \n",
       "max                63381.000000  426850.000000  55047.000000  739267.000000   \n",
       "\n",
       "            Semences     Traitement  Variation de stock  \n",
       "count    2091.000000    2292.000000         6776.000000  \n",
       "unique           NaN            NaN                 NaN  \n",
       "top              NaN            NaN                 NaN  \n",
       "freq             NaN            NaN                 NaN  \n",
       "mean       73.974653     961.905323          -15.407615  \n",
       "std       528.069224   10381.795904          549.834540  \n",
       "min         0.000000     -19.000000       -39863.000000  \n",
       "25%         0.000000       0.000000            0.000000  \n",
       "50%         2.000000       6.000000            0.000000  \n",
       "75%        17.000000      69.000000            0.000000  \n",
       "max     17060.000000  326711.000000         5284.000000  "
      ]
     },
     "execution_count": 158,
     "metadata": {},
     "output_type": "execute_result"
    }
   ],
   "source": [
    "dispo_alimentaire.describe(include=\"all\")"
   ]
  },
  {
   "cell_type": "code",
   "execution_count": 159,
   "id": "ad5fc90b",
   "metadata": {},
   "outputs": [
    {
     "data": {
      "text/plain": [
       "(15605, 18)"
      ]
     },
     "execution_count": 159,
     "metadata": {},
     "output_type": "execute_result"
    }
   ],
   "source": [
    "dispo_alimentaire.shape"
   ]
  },
  {
   "cell_type": "markdown",
   "id": "90048538",
   "metadata": {},
   "source": [
    "### B. Nettoyage du fichier"
   ]
  },
  {
   "cell_type": "code",
   "execution_count": 160,
   "id": "880a45f1",
   "metadata": {},
   "outputs": [],
   "source": [
    "# Changer les noms des colonnes en minuscules\n",
    "dispo_alimentaire.columns = dispo_alimentaire.columns.str.lower()"
   ]
  },
  {
   "cell_type": "code",
   "execution_count": 161,
   "id": "2edf3ecd",
   "metadata": {},
   "outputs": [],
   "source": [
    "# Changer les noms de colonnes\n",
    "dispo_alimentaire = dispo_alimentaire.rename(columns = {\"disponibilité alimentaire (kcal/personne/jour)\":\"dispo_ali_kcal_pers_j\"})"
   ]
  },
  {
   "cell_type": "code",
   "execution_count": 162,
   "id": "173d2b03",
   "metadata": {},
   "outputs": [],
   "source": [
    "dispo_alimentaire = dispo_alimentaire.rename(columns = {\"disponibilité alimentaire en quantité (kg/personne/an)\":\"dispo_ali_kg_pers_an\"})"
   ]
  },
  {
   "cell_type": "code",
   "execution_count": 163,
   "id": "7e1f42c9",
   "metadata": {},
   "outputs": [],
   "source": [
    "dispo_alimentaire = dispo_alimentaire.rename(columns = {\"disponibilité de matière grasse en quantité (g/personne/jour)\":\"dispo_mg_g_pers_j\"})"
   ]
  },
  {
   "cell_type": "code",
   "execution_count": 164,
   "id": "084aa0d2",
   "metadata": {},
   "outputs": [],
   "source": [
    "dispo_alimentaire = dispo_alimentaire.rename(columns = {\"disponibilité de protéines en quantité (g/personne/jour)\":\"dispo_pt_g_pers_j\"})"
   ]
  },
  {
   "cell_type": "code",
   "execution_count": 165,
   "id": "13d01f47",
   "metadata": {},
   "outputs": [],
   "source": [
    "dispo_alimentaire = dispo_alimentaire.rename(columns = {\"aliments pour animaux\":\"aliments_animaux\"})"
   ]
  },
  {
   "cell_type": "code",
   "execution_count": 166,
   "id": "b4fe5d20",
   "metadata": {},
   "outputs": [],
   "source": [
    "dispo_alimentaire = dispo_alimentaire.rename(columns = {\"disponibilité intérieure\":\"dispo_inter\"})"
   ]
  },
  {
   "cell_type": "code",
   "execution_count": 167,
   "id": "95e6da32",
   "metadata": {},
   "outputs": [],
   "source": [
    "dispo_alimentaire = dispo_alimentaire.rename(columns = {\"exportations - quantité\":\"expor_qte\"})"
   ]
  },
  {
   "cell_type": "code",
   "execution_count": 168,
   "id": "503a7284",
   "metadata": {},
   "outputs": [],
   "source": [
    "dispo_alimentaire = dispo_alimentaire.rename(columns = {\"importations - quantité\":\"impor_qte\"})"
   ]
  },
  {
   "cell_type": "code",
   "execution_count": 169,
   "id": "b597985d",
   "metadata": {},
   "outputs": [],
   "source": [
    "dispo_alimentaire = dispo_alimentaire.rename(columns = {\"autres utilisations\":\"autre\"})"
   ]
  },
  {
   "cell_type": "code",
   "execution_count": 170,
   "id": "1f471d8b",
   "metadata": {},
   "outputs": [],
   "source": [
    "dispo_alimentaire = dispo_alimentaire.rename(columns = {\"variation de stock\":\"variation_stock\"})"
   ]
  },
  {
   "cell_type": "code",
   "execution_count": 171,
   "id": "c5eb3fb7",
   "metadata": {},
   "outputs": [
    {
     "data": {
      "text/plain": [
       "0"
      ]
     },
     "execution_count": 171,
     "metadata": {},
     "output_type": "execute_result"
    }
   ],
   "source": [
    "# Trouver le nombre des doublons\n",
    "dispo_alimentaire.duplicated(['zone','produit']).sum()"
   ]
  },
  {
   "cell_type": "code",
   "execution_count": 172,
   "id": "aad8e812",
   "metadata": {},
   "outputs": [
    {
     "data": {
      "text/plain": [
       "zone                     0.000000\n",
       "produit                  0.000000\n",
       "origine                  0.000000\n",
       "aliments_animaux         0.825697\n",
       "autre                    0.647805\n",
       "dispo_ali_kcal_pers_j    0.087408\n",
       "dispo_ali_kg_pers_an     0.101890\n",
       "dispo_mg_g_pers_j        0.244217\n",
       "dispo_pt_g_pers_j        0.259148\n",
       "dispo_inter              0.014290\n",
       "expor_qte                0.216533\n",
       "impor_qte                0.048254\n",
       "nourriture               0.101890\n",
       "pertes                   0.725857\n",
       "production               0.411727\n",
       "semences                 0.866004\n",
       "traitement               0.853124\n",
       "variation_stock          0.565780\n",
       "dtype: float64"
      ]
     },
     "execution_count": 172,
     "metadata": {},
     "output_type": "execute_result"
    }
   ],
   "source": [
    "# Porcentage de valeurs manquantes\n",
    "dispo_alimentaire.isnull().mean()"
   ]
  },
  {
   "cell_type": "code",
   "execution_count": null,
   "id": "9738f6b2",
   "metadata": {},
   "outputs": [],
   "source": []
  },
  {
   "cell_type": "code",
   "execution_count": 173,
   "id": "f9e5575b",
   "metadata": {},
   "outputs": [
    {
     "data": {
      "text/html": [
       "<div>\n",
       "<style scoped>\n",
       "    .dataframe tbody tr th:only-of-type {\n",
       "        vertical-align: middle;\n",
       "    }\n",
       "\n",
       "    .dataframe tbody tr th {\n",
       "        vertical-align: top;\n",
       "    }\n",
       "\n",
       "    .dataframe thead th {\n",
       "        text-align: right;\n",
       "    }\n",
       "</style>\n",
       "<table border=\"1\" class=\"dataframe\">\n",
       "  <thead>\n",
       "    <tr style=\"text-align: right;\">\n",
       "      <th></th>\n",
       "      <th>zone</th>\n",
       "      <th>produit</th>\n",
       "      <th>origine</th>\n",
       "      <th>aliments_animaux</th>\n",
       "      <th>autre</th>\n",
       "      <th>dispo_ali_kcal_pers_j</th>\n",
       "      <th>dispo_ali_kg_pers_an</th>\n",
       "      <th>dispo_mg_g_pers_j</th>\n",
       "      <th>dispo_pt_g_pers_j</th>\n",
       "      <th>dispo_inter</th>\n",
       "      <th>expor_qte</th>\n",
       "      <th>impor_qte</th>\n",
       "      <th>nourriture</th>\n",
       "      <th>pertes</th>\n",
       "      <th>production</th>\n",
       "      <th>semences</th>\n",
       "      <th>traitement</th>\n",
       "      <th>variation_stock</th>\n",
       "    </tr>\n",
       "  </thead>\n",
       "  <tbody>\n",
       "    <tr>\n",
       "      <th>0</th>\n",
       "      <td>Afghanistan</td>\n",
       "      <td>Abats Comestible</td>\n",
       "      <td>animale</td>\n",
       "      <td>NaN</td>\n",
       "      <td>NaN</td>\n",
       "      <td>5.0</td>\n",
       "      <td>1.72</td>\n",
       "      <td>0.20</td>\n",
       "      <td>0.77</td>\n",
       "      <td>53.0</td>\n",
       "      <td>NaN</td>\n",
       "      <td>NaN</td>\n",
       "      <td>53.0</td>\n",
       "      <td>NaN</td>\n",
       "      <td>53.0</td>\n",
       "      <td>NaN</td>\n",
       "      <td>NaN</td>\n",
       "      <td>NaN</td>\n",
       "    </tr>\n",
       "    <tr>\n",
       "      <th>1</th>\n",
       "      <td>Afghanistan</td>\n",
       "      <td>Agrumes, Autres</td>\n",
       "      <td>vegetale</td>\n",
       "      <td>NaN</td>\n",
       "      <td>NaN</td>\n",
       "      <td>1.0</td>\n",
       "      <td>1.29</td>\n",
       "      <td>0.01</td>\n",
       "      <td>0.02</td>\n",
       "      <td>41.0</td>\n",
       "      <td>2.0</td>\n",
       "      <td>40.0</td>\n",
       "      <td>39.0</td>\n",
       "      <td>2.0</td>\n",
       "      <td>3.0</td>\n",
       "      <td>NaN</td>\n",
       "      <td>NaN</td>\n",
       "      <td>NaN</td>\n",
       "    </tr>\n",
       "    <tr>\n",
       "      <th>2</th>\n",
       "      <td>Afghanistan</td>\n",
       "      <td>Aliments pour enfants</td>\n",
       "      <td>vegetale</td>\n",
       "      <td>NaN</td>\n",
       "      <td>NaN</td>\n",
       "      <td>1.0</td>\n",
       "      <td>0.06</td>\n",
       "      <td>0.01</td>\n",
       "      <td>0.03</td>\n",
       "      <td>2.0</td>\n",
       "      <td>NaN</td>\n",
       "      <td>2.0</td>\n",
       "      <td>2.0</td>\n",
       "      <td>NaN</td>\n",
       "      <td>NaN</td>\n",
       "      <td>NaN</td>\n",
       "      <td>NaN</td>\n",
       "      <td>NaN</td>\n",
       "    </tr>\n",
       "    <tr>\n",
       "      <th>3</th>\n",
       "      <td>Afghanistan</td>\n",
       "      <td>Ananas</td>\n",
       "      <td>vegetale</td>\n",
       "      <td>NaN</td>\n",
       "      <td>NaN</td>\n",
       "      <td>0.0</td>\n",
       "      <td>0.00</td>\n",
       "      <td>NaN</td>\n",
       "      <td>NaN</td>\n",
       "      <td>0.0</td>\n",
       "      <td>NaN</td>\n",
       "      <td>0.0</td>\n",
       "      <td>0.0</td>\n",
       "      <td>NaN</td>\n",
       "      <td>NaN</td>\n",
       "      <td>NaN</td>\n",
       "      <td>NaN</td>\n",
       "      <td>NaN</td>\n",
       "    </tr>\n",
       "    <tr>\n",
       "      <th>4</th>\n",
       "      <td>Afghanistan</td>\n",
       "      <td>Bananes</td>\n",
       "      <td>vegetale</td>\n",
       "      <td>NaN</td>\n",
       "      <td>NaN</td>\n",
       "      <td>4.0</td>\n",
       "      <td>2.70</td>\n",
       "      <td>0.02</td>\n",
       "      <td>0.05</td>\n",
       "      <td>82.0</td>\n",
       "      <td>NaN</td>\n",
       "      <td>82.0</td>\n",
       "      <td>82.0</td>\n",
       "      <td>NaN</td>\n",
       "      <td>NaN</td>\n",
       "      <td>NaN</td>\n",
       "      <td>NaN</td>\n",
       "      <td>NaN</td>\n",
       "    </tr>\n",
       "  </tbody>\n",
       "</table>\n",
       "</div>"
      ],
      "text/plain": [
       "          zone                produit   origine  aliments_animaux  autre  \\\n",
       "0  Afghanistan       Abats Comestible   animale               NaN    NaN   \n",
       "1  Afghanistan        Agrumes, Autres  vegetale               NaN    NaN   \n",
       "2  Afghanistan  Aliments pour enfants  vegetale               NaN    NaN   \n",
       "3  Afghanistan                 Ananas  vegetale               NaN    NaN   \n",
       "4  Afghanistan                Bananes  vegetale               NaN    NaN   \n",
       "\n",
       "   dispo_ali_kcal_pers_j  dispo_ali_kg_pers_an  dispo_mg_g_pers_j  \\\n",
       "0                    5.0                  1.72               0.20   \n",
       "1                    1.0                  1.29               0.01   \n",
       "2                    1.0                  0.06               0.01   \n",
       "3                    0.0                  0.00                NaN   \n",
       "4                    4.0                  2.70               0.02   \n",
       "\n",
       "   dispo_pt_g_pers_j  dispo_inter  expor_qte  impor_qte  nourriture  pertes  \\\n",
       "0               0.77         53.0        NaN        NaN        53.0     NaN   \n",
       "1               0.02         41.0        2.0       40.0        39.0     2.0   \n",
       "2               0.03          2.0        NaN        2.0         2.0     NaN   \n",
       "3                NaN          0.0        NaN        0.0         0.0     NaN   \n",
       "4               0.05         82.0        NaN       82.0        82.0     NaN   \n",
       "\n",
       "   production  semences  traitement  variation_stock  \n",
       "0        53.0       NaN         NaN              NaN  \n",
       "1         3.0       NaN         NaN              NaN  \n",
       "2         NaN       NaN         NaN              NaN  \n",
       "3         NaN       NaN         NaN              NaN  \n",
       "4         NaN       NaN         NaN              NaN  "
      ]
     },
     "execution_count": 173,
     "metadata": {},
     "output_type": "execute_result"
    }
   ],
   "source": [
    "dispo_alimentaire.head()"
   ]
  },
  {
   "cell_type": "markdown",
   "id": "f3a5b6e5",
   "metadata": {},
   "source": [
    "### 3. fichier de population qui inclut :\n",
    "-\tLe pays.\n",
    "-\tL’année.\n",
    "-\tLa population du pays, exprimée en milliers d’habitants.\n"
   ]
  },
  {
   "cell_type": "markdown",
   "id": "8d36a268",
   "metadata": {},
   "source": [
    "### A. Lecture du fichier"
   ]
  },
  {
   "cell_type": "code",
   "execution_count": 174,
   "id": "9a181317",
   "metadata": {},
   "outputs": [],
   "source": [
    "population = pd.read_csv(\"D:/Open_work/P4/doc_origine/DAN-P4-FAO/population.csv\")"
   ]
  },
  {
   "cell_type": "code",
   "execution_count": 175,
   "id": "d703bf18",
   "metadata": {},
   "outputs": [
    {
     "data": {
      "text/html": [
       "<div>\n",
       "<style scoped>\n",
       "    .dataframe tbody tr th:only-of-type {\n",
       "        vertical-align: middle;\n",
       "    }\n",
       "\n",
       "    .dataframe tbody tr th {\n",
       "        vertical-align: top;\n",
       "    }\n",
       "\n",
       "    .dataframe thead th {\n",
       "        text-align: right;\n",
       "    }\n",
       "</style>\n",
       "<table border=\"1\" class=\"dataframe\">\n",
       "  <thead>\n",
       "    <tr style=\"text-align: right;\">\n",
       "      <th></th>\n",
       "      <th>Zone</th>\n",
       "      <th>Année</th>\n",
       "      <th>Valeur</th>\n",
       "    </tr>\n",
       "  </thead>\n",
       "  <tbody>\n",
       "    <tr>\n",
       "      <th>0</th>\n",
       "      <td>Afghanistan</td>\n",
       "      <td>2013</td>\n",
       "      <td>32269.589</td>\n",
       "    </tr>\n",
       "    <tr>\n",
       "      <th>1</th>\n",
       "      <td>Afghanistan</td>\n",
       "      <td>2014</td>\n",
       "      <td>33370.794</td>\n",
       "    </tr>\n",
       "    <tr>\n",
       "      <th>2</th>\n",
       "      <td>Afghanistan</td>\n",
       "      <td>2015</td>\n",
       "      <td>34413.603</td>\n",
       "    </tr>\n",
       "    <tr>\n",
       "      <th>3</th>\n",
       "      <td>Afghanistan</td>\n",
       "      <td>2016</td>\n",
       "      <td>35383.032</td>\n",
       "    </tr>\n",
       "    <tr>\n",
       "      <th>4</th>\n",
       "      <td>Afghanistan</td>\n",
       "      <td>2017</td>\n",
       "      <td>36296.113</td>\n",
       "    </tr>\n",
       "  </tbody>\n",
       "</table>\n",
       "</div>"
      ],
      "text/plain": [
       "          Zone  Année     Valeur\n",
       "0  Afghanistan   2013  32269.589\n",
       "1  Afghanistan   2014  33370.794\n",
       "2  Afghanistan   2015  34413.603\n",
       "3  Afghanistan   2016  35383.032\n",
       "4  Afghanistan   2017  36296.113"
      ]
     },
     "execution_count": 175,
     "metadata": {},
     "output_type": "execute_result"
    }
   ],
   "source": [
    "population.head()"
   ]
  },
  {
   "cell_type": "code",
   "execution_count": 176,
   "id": "a63494d9",
   "metadata": {},
   "outputs": [
    {
     "name": "stdout",
     "output_type": "stream",
     "text": [
      "<class 'pandas.core.frame.DataFrame'>\n",
      "RangeIndex: 1416 entries, 0 to 1415\n",
      "Data columns (total 3 columns):\n",
      " #   Column  Non-Null Count  Dtype  \n",
      "---  ------  --------------  -----  \n",
      " 0   Zone    1416 non-null   object \n",
      " 1   Année   1416 non-null   int64  \n",
      " 2   Valeur  1416 non-null   float64\n",
      "dtypes: float64(1), int64(1), object(1)\n",
      "memory usage: 33.3+ KB\n"
     ]
    }
   ],
   "source": [
    "population.info()"
   ]
  },
  {
   "cell_type": "code",
   "execution_count": 177,
   "id": "449eda06",
   "metadata": {},
   "outputs": [
    {
     "data": {
      "text/html": [
       "<div>\n",
       "<style scoped>\n",
       "    .dataframe tbody tr th:only-of-type {\n",
       "        vertical-align: middle;\n",
       "    }\n",
       "\n",
       "    .dataframe tbody tr th {\n",
       "        vertical-align: top;\n",
       "    }\n",
       "\n",
       "    .dataframe thead th {\n",
       "        text-align: right;\n",
       "    }\n",
       "</style>\n",
       "<table border=\"1\" class=\"dataframe\">\n",
       "  <thead>\n",
       "    <tr style=\"text-align: right;\">\n",
       "      <th></th>\n",
       "      <th>Zone</th>\n",
       "      <th>Année</th>\n",
       "      <th>Valeur</th>\n",
       "    </tr>\n",
       "  </thead>\n",
       "  <tbody>\n",
       "    <tr>\n",
       "      <th>count</th>\n",
       "      <td>1416</td>\n",
       "      <td>1416.000000</td>\n",
       "      <td>1.416000e+03</td>\n",
       "    </tr>\n",
       "    <tr>\n",
       "      <th>unique</th>\n",
       "      <td>236</td>\n",
       "      <td>NaN</td>\n",
       "      <td>NaN</td>\n",
       "    </tr>\n",
       "    <tr>\n",
       "      <th>top</th>\n",
       "      <td>Fédération de Russie</td>\n",
       "      <td>NaN</td>\n",
       "      <td>NaN</td>\n",
       "    </tr>\n",
       "    <tr>\n",
       "      <th>freq</th>\n",
       "      <td>6</td>\n",
       "      <td>NaN</td>\n",
       "      <td>NaN</td>\n",
       "    </tr>\n",
       "    <tr>\n",
       "      <th>mean</th>\n",
       "      <td>NaN</td>\n",
       "      <td>2015.500000</td>\n",
       "      <td>3.144793e+04</td>\n",
       "    </tr>\n",
       "    <tr>\n",
       "      <th>std</th>\n",
       "      <td>NaN</td>\n",
       "      <td>1.708428</td>\n",
       "      <td>1.300812e+05</td>\n",
       "    </tr>\n",
       "    <tr>\n",
       "      <th>min</th>\n",
       "      <td>NaN</td>\n",
       "      <td>2013.000000</td>\n",
       "      <td>7.930000e-01</td>\n",
       "    </tr>\n",
       "    <tr>\n",
       "      <th>25%</th>\n",
       "      <td>NaN</td>\n",
       "      <td>2014.000000</td>\n",
       "      <td>3.783410e+02</td>\n",
       "    </tr>\n",
       "    <tr>\n",
       "      <th>50%</th>\n",
       "      <td>NaN</td>\n",
       "      <td>2015.500000</td>\n",
       "      <td>5.126480e+03</td>\n",
       "    </tr>\n",
       "    <tr>\n",
       "      <th>75%</th>\n",
       "      <td>NaN</td>\n",
       "      <td>2017.000000</td>\n",
       "      <td>1.930666e+04</td>\n",
       "    </tr>\n",
       "    <tr>\n",
       "      <th>max</th>\n",
       "      <td>NaN</td>\n",
       "      <td>2018.000000</td>\n",
       "      <td>1.427648e+06</td>\n",
       "    </tr>\n",
       "  </tbody>\n",
       "</table>\n",
       "</div>"
      ],
      "text/plain": [
       "                        Zone        Année        Valeur\n",
       "count                   1416  1416.000000  1.416000e+03\n",
       "unique                   236          NaN           NaN\n",
       "top     Fédération de Russie          NaN           NaN\n",
       "freq                       6          NaN           NaN\n",
       "mean                     NaN  2015.500000  3.144793e+04\n",
       "std                      NaN     1.708428  1.300812e+05\n",
       "min                      NaN  2013.000000  7.930000e-01\n",
       "25%                      NaN  2014.000000  3.783410e+02\n",
       "50%                      NaN  2015.500000  5.126480e+03\n",
       "75%                      NaN  2017.000000  1.930666e+04\n",
       "max                      NaN  2018.000000  1.427648e+06"
      ]
     },
     "execution_count": 177,
     "metadata": {},
     "output_type": "execute_result"
    }
   ],
   "source": [
    "population.describe(include=\"all\")"
   ]
  },
  {
   "cell_type": "code",
   "execution_count": 178,
   "id": "0e4dfaf6",
   "metadata": {},
   "outputs": [
    {
     "data": {
      "text/plain": [
       "(1416, 3)"
      ]
     },
     "execution_count": 178,
     "metadata": {},
     "output_type": "execute_result"
    }
   ],
   "source": [
    "population.shape"
   ]
  },
  {
   "cell_type": "markdown",
   "id": "b27b9dee",
   "metadata": {},
   "source": [
    "### B. Nettoyage du fichier"
   ]
  },
  {
   "cell_type": "code",
   "execution_count": 179,
   "id": "262533aa",
   "metadata": {},
   "outputs": [],
   "source": [
    "# Changer les noms des colonnes en minuscules\n",
    "population.columns = population.columns.str.lower()"
   ]
  },
  {
   "cell_type": "code",
   "execution_count": 180,
   "id": "1986c987",
   "metadata": {},
   "outputs": [],
   "source": [
    "# Changer le nom de colonne de 'valeur' \n",
    "population = population.rename(columns={\"valeur\":\"populations\"})"
   ]
  },
  {
   "cell_type": "code",
   "execution_count": 181,
   "id": "0653ceaa",
   "metadata": {},
   "outputs": [
    {
     "data": {
      "text/plain": [
       "0"
      ]
     },
     "execution_count": 181,
     "metadata": {},
     "output_type": "execute_result"
    }
   ],
   "source": [
    "# Trouver le nombre des doublons\n",
    "population.duplicated(['zone','année']).sum()"
   ]
  },
  {
   "cell_type": "code",
   "execution_count": 182,
   "id": "1a0cea49",
   "metadata": {},
   "outputs": [
    {
     "data": {
      "text/plain": [
       "zone           0.0\n",
       "année          0.0\n",
       "populations    0.0\n",
       "dtype: float64"
      ]
     },
     "execution_count": 182,
     "metadata": {},
     "output_type": "execute_result"
    }
   ],
   "source": [
    "# Porcentage de valeurs manquantes\n",
    "population.isnull().mean()"
   ]
  },
  {
   "cell_type": "code",
   "execution_count": 183,
   "id": "39b00a8c",
   "metadata": {},
   "outputs": [
    {
     "data": {
      "text/html": [
       "<div>\n",
       "<style scoped>\n",
       "    .dataframe tbody tr th:only-of-type {\n",
       "        vertical-align: middle;\n",
       "    }\n",
       "\n",
       "    .dataframe tbody tr th {\n",
       "        vertical-align: top;\n",
       "    }\n",
       "\n",
       "    .dataframe thead th {\n",
       "        text-align: right;\n",
       "    }\n",
       "</style>\n",
       "<table border=\"1\" class=\"dataframe\">\n",
       "  <thead>\n",
       "    <tr style=\"text-align: right;\">\n",
       "      <th></th>\n",
       "      <th>zone</th>\n",
       "      <th>année</th>\n",
       "      <th>populations</th>\n",
       "    </tr>\n",
       "  </thead>\n",
       "  <tbody>\n",
       "    <tr>\n",
       "      <th>0</th>\n",
       "      <td>Afghanistan</td>\n",
       "      <td>2013</td>\n",
       "      <td>32269.589</td>\n",
       "    </tr>\n",
       "    <tr>\n",
       "      <th>1</th>\n",
       "      <td>Afghanistan</td>\n",
       "      <td>2014</td>\n",
       "      <td>33370.794</td>\n",
       "    </tr>\n",
       "    <tr>\n",
       "      <th>2</th>\n",
       "      <td>Afghanistan</td>\n",
       "      <td>2015</td>\n",
       "      <td>34413.603</td>\n",
       "    </tr>\n",
       "    <tr>\n",
       "      <th>3</th>\n",
       "      <td>Afghanistan</td>\n",
       "      <td>2016</td>\n",
       "      <td>35383.032</td>\n",
       "    </tr>\n",
       "    <tr>\n",
       "      <th>4</th>\n",
       "      <td>Afghanistan</td>\n",
       "      <td>2017</td>\n",
       "      <td>36296.113</td>\n",
       "    </tr>\n",
       "  </tbody>\n",
       "</table>\n",
       "</div>"
      ],
      "text/plain": [
       "          zone  année  populations\n",
       "0  Afghanistan   2013    32269.589\n",
       "1  Afghanistan   2014    33370.794\n",
       "2  Afghanistan   2015    34413.603\n",
       "3  Afghanistan   2016    35383.032\n",
       "4  Afghanistan   2017    36296.113"
      ]
     },
     "execution_count": 183,
     "metadata": {},
     "output_type": "execute_result"
    }
   ],
   "source": [
    "population.head()"
   ]
  },
  {
   "cell_type": "markdown",
   "id": "6721741a",
   "metadata": {},
   "source": [
    "### 4. Fichier d’insécurité alimentaire, qui inclut :\n",
    "-\tLe pays.\n",
    "-\tIntervalle d’années.\n",
    "-\tLe nombre de personnes en sous-alimentation en millions d’habitants (ex. : pour l’intervalle 2016-2018, le nombre de personnes correspond à la moyenne sur ces 3 années, on peut le résumer en 2017)."
   ]
  },
  {
   "cell_type": "markdown",
   "id": "5e583249",
   "metadata": {},
   "source": [
    "### A. Lecture du fichier"
   ]
  },
  {
   "cell_type": "code",
   "execution_count": 184,
   "id": "9683d62e",
   "metadata": {},
   "outputs": [],
   "source": [
    "sous_nutrition = pd.read_csv(\"D:/Open_work/P4/doc_origine/DAN-P4-FAO/sous_nutrition.csv\")"
   ]
  },
  {
   "cell_type": "code",
   "execution_count": 185,
   "id": "cc8e0b72",
   "metadata": {},
   "outputs": [
    {
     "data": {
      "text/html": [
       "<div>\n",
       "<style scoped>\n",
       "    .dataframe tbody tr th:only-of-type {\n",
       "        vertical-align: middle;\n",
       "    }\n",
       "\n",
       "    .dataframe tbody tr th {\n",
       "        vertical-align: top;\n",
       "    }\n",
       "\n",
       "    .dataframe thead th {\n",
       "        text-align: right;\n",
       "    }\n",
       "</style>\n",
       "<table border=\"1\" class=\"dataframe\">\n",
       "  <thead>\n",
       "    <tr style=\"text-align: right;\">\n",
       "      <th></th>\n",
       "      <th>Zone</th>\n",
       "      <th>Année</th>\n",
       "      <th>Valeur</th>\n",
       "    </tr>\n",
       "  </thead>\n",
       "  <tbody>\n",
       "    <tr>\n",
       "      <th>0</th>\n",
       "      <td>Afghanistan</td>\n",
       "      <td>2012-2014</td>\n",
       "      <td>8.6</td>\n",
       "    </tr>\n",
       "    <tr>\n",
       "      <th>1</th>\n",
       "      <td>Afghanistan</td>\n",
       "      <td>2013-2015</td>\n",
       "      <td>8.8</td>\n",
       "    </tr>\n",
       "    <tr>\n",
       "      <th>2</th>\n",
       "      <td>Afghanistan</td>\n",
       "      <td>2014-2016</td>\n",
       "      <td>8.9</td>\n",
       "    </tr>\n",
       "    <tr>\n",
       "      <th>3</th>\n",
       "      <td>Afghanistan</td>\n",
       "      <td>2015-2017</td>\n",
       "      <td>9.7</td>\n",
       "    </tr>\n",
       "    <tr>\n",
       "      <th>4</th>\n",
       "      <td>Afghanistan</td>\n",
       "      <td>2016-2018</td>\n",
       "      <td>10.5</td>\n",
       "    </tr>\n",
       "  </tbody>\n",
       "</table>\n",
       "</div>"
      ],
      "text/plain": [
       "          Zone      Année Valeur\n",
       "0  Afghanistan  2012-2014    8.6\n",
       "1  Afghanistan  2013-2015    8.8\n",
       "2  Afghanistan  2014-2016    8.9\n",
       "3  Afghanistan  2015-2017    9.7\n",
       "4  Afghanistan  2016-2018   10.5"
      ]
     },
     "execution_count": 185,
     "metadata": {},
     "output_type": "execute_result"
    }
   ],
   "source": [
    "sous_nutrition.head()"
   ]
  },
  {
   "cell_type": "code",
   "execution_count": 186,
   "id": "a4270128",
   "metadata": {},
   "outputs": [
    {
     "name": "stdout",
     "output_type": "stream",
     "text": [
      "<class 'pandas.core.frame.DataFrame'>\n",
      "RangeIndex: 1218 entries, 0 to 1217\n",
      "Data columns (total 3 columns):\n",
      " #   Column  Non-Null Count  Dtype \n",
      "---  ------  --------------  ----- \n",
      " 0   Zone    1218 non-null   object\n",
      " 1   Année   1218 non-null   object\n",
      " 2   Valeur  624 non-null    object\n",
      "dtypes: object(3)\n",
      "memory usage: 28.7+ KB\n"
     ]
    }
   ],
   "source": [
    "sous_nutrition.info()"
   ]
  },
  {
   "cell_type": "code",
   "execution_count": 187,
   "id": "10b6555f",
   "metadata": {},
   "outputs": [
    {
     "data": {
      "text/html": [
       "<div>\n",
       "<style scoped>\n",
       "    .dataframe tbody tr th:only-of-type {\n",
       "        vertical-align: middle;\n",
       "    }\n",
       "\n",
       "    .dataframe tbody tr th {\n",
       "        vertical-align: top;\n",
       "    }\n",
       "\n",
       "    .dataframe thead th {\n",
       "        text-align: right;\n",
       "    }\n",
       "</style>\n",
       "<table border=\"1\" class=\"dataframe\">\n",
       "  <thead>\n",
       "    <tr style=\"text-align: right;\">\n",
       "      <th></th>\n",
       "      <th>Zone</th>\n",
       "      <th>Année</th>\n",
       "      <th>Valeur</th>\n",
       "    </tr>\n",
       "  </thead>\n",
       "  <tbody>\n",
       "    <tr>\n",
       "      <th>count</th>\n",
       "      <td>1218</td>\n",
       "      <td>1218</td>\n",
       "      <td>624</td>\n",
       "    </tr>\n",
       "    <tr>\n",
       "      <th>unique</th>\n",
       "      <td>203</td>\n",
       "      <td>6</td>\n",
       "      <td>139</td>\n",
       "    </tr>\n",
       "    <tr>\n",
       "      <th>top</th>\n",
       "      <td>Fédération de Russie</td>\n",
       "      <td>2013-2015</td>\n",
       "      <td>&lt;0.1</td>\n",
       "    </tr>\n",
       "    <tr>\n",
       "      <th>freq</th>\n",
       "      <td>6</td>\n",
       "      <td>203</td>\n",
       "      <td>120</td>\n",
       "    </tr>\n",
       "  </tbody>\n",
       "</table>\n",
       "</div>"
      ],
      "text/plain": [
       "                        Zone      Année Valeur\n",
       "count                   1218       1218    624\n",
       "unique                   203          6    139\n",
       "top     Fédération de Russie  2013-2015   <0.1\n",
       "freq                       6        203    120"
      ]
     },
     "execution_count": 187,
     "metadata": {},
     "output_type": "execute_result"
    }
   ],
   "source": [
    "sous_nutrition.describe(include=\"all\")"
   ]
  },
  {
   "cell_type": "code",
   "execution_count": 188,
   "id": "1c51d224",
   "metadata": {},
   "outputs": [
    {
     "data": {
      "text/plain": [
       "(1218, 3)"
      ]
     },
     "execution_count": 188,
     "metadata": {},
     "output_type": "execute_result"
    }
   ],
   "source": [
    "sous_nutrition.shape"
   ]
  },
  {
   "cell_type": "markdown",
   "id": "817f88dc",
   "metadata": {},
   "source": [
    "### B. Nettoyage du fichier"
   ]
  },
  {
   "cell_type": "code",
   "execution_count": 189,
   "id": "c2e251dc",
   "metadata": {},
   "outputs": [],
   "source": [
    "# Changer les noms des colonnes en minuscules\n",
    "sous_nutrition.columns = sous_nutrition.columns.str.lower()"
   ]
  },
  {
   "cell_type": "code",
   "execution_count": 190,
   "id": "c89fdeac",
   "metadata": {},
   "outputs": [],
   "source": [
    "# Changer le nom de colonne de 'valeur' \n",
    "sous_nutrition = sous_nutrition.rename(columns={\"valeur\":\"nbr_pers\"})"
   ]
  },
  {
   "cell_type": "code",
   "execution_count": 191,
   "id": "008bb015",
   "metadata": {},
   "outputs": [
    {
     "data": {
      "text/plain": [
       "zone        0.000000\n",
       "année       0.000000\n",
       "nbr_pers    0.487685\n",
       "dtype: float64"
      ]
     },
     "execution_count": 191,
     "metadata": {},
     "output_type": "execute_result"
    }
   ],
   "source": [
    "sous_nutrition.isnull().mean()"
   ]
  },
  {
   "cell_type": "markdown",
   "id": "a879d914",
   "metadata": {},
   "source": [
    "#### Modifier les donées de le colonne 'année'"
   ]
  },
  {
   "cell_type": "code",
   "execution_count": 192,
   "id": "32bc021e",
   "metadata": {},
   "outputs": [],
   "source": [
    "sous_nutrition['année']= sous_nutrition['année'].apply(lambda x: x.split('-')[0])"
   ]
  },
  {
   "cell_type": "code",
   "execution_count": 193,
   "id": "7079724b",
   "metadata": {},
   "outputs": [],
   "source": [
    "sous_nutrition['année'] = sous_nutrition['année'].astype(int)"
   ]
  },
  {
   "cell_type": "code",
   "execution_count": 194,
   "id": "1017290c",
   "metadata": {},
   "outputs": [],
   "source": [
    "sous_nutrition['année'] = sous_nutrition['année'].apply(lambda x: x+1)"
   ]
  },
  {
   "cell_type": "code",
   "execution_count": 195,
   "id": "a7755280",
   "metadata": {},
   "outputs": [
    {
     "data": {
      "text/html": [
       "<div>\n",
       "<style scoped>\n",
       "    .dataframe tbody tr th:only-of-type {\n",
       "        vertical-align: middle;\n",
       "    }\n",
       "\n",
       "    .dataframe tbody tr th {\n",
       "        vertical-align: top;\n",
       "    }\n",
       "\n",
       "    .dataframe thead th {\n",
       "        text-align: right;\n",
       "    }\n",
       "</style>\n",
       "<table border=\"1\" class=\"dataframe\">\n",
       "  <thead>\n",
       "    <tr style=\"text-align: right;\">\n",
       "      <th></th>\n",
       "      <th>zone</th>\n",
       "      <th>année</th>\n",
       "      <th>nbr_pers</th>\n",
       "    </tr>\n",
       "  </thead>\n",
       "  <tbody>\n",
       "    <tr>\n",
       "      <th>0</th>\n",
       "      <td>Afghanistan</td>\n",
       "      <td>2013</td>\n",
       "      <td>8.6</td>\n",
       "    </tr>\n",
       "    <tr>\n",
       "      <th>1</th>\n",
       "      <td>Afghanistan</td>\n",
       "      <td>2014</td>\n",
       "      <td>8.8</td>\n",
       "    </tr>\n",
       "    <tr>\n",
       "      <th>2</th>\n",
       "      <td>Afghanistan</td>\n",
       "      <td>2015</td>\n",
       "      <td>8.9</td>\n",
       "    </tr>\n",
       "    <tr>\n",
       "      <th>3</th>\n",
       "      <td>Afghanistan</td>\n",
       "      <td>2016</td>\n",
       "      <td>9.7</td>\n",
       "    </tr>\n",
       "    <tr>\n",
       "      <th>4</th>\n",
       "      <td>Afghanistan</td>\n",
       "      <td>2017</td>\n",
       "      <td>10.5</td>\n",
       "    </tr>\n",
       "  </tbody>\n",
       "</table>\n",
       "</div>"
      ],
      "text/plain": [
       "          zone  année nbr_pers\n",
       "0  Afghanistan   2013      8.6\n",
       "1  Afghanistan   2014      8.8\n",
       "2  Afghanistan   2015      8.9\n",
       "3  Afghanistan   2016      9.7\n",
       "4  Afghanistan   2017     10.5"
      ]
     },
     "execution_count": 195,
     "metadata": {},
     "output_type": "execute_result"
    }
   ],
   "source": [
    "sous_nutrition.head()"
   ]
  },
  {
   "cell_type": "code",
   "execution_count": 196,
   "id": "ffcde117",
   "metadata": {},
   "outputs": [
    {
     "data": {
      "text/plain": [
       "array(['8.6', '8.8', '8.9', '9.7', '10.5', '11.1', '2.2', '2.5', '2.8',\n",
       "       '3', '3.1', '3.3', '0.1', '1.3', '1.2', nan, '7.6', '6.2', '5.3',\n",
       "       '5.6', '5.8', '5.7', '1.5', '1.6', '1.1', '1.7', '<0.1', '21.7',\n",
       "       '22.4', '23.3', '22.3', '21.5', '20.9', '0.8', '2', '1.9', '1.8',\n",
       "       '0.4', '0.5', '0.3', '0.2', '3.2', '3.4', '3.6', '3.8', '2.1',\n",
       "       '2.3', '2.4', '0.6', '0.7', '0.9', '3.9', '2.7', '1.4', '4.8',\n",
       "       '4.6', '4.9', '5', '4.4', '4.3', '4.2', '4.5', '26.2', '24.3',\n",
       "       '21.3', '21.1', '2.9', '5.1', '5.2', '5.4', '203.8', '198.3',\n",
       "       '193.1', '190.9', '190.1', '189.2', '23.6', '24', '24.1', '3.7',\n",
       "       '7.3', '7.8', '8.4', '9', '9.1', '10.1', '10', '10.7', '11.5',\n",
       "       '11.9', '11.8', '8.7', '10.3', '11', '1', '5.5', '6.8', '7.9',\n",
       "       '5.9', '7', '9.2', '9.4', '9.6', '6.7', '7.1', '7.2', '14.7',\n",
       "       '17.4', '20.2', '22.2', '22.8', '24.6', '31.1', '28.5', '25.4',\n",
       "       '24.8', '26.1', '14.5', '15.4', '16.5', '15.8', '15.7', '10.8',\n",
       "       '11.2', '11.6', '12', '12.2', '13.5', '13.2', '12.8', '13', '13.4',\n",
       "       '14.1', '4.1', '6.1', '6', '6.5', '2.6', '8', '8.3'], dtype=object)"
      ]
     },
     "execution_count": 196,
     "metadata": {},
     "output_type": "execute_result"
    }
   ],
   "source": [
    "# Trouver le donnée qualitatif\n",
    "sous_nutrition['nbr_pers'].unique()"
   ]
  },
  {
   "cell_type": "code",
   "execution_count": 197,
   "id": "7df94829",
   "metadata": {},
   "outputs": [],
   "source": [
    "# Ramplacer le donnée '<0.1'  par '0'\n",
    "sous_nutrition['nbr_pers'].replace(['<0.1'], 0, inplace=True)"
   ]
  },
  {
   "cell_type": "code",
   "execution_count": 198,
   "id": "b85de2bc",
   "metadata": {},
   "outputs": [
    {
     "data": {
      "text/plain": [
       "array(['8.6', '8.8', '8.9', '9.7', '10.5', '11.1', '2.2', '2.5', '2.8',\n",
       "       '3', '3.1', '3.3', '0.1', '1.3', '1.2', nan, '7.6', '6.2', '5.3',\n",
       "       '5.6', '5.8', '5.7', '1.5', '1.6', '1.1', '1.7', 0, '21.7', '22.4',\n",
       "       '23.3', '22.3', '21.5', '20.9', '0.8', '2', '1.9', '1.8', '0.4',\n",
       "       '0.5', '0.3', '0.2', '3.2', '3.4', '3.6', '3.8', '2.1', '2.3',\n",
       "       '2.4', '0.6', '0.7', '0.9', '3.9', '2.7', '1.4', '4.8', '4.6',\n",
       "       '4.9', '5', '4.4', '4.3', '4.2', '4.5', '26.2', '24.3', '21.3',\n",
       "       '21.1', '2.9', '5.1', '5.2', '5.4', '203.8', '198.3', '193.1',\n",
       "       '190.9', '190.1', '189.2', '23.6', '24', '24.1', '3.7', '7.3',\n",
       "       '7.8', '8.4', '9', '9.1', '10.1', '10', '10.7', '11.5', '11.9',\n",
       "       '11.8', '8.7', '10.3', '11', '1', '5.5', '6.8', '7.9', '5.9', '7',\n",
       "       '9.2', '9.4', '9.6', '6.7', '7.1', '7.2', '14.7', '17.4', '20.2',\n",
       "       '22.2', '22.8', '24.6', '31.1', '28.5', '25.4', '24.8', '26.1',\n",
       "       '14.5', '15.4', '16.5', '15.8', '15.7', '10.8', '11.2', '11.6',\n",
       "       '12', '12.2', '13.5', '13.2', '12.8', '13', '13.4', '14.1', '4.1',\n",
       "       '6.1', '6', '6.5', '2.6', '8', '8.3'], dtype=object)"
      ]
     },
     "execution_count": 198,
     "metadata": {},
     "output_type": "execute_result"
    }
   ],
   "source": [
    "sous_nutrition['nbr_pers'].unique()"
   ]
  },
  {
   "cell_type": "code",
   "execution_count": 199,
   "id": "044e8260",
   "metadata": {},
   "outputs": [],
   "source": [
    "#Vérifier  \"Nan\" sont pour les quelles pays \n",
    "pays_nan=sous_nutrition[sous_nutrition.isnull().T.any()]"
   ]
  },
  {
   "cell_type": "code",
   "execution_count": 200,
   "id": "6bfe3e27",
   "metadata": {},
   "outputs": [
    {
     "data": {
      "text/html": [
       "<div>\n",
       "<style scoped>\n",
       "    .dataframe tbody tr th:only-of-type {\n",
       "        vertical-align: middle;\n",
       "    }\n",
       "\n",
       "    .dataframe tbody tr th {\n",
       "        vertical-align: top;\n",
       "    }\n",
       "\n",
       "    .dataframe thead th {\n",
       "        text-align: right;\n",
       "    }\n",
       "</style>\n",
       "<table border=\"1\" class=\"dataframe\">\n",
       "  <thead>\n",
       "    <tr style=\"text-align: right;\">\n",
       "      <th></th>\n",
       "      <th>zone</th>\n",
       "      <th>année</th>\n",
       "      <th>nbr_pers</th>\n",
       "    </tr>\n",
       "  </thead>\n",
       "  <tbody>\n",
       "    <tr>\n",
       "      <th>24</th>\n",
       "      <td>Allemagne</td>\n",
       "      <td>2013</td>\n",
       "      <td>NaN</td>\n",
       "    </tr>\n",
       "    <tr>\n",
       "      <th>25</th>\n",
       "      <td>Allemagne</td>\n",
       "      <td>2014</td>\n",
       "      <td>NaN</td>\n",
       "    </tr>\n",
       "    <tr>\n",
       "      <th>26</th>\n",
       "      <td>Allemagne</td>\n",
       "      <td>2015</td>\n",
       "      <td>NaN</td>\n",
       "    </tr>\n",
       "    <tr>\n",
       "      <th>27</th>\n",
       "      <td>Allemagne</td>\n",
       "      <td>2016</td>\n",
       "      <td>NaN</td>\n",
       "    </tr>\n",
       "    <tr>\n",
       "      <th>28</th>\n",
       "      <td>Allemagne</td>\n",
       "      <td>2017</td>\n",
       "      <td>NaN</td>\n",
       "    </tr>\n",
       "    <tr>\n",
       "      <th>29</th>\n",
       "      <td>Allemagne</td>\n",
       "      <td>2018</td>\n",
       "      <td>NaN</td>\n",
       "    </tr>\n",
       "    <tr>\n",
       "      <th>30</th>\n",
       "      <td>Andorre</td>\n",
       "      <td>2013</td>\n",
       "      <td>NaN</td>\n",
       "    </tr>\n",
       "    <tr>\n",
       "      <th>31</th>\n",
       "      <td>Andorre</td>\n",
       "      <td>2014</td>\n",
       "      <td>NaN</td>\n",
       "    </tr>\n",
       "    <tr>\n",
       "      <th>32</th>\n",
       "      <td>Andorre</td>\n",
       "      <td>2015</td>\n",
       "      <td>NaN</td>\n",
       "    </tr>\n",
       "    <tr>\n",
       "      <th>33</th>\n",
       "      <td>Andorre</td>\n",
       "      <td>2016</td>\n",
       "      <td>NaN</td>\n",
       "    </tr>\n",
       "    <tr>\n",
       "      <th>34</th>\n",
       "      <td>Andorre</td>\n",
       "      <td>2017</td>\n",
       "      <td>NaN</td>\n",
       "    </tr>\n",
       "    <tr>\n",
       "      <th>35</th>\n",
       "      <td>Andorre</td>\n",
       "      <td>2018</td>\n",
       "      <td>NaN</td>\n",
       "    </tr>\n",
       "    <tr>\n",
       "      <th>42</th>\n",
       "      <td>Antigua-et-Barbuda</td>\n",
       "      <td>2013</td>\n",
       "      <td>NaN</td>\n",
       "    </tr>\n",
       "    <tr>\n",
       "      <th>43</th>\n",
       "      <td>Antigua-et-Barbuda</td>\n",
       "      <td>2014</td>\n",
       "      <td>NaN</td>\n",
       "    </tr>\n",
       "    <tr>\n",
       "      <th>44</th>\n",
       "      <td>Antigua-et-Barbuda</td>\n",
       "      <td>2015</td>\n",
       "      <td>NaN</td>\n",
       "    </tr>\n",
       "    <tr>\n",
       "      <th>45</th>\n",
       "      <td>Antigua-et-Barbuda</td>\n",
       "      <td>2016</td>\n",
       "      <td>NaN</td>\n",
       "    </tr>\n",
       "    <tr>\n",
       "      <th>46</th>\n",
       "      <td>Antigua-et-Barbuda</td>\n",
       "      <td>2017</td>\n",
       "      <td>NaN</td>\n",
       "    </tr>\n",
       "    <tr>\n",
       "      <th>47</th>\n",
       "      <td>Antigua-et-Barbuda</td>\n",
       "      <td>2018</td>\n",
       "      <td>NaN</td>\n",
       "    </tr>\n",
       "    <tr>\n",
       "      <th>55</th>\n",
       "      <td>Argentine</td>\n",
       "      <td>2014</td>\n",
       "      <td>NaN</td>\n",
       "    </tr>\n",
       "    <tr>\n",
       "      <th>66</th>\n",
       "      <td>Australie</td>\n",
       "      <td>2013</td>\n",
       "      <td>NaN</td>\n",
       "    </tr>\n",
       "  </tbody>\n",
       "</table>\n",
       "</div>"
      ],
      "text/plain": [
       "                  zone  année nbr_pers\n",
       "24           Allemagne   2013      NaN\n",
       "25           Allemagne   2014      NaN\n",
       "26           Allemagne   2015      NaN\n",
       "27           Allemagne   2016      NaN\n",
       "28           Allemagne   2017      NaN\n",
       "29           Allemagne   2018      NaN\n",
       "30             Andorre   2013      NaN\n",
       "31             Andorre   2014      NaN\n",
       "32             Andorre   2015      NaN\n",
       "33             Andorre   2016      NaN\n",
       "34             Andorre   2017      NaN\n",
       "35             Andorre   2018      NaN\n",
       "42  Antigua-et-Barbuda   2013      NaN\n",
       "43  Antigua-et-Barbuda   2014      NaN\n",
       "44  Antigua-et-Barbuda   2015      NaN\n",
       "45  Antigua-et-Barbuda   2016      NaN\n",
       "46  Antigua-et-Barbuda   2017      NaN\n",
       "47  Antigua-et-Barbuda   2018      NaN\n",
       "55           Argentine   2014      NaN\n",
       "66           Australie   2013      NaN"
      ]
     },
     "execution_count": 200,
     "metadata": {},
     "output_type": "execute_result"
    }
   ],
   "source": [
    "pays_nan.head(20)"
   ]
  },
  {
   "cell_type": "code",
   "execution_count": 201,
   "id": "3d0bb5a8",
   "metadata": {},
   "outputs": [
    {
     "data": {
      "text/plain": [
       "array(['Allemagne', 'Andorre', 'Antigua-et-Barbuda', 'Argentine',\n",
       "       'Australie', 'Autriche', 'Azerbaïdjan', 'Bahamas', 'Bahreïn',\n",
       "       'Bélarus', 'Belgique', 'Bermudes', 'Bhoutan', 'Bosnie-Herzégovine',\n",
       "       'Brésil', 'Brunéi Darussalam', 'Burundi', 'Canada',\n",
       "       'Chine - RAS de Hong-Kong', 'Chine, continentale', 'Comores',\n",
       "       'Croatie', 'Cuba', 'Danemark', 'Djibouti', 'Érythrée', 'Espagne',\n",
       "       'Estonie', \"États-Unis d'Amérique\", 'Fédération de Russie',\n",
       "       'Finlande', 'France', 'Grèce', 'Grenade', 'Groenland', 'Guinée',\n",
       "       'Guinée équatoriale', 'Guinée-Bissau', 'Hongrie', 'Îles Cook',\n",
       "       'Îles Marshall', 'Irlande', 'Islande', 'Israël', 'Italie', 'Japon',\n",
       "       'Kazakhstan', 'Koweït', 'Lettonie', 'Libye', 'Lituanie',\n",
       "       'Luxembourg', 'Maldives', 'Malte', 'Micronésie (États fédérés de)',\n",
       "       'Monténégro', 'Nauru', 'Niger', 'Nioué', 'Norvège',\n",
       "       'Nouvelle-Zélande', 'Ouganda', 'Palaos', 'Palestine',\n",
       "       'Papouasie-Nouvelle-Guinée', 'Pays-Bas', 'Pologne', 'Porto Rico',\n",
       "       'Portugal', 'Qatar', 'République arabe syrienne',\n",
       "       'République centrafricaine', 'République de Corée',\n",
       "       'République de Moldova', 'République démocratique du Congo',\n",
       "       'République démocratique populaire lao', 'Roumanie',\n",
       "       \"Royaume-Uni de Grande-Bretagne et d'Irlande du Nord\",\n",
       "       'Sainte-Lucie', 'Saint-Kitts-et-Nevis', 'Samoa',\n",
       "       'Samoa américaines', 'Seychelles', 'Singapour', 'Slovénie',\n",
       "       'Somalie', 'Soudan du Sud', 'Suède', 'Suisse', 'Tadjikistan',\n",
       "       'Tchéquie', 'Tokélaou', 'Tonga', 'Tunisie', 'Turquie', 'Tuvalu',\n",
       "       'Ukraine', 'Uruguay', 'Yémen', 'Zambie', 'Zimbabwe'], dtype=object)"
      ]
     },
     "execution_count": 201,
     "metadata": {},
     "output_type": "execute_result"
    }
   ],
   "source": [
    "pays_nan['zone'].unique()"
   ]
  },
  {
   "cell_type": "code",
   "execution_count": 202,
   "id": "be0ec226",
   "metadata": {},
   "outputs": [],
   "source": [
    "sous_nutrition['nbr_pers']=pd.to_numeric(sous_nutrition['nbr_pers'], errors = 'coerce')"
   ]
  },
  {
   "cell_type": "code",
   "execution_count": 203,
   "id": "c2afc237",
   "metadata": {},
   "outputs": [
    {
     "data": {
      "text/plain": [
       "0"
      ]
     },
     "execution_count": 203,
     "metadata": {},
     "output_type": "execute_result"
    }
   ],
   "source": [
    "# Trouver le nombre des doublons\n",
    "sous_nutrition.duplicated(['zone','année']).sum()"
   ]
  },
  {
   "cell_type": "code",
   "execution_count": 204,
   "id": "5e9b0cd7",
   "metadata": {},
   "outputs": [
    {
     "data": {
      "text/plain": [
       "zone        0.000000\n",
       "année       0.000000\n",
       "nbr_pers    0.487685\n",
       "dtype: float64"
      ]
     },
     "execution_count": 204,
     "metadata": {},
     "output_type": "execute_result"
    }
   ],
   "source": [
    "sous_nutrition.isnull().mean()"
   ]
  },
  {
   "cell_type": "code",
   "execution_count": 205,
   "id": "a90b39f7",
   "metadata": {},
   "outputs": [
    {
     "data": {
      "text/html": [
       "<div>\n",
       "<style scoped>\n",
       "    .dataframe tbody tr th:only-of-type {\n",
       "        vertical-align: middle;\n",
       "    }\n",
       "\n",
       "    .dataframe tbody tr th {\n",
       "        vertical-align: top;\n",
       "    }\n",
       "\n",
       "    .dataframe thead th {\n",
       "        text-align: right;\n",
       "    }\n",
       "</style>\n",
       "<table border=\"1\" class=\"dataframe\">\n",
       "  <thead>\n",
       "    <tr style=\"text-align: right;\">\n",
       "      <th></th>\n",
       "      <th>zone</th>\n",
       "      <th>année</th>\n",
       "      <th>nbr_pers</th>\n",
       "    </tr>\n",
       "  </thead>\n",
       "  <tbody>\n",
       "    <tr>\n",
       "      <th>0</th>\n",
       "      <td>Afghanistan</td>\n",
       "      <td>2013</td>\n",
       "      <td>8.6</td>\n",
       "    </tr>\n",
       "    <tr>\n",
       "      <th>1</th>\n",
       "      <td>Afghanistan</td>\n",
       "      <td>2014</td>\n",
       "      <td>8.8</td>\n",
       "    </tr>\n",
       "    <tr>\n",
       "      <th>2</th>\n",
       "      <td>Afghanistan</td>\n",
       "      <td>2015</td>\n",
       "      <td>8.9</td>\n",
       "    </tr>\n",
       "    <tr>\n",
       "      <th>3</th>\n",
       "      <td>Afghanistan</td>\n",
       "      <td>2016</td>\n",
       "      <td>9.7</td>\n",
       "    </tr>\n",
       "    <tr>\n",
       "      <th>4</th>\n",
       "      <td>Afghanistan</td>\n",
       "      <td>2017</td>\n",
       "      <td>10.5</td>\n",
       "    </tr>\n",
       "  </tbody>\n",
       "</table>\n",
       "</div>"
      ],
      "text/plain": [
       "          zone  année  nbr_pers\n",
       "0  Afghanistan   2013       8.6\n",
       "1  Afghanistan   2014       8.8\n",
       "2  Afghanistan   2015       8.9\n",
       "3  Afghanistan   2016       9.7\n",
       "4  Afghanistan   2017      10.5"
      ]
     },
     "execution_count": 205,
     "metadata": {},
     "output_type": "execute_result"
    }
   ],
   "source": [
    "sous_nutrition.head()"
   ]
  },
  {
   "cell_type": "code",
   "execution_count": null,
   "id": "e304e269",
   "metadata": {},
   "outputs": [],
   "source": []
  },
  {
   "cell_type": "markdown",
   "id": "8c725a27",
   "metadata": {},
   "source": [
    "## Partie 2 - MISSION (Marc)"
   ]
  },
  {
   "cell_type": "markdown",
   "id": "5ac96e47",
   "metadata": {},
   "source": [
    "### 1. La proportion de personnes en état de sous-nutrition pour l’année 2017"
   ]
  },
  {
   "cell_type": "markdown",
   "id": "d2f2f943",
   "metadata": {},
   "source": [
    "**A. Population en 2017 par pays (exprimée en milliers d’habitants)**"
   ]
  },
  {
   "cell_type": "code",
   "execution_count": 206,
   "id": "7d752802",
   "metadata": {},
   "outputs": [
    {
     "data": {
      "text/html": [
       "<div>\n",
       "<style scoped>\n",
       "    .dataframe tbody tr th:only-of-type {\n",
       "        vertical-align: middle;\n",
       "    }\n",
       "\n",
       "    .dataframe tbody tr th {\n",
       "        vertical-align: top;\n",
       "    }\n",
       "\n",
       "    .dataframe thead th {\n",
       "        text-align: right;\n",
       "    }\n",
       "</style>\n",
       "<table border=\"1\" class=\"dataframe\">\n",
       "  <thead>\n",
       "    <tr style=\"text-align: right;\">\n",
       "      <th></th>\n",
       "      <th>zone</th>\n",
       "      <th>année</th>\n",
       "      <th>populations</th>\n",
       "    </tr>\n",
       "  </thead>\n",
       "  <tbody>\n",
       "    <tr>\n",
       "      <th>4</th>\n",
       "      <td>Afghanistan</td>\n",
       "      <td>2017</td>\n",
       "      <td>36296.113</td>\n",
       "    </tr>\n",
       "    <tr>\n",
       "      <th>10</th>\n",
       "      <td>Afrique du Sud</td>\n",
       "      <td>2017</td>\n",
       "      <td>57009.756</td>\n",
       "    </tr>\n",
       "    <tr>\n",
       "      <th>16</th>\n",
       "      <td>Albanie</td>\n",
       "      <td>2017</td>\n",
       "      <td>2884.169</td>\n",
       "    </tr>\n",
       "    <tr>\n",
       "      <th>22</th>\n",
       "      <td>Algérie</td>\n",
       "      <td>2017</td>\n",
       "      <td>41389.189</td>\n",
       "    </tr>\n",
       "    <tr>\n",
       "      <th>28</th>\n",
       "      <td>Allemagne</td>\n",
       "      <td>2017</td>\n",
       "      <td>82658.409</td>\n",
       "    </tr>\n",
       "  </tbody>\n",
       "</table>\n",
       "</div>"
      ],
      "text/plain": [
       "              zone  année  populations\n",
       "4      Afghanistan   2017    36296.113\n",
       "10  Afrique du Sud   2017    57009.756\n",
       "16         Albanie   2017     2884.169\n",
       "22         Algérie   2017    41389.189\n",
       "28       Allemagne   2017    82658.409"
      ]
     },
     "execution_count": 206,
     "metadata": {},
     "output_type": "execute_result"
    }
   ],
   "source": [
    "popu_17 = population.loc[population['année'] == 2017, :]\n",
    "popu_17.head()"
   ]
  },
  {
   "cell_type": "markdown",
   "id": "5f5c092b",
   "metadata": {},
   "source": [
    "**B. Nombre de personnes en sous-nutrition 2017 (exprimée en millions d’habitants)**"
   ]
  },
  {
   "cell_type": "code",
   "execution_count": 207,
   "id": "dc411349",
   "metadata": {},
   "outputs": [],
   "source": [
    "sous_nutrition_17 = sous_nutrition.loc[sous_nutrition['année'] == 2017, :].copy()"
   ]
  },
  {
   "cell_type": "code",
   "execution_count": 208,
   "id": "38417f77",
   "metadata": {},
   "outputs": [
    {
     "data": {
      "text/html": [
       "<div>\n",
       "<style scoped>\n",
       "    .dataframe tbody tr th:only-of-type {\n",
       "        vertical-align: middle;\n",
       "    }\n",
       "\n",
       "    .dataframe tbody tr th {\n",
       "        vertical-align: top;\n",
       "    }\n",
       "\n",
       "    .dataframe thead th {\n",
       "        text-align: right;\n",
       "    }\n",
       "</style>\n",
       "<table border=\"1\" class=\"dataframe\">\n",
       "  <thead>\n",
       "    <tr style=\"text-align: right;\">\n",
       "      <th></th>\n",
       "      <th>zone</th>\n",
       "      <th>année</th>\n",
       "      <th>nbr_pers</th>\n",
       "    </tr>\n",
       "  </thead>\n",
       "  <tbody>\n",
       "    <tr>\n",
       "      <th>4</th>\n",
       "      <td>Afghanistan</td>\n",
       "      <td>2017</td>\n",
       "      <td>10.5</td>\n",
       "    </tr>\n",
       "    <tr>\n",
       "      <th>10</th>\n",
       "      <td>Afrique du Sud</td>\n",
       "      <td>2017</td>\n",
       "      <td>3.1</td>\n",
       "    </tr>\n",
       "    <tr>\n",
       "      <th>16</th>\n",
       "      <td>Albanie</td>\n",
       "      <td>2017</td>\n",
       "      <td>0.1</td>\n",
       "    </tr>\n",
       "    <tr>\n",
       "      <th>22</th>\n",
       "      <td>Algérie</td>\n",
       "      <td>2017</td>\n",
       "      <td>1.3</td>\n",
       "    </tr>\n",
       "    <tr>\n",
       "      <th>28</th>\n",
       "      <td>Allemagne</td>\n",
       "      <td>2017</td>\n",
       "      <td>NaN</td>\n",
       "    </tr>\n",
       "  </tbody>\n",
       "</table>\n",
       "</div>"
      ],
      "text/plain": [
       "              zone  année  nbr_pers\n",
       "4      Afghanistan   2017      10.5\n",
       "10  Afrique du Sud   2017       3.1\n",
       "16         Albanie   2017       0.1\n",
       "22         Algérie   2017       1.3\n",
       "28       Allemagne   2017       NaN"
      ]
     },
     "execution_count": 208,
     "metadata": {},
     "output_type": "execute_result"
    }
   ],
   "source": [
    "sous_nutrition_17.head()"
   ]
  },
  {
   "cell_type": "markdown",
   "id": "494f54f3",
   "metadata": {},
   "source": [
    "**C. Calcul de la proportion de personnes en sous-nutrition**"
   ]
  },
  {
   "cell_type": "code",
   "execution_count": 209,
   "id": "5be46f45",
   "metadata": {},
   "outputs": [
    {
     "data": {
      "text/html": [
       "<div>\n",
       "<style scoped>\n",
       "    .dataframe tbody tr th:only-of-type {\n",
       "        vertical-align: middle;\n",
       "    }\n",
       "\n",
       "    .dataframe tbody tr th {\n",
       "        vertical-align: top;\n",
       "    }\n",
       "\n",
       "    .dataframe thead th {\n",
       "        text-align: right;\n",
       "    }\n",
       "</style>\n",
       "<table border=\"1\" class=\"dataframe\">\n",
       "  <thead>\n",
       "    <tr style=\"text-align: right;\">\n",
       "      <th></th>\n",
       "      <th>zone</th>\n",
       "      <th>année</th>\n",
       "      <th>populations</th>\n",
       "      <th>nbr_pers</th>\n",
       "    </tr>\n",
       "  </thead>\n",
       "  <tbody>\n",
       "    <tr>\n",
       "      <th>0</th>\n",
       "      <td>Afghanistan</td>\n",
       "      <td>2017</td>\n",
       "      <td>36296.113</td>\n",
       "      <td>10.5</td>\n",
       "    </tr>\n",
       "    <tr>\n",
       "      <th>1</th>\n",
       "      <td>Afrique du Sud</td>\n",
       "      <td>2017</td>\n",
       "      <td>57009.756</td>\n",
       "      <td>3.1</td>\n",
       "    </tr>\n",
       "    <tr>\n",
       "      <th>2</th>\n",
       "      <td>Albanie</td>\n",
       "      <td>2017</td>\n",
       "      <td>2884.169</td>\n",
       "      <td>0.1</td>\n",
       "    </tr>\n",
       "    <tr>\n",
       "      <th>3</th>\n",
       "      <td>Algérie</td>\n",
       "      <td>2017</td>\n",
       "      <td>41389.189</td>\n",
       "      <td>1.3</td>\n",
       "    </tr>\n",
       "    <tr>\n",
       "      <th>4</th>\n",
       "      <td>Allemagne</td>\n",
       "      <td>2017</td>\n",
       "      <td>82658.409</td>\n",
       "      <td>NaN</td>\n",
       "    </tr>\n",
       "  </tbody>\n",
       "</table>\n",
       "</div>"
      ],
      "text/plain": [
       "             zone  année  populations  nbr_pers\n",
       "0     Afghanistan   2017    36296.113      10.5\n",
       "1  Afrique du Sud   2017    57009.756       3.1\n",
       "2         Albanie   2017     2884.169       0.1\n",
       "3         Algérie   2017    41389.189       1.3\n",
       "4       Allemagne   2017    82658.409       NaN"
      ]
     },
     "execution_count": 209,
     "metadata": {},
     "output_type": "execute_result"
    }
   ],
   "source": [
    "#Jointure\n",
    "popu_sous = pd.merge(popu_17,sous_nutrition_17, how='inner', on = ['zone','année'])\n",
    "popu_sous.head()"
   ]
  },
  {
   "cell_type": "code",
   "execution_count": 210,
   "id": "944fd406",
   "metadata": {},
   "outputs": [],
   "source": [
    "# calcul de la proportion de personnes en sous-nutrition\n",
    "proportion = 100*(popu_sous['nbr_pers'].sum()*1000)/(popu_sous['populations'].sum())"
   ]
  },
  {
   "cell_type": "markdown",
   "id": "6b186fa6",
   "metadata": {},
   "source": [
    "**D. Résultat :**"
   ]
  },
  {
   "cell_type": "code",
   "execution_count": 211,
   "id": "8a2325b4",
   "metadata": {},
   "outputs": [
    {
     "name": "stdout",
     "output_type": "stream",
     "text": [
      "La proportion de personnes en état de sous-nutrition pour l’année 2017:  7.1 %\n"
     ]
    }
   ],
   "source": [
    "print(\"La proportion de personnes en état de sous-nutrition pour l’année 2017: \", proportion.round(2),\"%\")"
   ]
  },
  {
   "cell_type": "code",
   "execution_count": null,
   "id": "dc698ec8",
   "metadata": {},
   "outputs": [],
   "source": []
  },
  {
   "cell_type": "markdown",
   "id": "b12251d2",
   "metadata": {},
   "source": [
    "### 2. Le nombre théorique de personnes qui pourraient être nourries en 2017\n",
    "Tu devrais pouvoir calculer ça à partir de la disponibilité alimentaire mondiale "
   ]
  },
  {
   "cell_type": "markdown",
   "id": "b0223a14",
   "metadata": {},
   "source": [
    "**A. Calculer le nombre total de kcal en 2017** "
   ]
  },
  {
   "cell_type": "code",
   "execution_count": 212,
   "id": "e3af3364",
   "metadata": {},
   "outputs": [
    {
     "data": {
      "text/html": [
       "<div>\n",
       "<style scoped>\n",
       "    .dataframe tbody tr th:only-of-type {\n",
       "        vertical-align: middle;\n",
       "    }\n",
       "\n",
       "    .dataframe tbody tr th {\n",
       "        vertical-align: top;\n",
       "    }\n",
       "\n",
       "    .dataframe thead th {\n",
       "        text-align: right;\n",
       "    }\n",
       "</style>\n",
       "<table border=\"1\" class=\"dataframe\">\n",
       "  <thead>\n",
       "    <tr style=\"text-align: right;\">\n",
       "      <th></th>\n",
       "      <th>zone</th>\n",
       "      <th>produit</th>\n",
       "      <th>origine</th>\n",
       "      <th>aliments_animaux</th>\n",
       "      <th>autre</th>\n",
       "      <th>dispo_ali_kcal_pers_j</th>\n",
       "      <th>dispo_ali_kg_pers_an</th>\n",
       "      <th>dispo_mg_g_pers_j</th>\n",
       "      <th>dispo_pt_g_pers_j</th>\n",
       "      <th>dispo_inter</th>\n",
       "      <th>expor_qte</th>\n",
       "      <th>impor_qte</th>\n",
       "      <th>nourriture</th>\n",
       "      <th>pertes</th>\n",
       "      <th>production</th>\n",
       "      <th>semences</th>\n",
       "      <th>traitement</th>\n",
       "      <th>variation_stock</th>\n",
       "      <th>année</th>\n",
       "      <th>populations</th>\n",
       "    </tr>\n",
       "  </thead>\n",
       "  <tbody>\n",
       "    <tr>\n",
       "      <th>0</th>\n",
       "      <td>Afghanistan</td>\n",
       "      <td>Abats Comestible</td>\n",
       "      <td>animale</td>\n",
       "      <td>NaN</td>\n",
       "      <td>NaN</td>\n",
       "      <td>5.0</td>\n",
       "      <td>1.72</td>\n",
       "      <td>0.20</td>\n",
       "      <td>0.77</td>\n",
       "      <td>53.0</td>\n",
       "      <td>NaN</td>\n",
       "      <td>NaN</td>\n",
       "      <td>53.0</td>\n",
       "      <td>NaN</td>\n",
       "      <td>53.0</td>\n",
       "      <td>NaN</td>\n",
       "      <td>NaN</td>\n",
       "      <td>NaN</td>\n",
       "      <td>2017</td>\n",
       "      <td>36296.113</td>\n",
       "    </tr>\n",
       "    <tr>\n",
       "      <th>1</th>\n",
       "      <td>Afghanistan</td>\n",
       "      <td>Agrumes, Autres</td>\n",
       "      <td>vegetale</td>\n",
       "      <td>NaN</td>\n",
       "      <td>NaN</td>\n",
       "      <td>1.0</td>\n",
       "      <td>1.29</td>\n",
       "      <td>0.01</td>\n",
       "      <td>0.02</td>\n",
       "      <td>41.0</td>\n",
       "      <td>2.0</td>\n",
       "      <td>40.0</td>\n",
       "      <td>39.0</td>\n",
       "      <td>2.0</td>\n",
       "      <td>3.0</td>\n",
       "      <td>NaN</td>\n",
       "      <td>NaN</td>\n",
       "      <td>NaN</td>\n",
       "      <td>2017</td>\n",
       "      <td>36296.113</td>\n",
       "    </tr>\n",
       "    <tr>\n",
       "      <th>2</th>\n",
       "      <td>Afghanistan</td>\n",
       "      <td>Aliments pour enfants</td>\n",
       "      <td>vegetale</td>\n",
       "      <td>NaN</td>\n",
       "      <td>NaN</td>\n",
       "      <td>1.0</td>\n",
       "      <td>0.06</td>\n",
       "      <td>0.01</td>\n",
       "      <td>0.03</td>\n",
       "      <td>2.0</td>\n",
       "      <td>NaN</td>\n",
       "      <td>2.0</td>\n",
       "      <td>2.0</td>\n",
       "      <td>NaN</td>\n",
       "      <td>NaN</td>\n",
       "      <td>NaN</td>\n",
       "      <td>NaN</td>\n",
       "      <td>NaN</td>\n",
       "      <td>2017</td>\n",
       "      <td>36296.113</td>\n",
       "    </tr>\n",
       "    <tr>\n",
       "      <th>3</th>\n",
       "      <td>Afghanistan</td>\n",
       "      <td>Ananas</td>\n",
       "      <td>vegetale</td>\n",
       "      <td>NaN</td>\n",
       "      <td>NaN</td>\n",
       "      <td>0.0</td>\n",
       "      <td>0.00</td>\n",
       "      <td>NaN</td>\n",
       "      <td>NaN</td>\n",
       "      <td>0.0</td>\n",
       "      <td>NaN</td>\n",
       "      <td>0.0</td>\n",
       "      <td>0.0</td>\n",
       "      <td>NaN</td>\n",
       "      <td>NaN</td>\n",
       "      <td>NaN</td>\n",
       "      <td>NaN</td>\n",
       "      <td>NaN</td>\n",
       "      <td>2017</td>\n",
       "      <td>36296.113</td>\n",
       "    </tr>\n",
       "    <tr>\n",
       "      <th>4</th>\n",
       "      <td>Afghanistan</td>\n",
       "      <td>Bananes</td>\n",
       "      <td>vegetale</td>\n",
       "      <td>NaN</td>\n",
       "      <td>NaN</td>\n",
       "      <td>4.0</td>\n",
       "      <td>2.70</td>\n",
       "      <td>0.02</td>\n",
       "      <td>0.05</td>\n",
       "      <td>82.0</td>\n",
       "      <td>NaN</td>\n",
       "      <td>82.0</td>\n",
       "      <td>82.0</td>\n",
       "      <td>NaN</td>\n",
       "      <td>NaN</td>\n",
       "      <td>NaN</td>\n",
       "      <td>NaN</td>\n",
       "      <td>NaN</td>\n",
       "      <td>2017</td>\n",
       "      <td>36296.113</td>\n",
       "    </tr>\n",
       "  </tbody>\n",
       "</table>\n",
       "</div>"
      ],
      "text/plain": [
       "          zone                produit   origine  aliments_animaux  autre  \\\n",
       "0  Afghanistan       Abats Comestible   animale               NaN    NaN   \n",
       "1  Afghanistan        Agrumes, Autres  vegetale               NaN    NaN   \n",
       "2  Afghanistan  Aliments pour enfants  vegetale               NaN    NaN   \n",
       "3  Afghanistan                 Ananas  vegetale               NaN    NaN   \n",
       "4  Afghanistan                Bananes  vegetale               NaN    NaN   \n",
       "\n",
       "   dispo_ali_kcal_pers_j  dispo_ali_kg_pers_an  dispo_mg_g_pers_j  \\\n",
       "0                    5.0                  1.72               0.20   \n",
       "1                    1.0                  1.29               0.01   \n",
       "2                    1.0                  0.06               0.01   \n",
       "3                    0.0                  0.00                NaN   \n",
       "4                    4.0                  2.70               0.02   \n",
       "\n",
       "   dispo_pt_g_pers_j  dispo_inter  expor_qte  impor_qte  nourriture  pertes  \\\n",
       "0               0.77         53.0        NaN        NaN        53.0     NaN   \n",
       "1               0.02         41.0        2.0       40.0        39.0     2.0   \n",
       "2               0.03          2.0        NaN        2.0         2.0     NaN   \n",
       "3                NaN          0.0        NaN        0.0         0.0     NaN   \n",
       "4               0.05         82.0        NaN       82.0        82.0     NaN   \n",
       "\n",
       "   production  semences  traitement  variation_stock  année  populations  \n",
       "0        53.0       NaN         NaN              NaN   2017    36296.113  \n",
       "1         3.0       NaN         NaN              NaN   2017    36296.113  \n",
       "2         NaN       NaN         NaN              NaN   2017    36296.113  \n",
       "3         NaN       NaN         NaN              NaN   2017    36296.113  \n",
       "4         NaN       NaN         NaN              NaN   2017    36296.113  "
      ]
     },
     "execution_count": 212,
     "metadata": {},
     "output_type": "execute_result"
    }
   ],
   "source": [
    "# Jointure entre la table 'dispo_alimenataire' et 'popu_17'\n",
    "df1 = pd.merge(dispo_alimentaire, popu_17, how = 'inner', on = 'zone')\n",
    "df1.head()"
   ]
  },
  {
   "cell_type": "code",
   "execution_count": 213,
   "id": "9f29d612",
   "metadata": {},
   "outputs": [],
   "source": [
    "# Calculer le nombre total de kcal (population exprimée en milliers d’habitants)\n",
    "kcal_an = df1['dispo_ali_kcal_pers_j'] * (df1['populations']*1000) * 365\n",
    "kcal_total = kcal_an.sum()"
   ]
  },
  {
   "cell_type": "code",
   "execution_count": 214,
   "id": "230175b9",
   "metadata": {},
   "outputs": [
    {
     "name": "stdout",
     "output_type": "stream",
     "text": [
      "Le nombre total de kcalkcal_total: 7.64e+15\n"
     ]
    }
   ],
   "source": [
    "print(\"Le nombre total de kcalkcal_total:\", \"%.2e\" %kcal_total)"
   ]
  },
  {
   "cell_type": "markdown",
   "id": "0e77a7a5",
   "metadata": {},
   "source": [
    "**B. Calculer le nombre théorique de personnes qui pourraient être nourries**"
   ]
  },
  {
   "cell_type": "code",
   "execution_count": 215,
   "id": "8941c072",
   "metadata": {},
   "outputs": [],
   "source": [
    "# Kcal nécessaures pour une personne par jour\n",
    "kcal_pers = 2500"
   ]
  },
  {
   "cell_type": "code",
   "execution_count": 216,
   "id": "8eed1bae",
   "metadata": {},
   "outputs": [
    {
     "name": "stdout",
     "output_type": "stream",
     "text": [
      "8367593850.9324\n"
     ]
    }
   ],
   "source": [
    "dispo_pers = kcal_total /(kcal_pers * 365)\n",
    "print( dispo_pers)"
   ]
  },
  {
   "cell_type": "markdown",
   "id": "4d1f9f58",
   "metadata": {},
   "source": [
    "**C. Résultat :**"
   ]
  },
  {
   "cell_type": "code",
   "execution_count": 217,
   "id": "9871d4a8",
   "metadata": {},
   "outputs": [
    {
     "name": "stdout",
     "output_type": "stream",
     "text": [
      " Le nombre théorique de personnes qui pourraient être nourries en 2017:  8.368e+09\n"
     ]
    }
   ],
   "source": [
    "print(\" Le nombre théorique de personnes qui pourraient être nourries en 2017: \", \"%.3e\" %dispo_pers)"
   ]
  },
  {
   "cell_type": "code",
   "execution_count": null,
   "id": "c7d273e7",
   "metadata": {},
   "outputs": [],
   "source": []
  },
  {
   "cell_type": "markdown",
   "id": "0b91b465",
   "metadata": {},
   "source": [
    "### 3. Le nombre théorique de personnes qui pourraient être nourries par les produits végétaux en 2017"
   ]
  },
  {
   "cell_type": "markdown",
   "id": "54a1ab94",
   "metadata": {},
   "source": [
    "**A. Créer la dataframe avec les donées aux produits végétaux  et polpulation**"
   ]
  },
  {
   "cell_type": "code",
   "execution_count": 218,
   "id": "7c57c0ba",
   "metadata": {},
   "outputs": [],
   "source": [
    "# Choisir les donées relatives aux produits végétaux\n",
    "dispo_vege = dispo_alimentaire.loc[dispo_alimentaire['origine'] == 'vegetale', :]"
   ]
  },
  {
   "cell_type": "code",
   "execution_count": 219,
   "id": "b383c0fe",
   "metadata": {},
   "outputs": [],
   "source": [
    "# Jointure entre les tables 'dispo_vege' et 'popu_17'\n",
    "df2 = pd.merge(dispo_vege, popu_17, how = 'inner', on = 'zone')"
   ]
  },
  {
   "cell_type": "code",
   "execution_count": 220,
   "id": "1cb43613",
   "metadata": {},
   "outputs": [
    {
     "data": {
      "text/html": [
       "<div>\n",
       "<style scoped>\n",
       "    .dataframe tbody tr th:only-of-type {\n",
       "        vertical-align: middle;\n",
       "    }\n",
       "\n",
       "    .dataframe tbody tr th {\n",
       "        vertical-align: top;\n",
       "    }\n",
       "\n",
       "    .dataframe thead th {\n",
       "        text-align: right;\n",
       "    }\n",
       "</style>\n",
       "<table border=\"1\" class=\"dataframe\">\n",
       "  <thead>\n",
       "    <tr style=\"text-align: right;\">\n",
       "      <th></th>\n",
       "      <th>zone</th>\n",
       "      <th>produit</th>\n",
       "      <th>origine</th>\n",
       "      <th>aliments_animaux</th>\n",
       "      <th>autre</th>\n",
       "      <th>dispo_ali_kcal_pers_j</th>\n",
       "      <th>dispo_ali_kg_pers_an</th>\n",
       "      <th>dispo_mg_g_pers_j</th>\n",
       "      <th>dispo_pt_g_pers_j</th>\n",
       "      <th>dispo_inter</th>\n",
       "      <th>expor_qte</th>\n",
       "      <th>impor_qte</th>\n",
       "      <th>nourriture</th>\n",
       "      <th>pertes</th>\n",
       "      <th>production</th>\n",
       "      <th>semences</th>\n",
       "      <th>traitement</th>\n",
       "      <th>variation_stock</th>\n",
       "      <th>année</th>\n",
       "      <th>populations</th>\n",
       "    </tr>\n",
       "  </thead>\n",
       "  <tbody>\n",
       "    <tr>\n",
       "      <th>0</th>\n",
       "      <td>Afghanistan</td>\n",
       "      <td>Agrumes, Autres</td>\n",
       "      <td>vegetale</td>\n",
       "      <td>NaN</td>\n",
       "      <td>NaN</td>\n",
       "      <td>1.0</td>\n",
       "      <td>1.29</td>\n",
       "      <td>0.01</td>\n",
       "      <td>0.02</td>\n",
       "      <td>41.0</td>\n",
       "      <td>2.0</td>\n",
       "      <td>40.0</td>\n",
       "      <td>39.0</td>\n",
       "      <td>2.0</td>\n",
       "      <td>3.0</td>\n",
       "      <td>NaN</td>\n",
       "      <td>NaN</td>\n",
       "      <td>NaN</td>\n",
       "      <td>2017</td>\n",
       "      <td>36296.113</td>\n",
       "    </tr>\n",
       "    <tr>\n",
       "      <th>1</th>\n",
       "      <td>Afghanistan</td>\n",
       "      <td>Aliments pour enfants</td>\n",
       "      <td>vegetale</td>\n",
       "      <td>NaN</td>\n",
       "      <td>NaN</td>\n",
       "      <td>1.0</td>\n",
       "      <td>0.06</td>\n",
       "      <td>0.01</td>\n",
       "      <td>0.03</td>\n",
       "      <td>2.0</td>\n",
       "      <td>NaN</td>\n",
       "      <td>2.0</td>\n",
       "      <td>2.0</td>\n",
       "      <td>NaN</td>\n",
       "      <td>NaN</td>\n",
       "      <td>NaN</td>\n",
       "      <td>NaN</td>\n",
       "      <td>NaN</td>\n",
       "      <td>2017</td>\n",
       "      <td>36296.113</td>\n",
       "    </tr>\n",
       "    <tr>\n",
       "      <th>2</th>\n",
       "      <td>Afghanistan</td>\n",
       "      <td>Ananas</td>\n",
       "      <td>vegetale</td>\n",
       "      <td>NaN</td>\n",
       "      <td>NaN</td>\n",
       "      <td>0.0</td>\n",
       "      <td>0.00</td>\n",
       "      <td>NaN</td>\n",
       "      <td>NaN</td>\n",
       "      <td>0.0</td>\n",
       "      <td>NaN</td>\n",
       "      <td>0.0</td>\n",
       "      <td>0.0</td>\n",
       "      <td>NaN</td>\n",
       "      <td>NaN</td>\n",
       "      <td>NaN</td>\n",
       "      <td>NaN</td>\n",
       "      <td>NaN</td>\n",
       "      <td>2017</td>\n",
       "      <td>36296.113</td>\n",
       "    </tr>\n",
       "    <tr>\n",
       "      <th>3</th>\n",
       "      <td>Afghanistan</td>\n",
       "      <td>Bananes</td>\n",
       "      <td>vegetale</td>\n",
       "      <td>NaN</td>\n",
       "      <td>NaN</td>\n",
       "      <td>4.0</td>\n",
       "      <td>2.70</td>\n",
       "      <td>0.02</td>\n",
       "      <td>0.05</td>\n",
       "      <td>82.0</td>\n",
       "      <td>NaN</td>\n",
       "      <td>82.0</td>\n",
       "      <td>82.0</td>\n",
       "      <td>NaN</td>\n",
       "      <td>NaN</td>\n",
       "      <td>NaN</td>\n",
       "      <td>NaN</td>\n",
       "      <td>NaN</td>\n",
       "      <td>2017</td>\n",
       "      <td>36296.113</td>\n",
       "    </tr>\n",
       "    <tr>\n",
       "      <th>4</th>\n",
       "      <td>Afghanistan</td>\n",
       "      <td>Bière</td>\n",
       "      <td>vegetale</td>\n",
       "      <td>NaN</td>\n",
       "      <td>NaN</td>\n",
       "      <td>0.0</td>\n",
       "      <td>0.09</td>\n",
       "      <td>NaN</td>\n",
       "      <td>0.00</td>\n",
       "      <td>3.0</td>\n",
       "      <td>NaN</td>\n",
       "      <td>3.0</td>\n",
       "      <td>3.0</td>\n",
       "      <td>NaN</td>\n",
       "      <td>NaN</td>\n",
       "      <td>NaN</td>\n",
       "      <td>NaN</td>\n",
       "      <td>NaN</td>\n",
       "      <td>2017</td>\n",
       "      <td>36296.113</td>\n",
       "    </tr>\n",
       "  </tbody>\n",
       "</table>\n",
       "</div>"
      ],
      "text/plain": [
       "          zone                produit   origine  aliments_animaux  autre  \\\n",
       "0  Afghanistan        Agrumes, Autres  vegetale               NaN    NaN   \n",
       "1  Afghanistan  Aliments pour enfants  vegetale               NaN    NaN   \n",
       "2  Afghanistan                 Ananas  vegetale               NaN    NaN   \n",
       "3  Afghanistan                Bananes  vegetale               NaN    NaN   \n",
       "4  Afghanistan                  Bière  vegetale               NaN    NaN   \n",
       "\n",
       "   dispo_ali_kcal_pers_j  dispo_ali_kg_pers_an  dispo_mg_g_pers_j  \\\n",
       "0                    1.0                  1.29               0.01   \n",
       "1                    1.0                  0.06               0.01   \n",
       "2                    0.0                  0.00                NaN   \n",
       "3                    4.0                  2.70               0.02   \n",
       "4                    0.0                  0.09                NaN   \n",
       "\n",
       "   dispo_pt_g_pers_j  dispo_inter  expor_qte  impor_qte  nourriture  pertes  \\\n",
       "0               0.02         41.0        2.0       40.0        39.0     2.0   \n",
       "1               0.03          2.0        NaN        2.0         2.0     NaN   \n",
       "2                NaN          0.0        NaN        0.0         0.0     NaN   \n",
       "3               0.05         82.0        NaN       82.0        82.0     NaN   \n",
       "4               0.00          3.0        NaN        3.0         3.0     NaN   \n",
       "\n",
       "   production  semences  traitement  variation_stock  année  populations  \n",
       "0         3.0       NaN         NaN              NaN   2017    36296.113  \n",
       "1         NaN       NaN         NaN              NaN   2017    36296.113  \n",
       "2         NaN       NaN         NaN              NaN   2017    36296.113  \n",
       "3         NaN       NaN         NaN              NaN   2017    36296.113  \n",
       "4         NaN       NaN         NaN              NaN   2017    36296.113  "
      ]
     },
     "execution_count": 220,
     "metadata": {},
     "output_type": "execute_result"
    }
   ],
   "source": [
    "df2.head()"
   ]
  },
  {
   "cell_type": "markdown",
   "id": "6d47bd6a",
   "metadata": {},
   "source": [
    "**B. Calculer le nombre total de kcal des produits végétaux en 2017 (population exprimée en milliers d’habitants)**"
   ]
  },
  {
   "cell_type": "code",
   "execution_count": 221,
   "id": "575d8392",
   "metadata": {},
   "outputs": [],
   "source": [
    "kcal_vege_an = df2['dispo_ali_kcal_pers_j'] * (df2['populations']*1000) * 365\n",
    "kcal_vege_total = kcal_vege_an.sum()"
   ]
  },
  {
   "cell_type": "code",
   "execution_count": 222,
   "id": "36f1679e",
   "metadata": {},
   "outputs": [
    {
     "name": "stdout",
     "output_type": "stream",
     "text": [
      "6300178937197865.0\n"
     ]
    }
   ],
   "source": [
    "print(kcal_vege_total)"
   ]
  },
  {
   "cell_type": "markdown",
   "id": "aca39820",
   "metadata": {},
   "source": [
    "**C. Calculer le nombre théorique de personnes qui pourraient être nourries par les produits végétaux**"
   ]
  },
  {
   "cell_type": "code",
   "execution_count": 223,
   "id": "4d06adeb",
   "metadata": {},
   "outputs": [],
   "source": [
    "# kcal nécessaires pour une personne par jour\n",
    "kcal_pers = 2500"
   ]
  },
  {
   "cell_type": "code",
   "execution_count": 224,
   "id": "8c08c739",
   "metadata": {},
   "outputs": [
    {
     "name": "stdout",
     "output_type": "stream",
     "text": [
      "6904305684.6004\n"
     ]
    }
   ],
   "source": [
    "dispo_vege_pers = kcal_vege_total /(kcal_pers * 365)\n",
    "print(dispo_vege_pers)"
   ]
  },
  {
   "cell_type": "markdown",
   "id": "734f0120",
   "metadata": {},
   "source": [
    "**D. Résultat :**"
   ]
  },
  {
   "cell_type": "code",
   "execution_count": 225,
   "id": "32f9c621",
   "metadata": {},
   "outputs": [
    {
     "name": "stdout",
     "output_type": "stream",
     "text": [
      " Le nombre théorique de personnes qui pourraient être nourries par les produits végétaux en 2017:  6.904e+09\n"
     ]
    }
   ],
   "source": [
    "print(\" Le nombre théorique de personnes qui pourraient être nourries par les produits végétaux en 2017: \", \"%.3e\" %dispo_vege_pers)"
   ]
  },
  {
   "cell_type": "code",
   "execution_count": null,
   "id": "fca704f7",
   "metadata": {},
   "outputs": [],
   "source": []
  },
  {
   "cell_type": "markdown",
   "id": "cf137613",
   "metadata": {},
   "source": [
    "### 4.Utilisation de la disponibilité intérieure, en particulier la part qui est attribuée à l’alimentation animale, celle qui est perdue et celle qui est concrètement utilisée pour l'alimentation humaine. "
   ]
  },
  {
   "cell_type": "markdown",
   "id": "f554f852",
   "metadata": {},
   "source": [
    "**A. Proportion alimentation humaine**"
   ]
  },
  {
   "cell_type": "code",
   "execution_count": 226,
   "id": "8ef9b7a1",
   "metadata": {},
   "outputs": [
    {
     "name": "stdout",
     "output_type": "stream",
     "text": [
      "4876258.0\n"
     ]
    }
   ],
   "source": [
    "# Total alimentation humaine \n",
    "total_nourri = dispo_alimentaire['nourriture'].sum()\n",
    "print(total_nourri)"
   ]
  },
  {
   "cell_type": "code",
   "execution_count": 227,
   "id": "68038de0",
   "metadata": {},
   "outputs": [
    {
     "name": "stdout",
     "output_type": "stream",
     "text": [
      "9848994.0\n"
     ]
    }
   ],
   "source": [
    "# Disponibilité intérieure totale\n",
    "dispo_inter_total = dispo_alimentaire['dispo_inter'].sum()\n",
    "print(dispo_inter_total)"
   ]
  },
  {
   "cell_type": "code",
   "execution_count": 228,
   "id": "e4a83967",
   "metadata": {},
   "outputs": [
    {
     "data": {
      "text/plain": [
       "49.51021393657058"
      ]
     },
     "execution_count": 228,
     "metadata": {},
     "output_type": "execute_result"
    }
   ],
   "source": [
    "# Proportion nourriture humaine\n",
    "taux_ali_humaine = 100* (total_nourri / dispo_inter_total)\n",
    "taux_ali_humaine"
   ]
  },
  {
   "cell_type": "markdown",
   "id": "49fd06d5",
   "metadata": {},
   "source": [
    "**B. Proportion alimentation animale**"
   ]
  },
  {
   "cell_type": "code",
   "execution_count": 229,
   "id": "2e89bb5f",
   "metadata": {},
   "outputs": [],
   "source": [
    "# Total alimentation animale\n",
    "total_animale = dispo_alimentaire['aliments_animaux'].sum()"
   ]
  },
  {
   "cell_type": "code",
   "execution_count": 230,
   "id": "1529e378",
   "metadata": {},
   "outputs": [
    {
     "data": {
      "text/plain": [
       "13.242418464261426"
      ]
     },
     "execution_count": 230,
     "metadata": {},
     "output_type": "execute_result"
    }
   ],
   "source": [
    "# Proportion alimentation animale\n",
    "taux_ali_animal = 100* (total_animale / dispo_inter_total)\n",
    "taux_ali_animal"
   ]
  },
  {
   "cell_type": "markdown",
   "id": "53d6dc94",
   "metadata": {},
   "source": [
    "**C. Proportion des pertes**"
   ]
  },
  {
   "cell_type": "code",
   "execution_count": 231,
   "id": "c2edb7b7",
   "metadata": {},
   "outputs": [],
   "source": [
    "# Total des pertes\n",
    "total_pertes = dispo_alimentaire['pertes'].sum()"
   ]
  },
  {
   "cell_type": "code",
   "execution_count": 232,
   "id": "5dca41cb",
   "metadata": {},
   "outputs": [
    {
     "data": {
      "text/plain": [
       "4.606541541196999"
      ]
     },
     "execution_count": 232,
     "metadata": {},
     "output_type": "execute_result"
    }
   ],
   "source": [
    "# Proportion des pertes\n",
    "taux_pertes = 100* (total_pertes / dispo_inter_total)\n",
    "taux_pertes"
   ]
  },
  {
   "cell_type": "markdown",
   "id": "e7f6be21",
   "metadata": {},
   "source": [
    "**D. Résultat :**"
   ]
  },
  {
   "cell_type": "code",
   "execution_count": 233,
   "id": "f22c3b8c",
   "metadata": {},
   "outputs": [
    {
     "name": "stdout",
     "output_type": "stream",
     "text": [
      "49.51 %  de la disponibilité intérieure est concrètement utilisée pour l'alimentation humaine.  \n",
      "13.24 %  de la disponibilité intérieure est utilisée pour l'alimentation animale.  \n",
      "4.61 %  de la disponibilité intérieure est perdue. \n"
     ]
    }
   ],
   "source": [
    "print('%.2f' %taux_ali_humaine, '% ', \"de la disponibilité intérieure est concrètement utilisée pour l'alimentation humaine. \",\n",
    "      '\\n%.2f' %taux_ali_animal, '% ', \"de la disponibilité intérieure est utilisée pour l'alimentation animale. \",\n",
    "      '\\n%.2f' %taux_pertes, '% ', \"de la disponibilité intérieure est perdue. \")"
   ]
  },
  {
   "cell_type": "markdown",
   "id": "4394845f",
   "metadata": {},
   "source": [
    "**E. Visualisation des proportions (alimentation humaine, alimentation animale, perte)**"
   ]
  },
  {
   "cell_type": "code",
   "execution_count": 234,
   "id": "4effc07f",
   "metadata": {},
   "outputs": [
    {
     "data": {
      "text/html": [
       "<div>\n",
       "<style scoped>\n",
       "    .dataframe tbody tr th:only-of-type {\n",
       "        vertical-align: middle;\n",
       "    }\n",
       "\n",
       "    .dataframe tbody tr th {\n",
       "        vertical-align: top;\n",
       "    }\n",
       "\n",
       "    .dataframe thead th {\n",
       "        text-align: right;\n",
       "    }\n",
       "</style>\n",
       "<table border=\"1\" class=\"dataframe\">\n",
       "  <thead>\n",
       "    <tr style=\"text-align: right;\">\n",
       "      <th></th>\n",
       "      <th>taux_alimentation</th>\n",
       "      <th>proportion</th>\n",
       "    </tr>\n",
       "  </thead>\n",
       "  <tbody>\n",
       "    <tr>\n",
       "      <th>0</th>\n",
       "      <td>taux_ali_humaine</td>\n",
       "      <td>49.51</td>\n",
       "    </tr>\n",
       "    <tr>\n",
       "      <th>1</th>\n",
       "      <td>taux_ali_animal</td>\n",
       "      <td>13.24</td>\n",
       "    </tr>\n",
       "    <tr>\n",
       "      <th>2</th>\n",
       "      <td>taux_pertes</td>\n",
       "      <td>4.61</td>\n",
       "    </tr>\n",
       "  </tbody>\n",
       "</table>\n",
       "</div>"
      ],
      "text/plain": [
       "  taux_alimentation  proportion\n",
       "0  taux_ali_humaine       49.51\n",
       "1   taux_ali_animal       13.24\n",
       "2       taux_pertes        4.61"
      ]
     },
     "execution_count": 234,
     "metadata": {},
     "output_type": "execute_result"
    }
   ],
   "source": [
    "taux = [[\"taux_ali_humaine\",round(taux_ali_humaine,2)], [\"taux_ali_animal\",round(taux_ali_animal,2)], [\"taux_pertes\",round(taux_pertes,2)]]\n",
    "df_taux = pd.DataFrame(taux, columns=['taux_alimentation', 'proportion'],dtype=float)\n",
    "df_taux"
   ]
  },
  {
   "cell_type": "code",
   "execution_count": 235,
   "id": "15d249cb",
   "metadata": {
    "scrolled": true
   },
   "outputs": [
    {
     "data": {
      "text/plain": [
       "([<matplotlib.axis.XTick at 0x146687c0a30>,\n",
       "  <matplotlib.axis.XTick at 0x146687c0940>,\n",
       "  <matplotlib.axis.XTick at 0x14669dbce80>],\n",
       " [Text(0, 0, 'pour_humaine'),\n",
       "  Text(1, 0, 'pour_animaux'),\n",
       "  Text(2, 0, 'pertes')])"
      ]
     },
     "execution_count": 235,
     "metadata": {},
     "output_type": "execute_result"
    },
    {
     "data": {
      "image/png": "[encoded data removed]",
      "text/plain": [
       "<Figure size 720x432 with 1 Axes>"
      ]
     },
     "metadata": {
      "needs_background": "light"
     },
     "output_type": "display_data"
    }
   ],
   "source": [
    "plt.figure(figsize=(10, 6))\n",
    "sns.barplot(x='taux_alimentation', y = 'proportion', data = df_taux )\n",
    "plt.xlabel(\"Taux alimentation\",fontsize = 14, color = 'darkblue')\n",
    "plt.ylabel('Proportion %', fontsize = 14, color = 'darkblue')\n",
    "plt.title(\"Répartition de l'utilisation de la disponibilité intérieure en 2017\", fontsize = 16, color = 'red',y =1.03)\n",
    "plt.tick_params(axis = \"both\", labelsize=12)\n",
    "nouveaux_xticks = [\"pour_humaine\", \"pour_animaux\", \"pertes\"]\n",
    "locs, labels=plt.xticks()\n",
    "plt.xticks(locs, nouveaux_xticks)\n"
   ]
  },
  {
   "cell_type": "code",
   "execution_count": null,
   "id": "ac585d1d",
   "metadata": {},
   "outputs": [],
   "source": []
  },
  {
   "cell_type": "markdown",
   "id": "61f294b4",
   "metadata": {},
   "source": [
    "## Partie 3 - MISSION (Julien )"
   ]
  },
  {
   "cell_type": "markdown",
   "id": "34bb242c",
   "metadata": {},
   "source": [
    "### 1.Relation entre disponibilité intérieure et les autres variables exprimées en milliers de tonnes\n",
    "Il y a un lien logique entre l’ensemble des 10 variables exprimées en milliers de tonnes sur les utilisations de la disponibilité intérieure, qui peut s’exprimer avec une équation du type : A1 + A2 + … = disponibilité intérieure = B1 + B2 + …"
   ]
  },
  {
   "cell_type": "markdown",
   "id": "57d9db82",
   "metadata": {},
   "source": [
    "**A. Créer la dataframe avec les donées aux 10 variables, pays et disponibilité intérieure**"
   ]
  },
  {
   "cell_type": "code",
   "execution_count": 236,
   "id": "720d513d",
   "metadata": {},
   "outputs": [
    {
     "data": {
      "text/html": [
       "<div>\n",
       "<style scoped>\n",
       "    .dataframe tbody tr th:only-of-type {\n",
       "        vertical-align: middle;\n",
       "    }\n",
       "\n",
       "    .dataframe tbody tr th {\n",
       "        vertical-align: top;\n",
       "    }\n",
       "\n",
       "    .dataframe thead th {\n",
       "        text-align: right;\n",
       "    }\n",
       "</style>\n",
       "<table border=\"1\" class=\"dataframe\">\n",
       "  <thead>\n",
       "    <tr style=\"text-align: right;\">\n",
       "      <th></th>\n",
       "      <th>zone</th>\n",
       "      <th>aliments_animaux</th>\n",
       "      <th>autre</th>\n",
       "      <th>nourriture</th>\n",
       "      <th>pertes</th>\n",
       "      <th>semences</th>\n",
       "      <th>traitement</th>\n",
       "      <th>impor_qte</th>\n",
       "      <th>expor_qte</th>\n",
       "      <th>production</th>\n",
       "      <th>variation_stock</th>\n",
       "      <th>dispo_inter</th>\n",
       "    </tr>\n",
       "  </thead>\n",
       "  <tbody>\n",
       "    <tr>\n",
       "      <th>0</th>\n",
       "      <td>Afghanistan</td>\n",
       "      <td>NaN</td>\n",
       "      <td>NaN</td>\n",
       "      <td>53.0</td>\n",
       "      <td>NaN</td>\n",
       "      <td>NaN</td>\n",
       "      <td>NaN</td>\n",
       "      <td>NaN</td>\n",
       "      <td>NaN</td>\n",
       "      <td>53.0</td>\n",
       "      <td>NaN</td>\n",
       "      <td>53.0</td>\n",
       "    </tr>\n",
       "    <tr>\n",
       "      <th>1</th>\n",
       "      <td>Afghanistan</td>\n",
       "      <td>NaN</td>\n",
       "      <td>NaN</td>\n",
       "      <td>39.0</td>\n",
       "      <td>2.0</td>\n",
       "      <td>NaN</td>\n",
       "      <td>NaN</td>\n",
       "      <td>40.0</td>\n",
       "      <td>2.0</td>\n",
       "      <td>3.0</td>\n",
       "      <td>NaN</td>\n",
       "      <td>41.0</td>\n",
       "    </tr>\n",
       "    <tr>\n",
       "      <th>2</th>\n",
       "      <td>Afghanistan</td>\n",
       "      <td>NaN</td>\n",
       "      <td>NaN</td>\n",
       "      <td>2.0</td>\n",
       "      <td>NaN</td>\n",
       "      <td>NaN</td>\n",
       "      <td>NaN</td>\n",
       "      <td>2.0</td>\n",
       "      <td>NaN</td>\n",
       "      <td>NaN</td>\n",
       "      <td>NaN</td>\n",
       "      <td>2.0</td>\n",
       "    </tr>\n",
       "    <tr>\n",
       "      <th>3</th>\n",
       "      <td>Afghanistan</td>\n",
       "      <td>NaN</td>\n",
       "      <td>NaN</td>\n",
       "      <td>0.0</td>\n",
       "      <td>NaN</td>\n",
       "      <td>NaN</td>\n",
       "      <td>NaN</td>\n",
       "      <td>0.0</td>\n",
       "      <td>NaN</td>\n",
       "      <td>NaN</td>\n",
       "      <td>NaN</td>\n",
       "      <td>0.0</td>\n",
       "    </tr>\n",
       "    <tr>\n",
       "      <th>4</th>\n",
       "      <td>Afghanistan</td>\n",
       "      <td>NaN</td>\n",
       "      <td>NaN</td>\n",
       "      <td>82.0</td>\n",
       "      <td>NaN</td>\n",
       "      <td>NaN</td>\n",
       "      <td>NaN</td>\n",
       "      <td>82.0</td>\n",
       "      <td>NaN</td>\n",
       "      <td>NaN</td>\n",
       "      <td>NaN</td>\n",
       "      <td>82.0</td>\n",
       "    </tr>\n",
       "  </tbody>\n",
       "</table>\n",
       "</div>"
      ],
      "text/plain": [
       "          zone  aliments_animaux  autre  nourriture  pertes  semences  \\\n",
       "0  Afghanistan               NaN    NaN        53.0     NaN       NaN   \n",
       "1  Afghanistan               NaN    NaN        39.0     2.0       NaN   \n",
       "2  Afghanistan               NaN    NaN         2.0     NaN       NaN   \n",
       "3  Afghanistan               NaN    NaN         0.0     NaN       NaN   \n",
       "4  Afghanistan               NaN    NaN        82.0     NaN       NaN   \n",
       "\n",
       "   traitement  impor_qte  expor_qte  production  variation_stock  dispo_inter  \n",
       "0         NaN        NaN        NaN        53.0              NaN         53.0  \n",
       "1         NaN       40.0        2.0         3.0              NaN         41.0  \n",
       "2         NaN        2.0        NaN         NaN              NaN          2.0  \n",
       "3         NaN        0.0        NaN         NaN              NaN          0.0  \n",
       "4         NaN       82.0        NaN         NaN              NaN         82.0  "
      ]
     },
     "execution_count": 236,
     "metadata": {},
     "output_type": "execute_result"
    }
   ],
   "source": [
    "rela_dispo_inter = dispo_alimentaire[[\"zone\",\"aliments_animaux\",\"autre\", \"nourriture\", \"pertes\", \"semences\", \"traitement\", \"impor_qte\", \"expor_qte\", \"production\", \"variation_stock\",\"dispo_inter\"]].copy()\n",
    "rela_dispo_inter.head()"
   ]
  },
  {
   "cell_type": "markdown",
   "id": "e6c13d32",
   "metadata": {},
   "source": [
    "**B. Ajouter la colonne 'somme' et grouper par les pays**"
   ]
  },
  {
   "cell_type": "code",
   "execution_count": 237,
   "id": "c86ade5d",
   "metadata": {},
   "outputs": [],
   "source": [
    "rela_dispo_inter['somme_util'] =  rela_dispo_inter['aliments_animaux'] + rela_dispo_inter['autre'] + rela_dispo_inter['nourriture'] + rela_dispo_inter['pertes'] + rela_dispo_inter['semences'] + rela_dispo_inter['traitement']"
   ]
  },
  {
   "cell_type": "code",
   "execution_count": 238,
   "id": "5e8f62ad",
   "metadata": {},
   "outputs": [],
   "source": [
    "rela_dispo_inter['somme_stock'] = rela_dispo_inter['impor_qte'] - rela_dispo_inter['expor_qte'] + rela_dispo_inter['production'] + rela_dispo_inter['variation_stock']"
   ]
  },
  {
   "cell_type": "code",
   "execution_count": 239,
   "id": "34741a98",
   "metadata": {},
   "outputs": [
    {
     "data": {
      "text/html": [
       "<div>\n",
       "<style scoped>\n",
       "    .dataframe tbody tr th:only-of-type {\n",
       "        vertical-align: middle;\n",
       "    }\n",
       "\n",
       "    .dataframe tbody tr th {\n",
       "        vertical-align: top;\n",
       "    }\n",
       "\n",
       "    .dataframe thead th {\n",
       "        text-align: right;\n",
       "    }\n",
       "</style>\n",
       "<table border=\"1\" class=\"dataframe\">\n",
       "  <thead>\n",
       "    <tr style=\"text-align: right;\">\n",
       "      <th></th>\n",
       "      <th>zone</th>\n",
       "      <th>aliments_animaux</th>\n",
       "      <th>autre</th>\n",
       "      <th>nourriture</th>\n",
       "      <th>pertes</th>\n",
       "      <th>semences</th>\n",
       "      <th>traitement</th>\n",
       "      <th>impor_qte</th>\n",
       "      <th>expor_qte</th>\n",
       "      <th>production</th>\n",
       "      <th>variation_stock</th>\n",
       "      <th>dispo_inter</th>\n",
       "      <th>somme_util</th>\n",
       "      <th>somme_stock</th>\n",
       "    </tr>\n",
       "  </thead>\n",
       "  <tbody>\n",
       "    <tr>\n",
       "      <th>0</th>\n",
       "      <td>Afghanistan</td>\n",
       "      <td>NaN</td>\n",
       "      <td>NaN</td>\n",
       "      <td>53.0</td>\n",
       "      <td>NaN</td>\n",
       "      <td>NaN</td>\n",
       "      <td>NaN</td>\n",
       "      <td>NaN</td>\n",
       "      <td>NaN</td>\n",
       "      <td>53.0</td>\n",
       "      <td>NaN</td>\n",
       "      <td>53.0</td>\n",
       "      <td>NaN</td>\n",
       "      <td>NaN</td>\n",
       "    </tr>\n",
       "    <tr>\n",
       "      <th>1</th>\n",
       "      <td>Afghanistan</td>\n",
       "      <td>NaN</td>\n",
       "      <td>NaN</td>\n",
       "      <td>39.0</td>\n",
       "      <td>2.0</td>\n",
       "      <td>NaN</td>\n",
       "      <td>NaN</td>\n",
       "      <td>40.0</td>\n",
       "      <td>2.0</td>\n",
       "      <td>3.0</td>\n",
       "      <td>NaN</td>\n",
       "      <td>41.0</td>\n",
       "      <td>NaN</td>\n",
       "      <td>NaN</td>\n",
       "    </tr>\n",
       "    <tr>\n",
       "      <th>2</th>\n",
       "      <td>Afghanistan</td>\n",
       "      <td>NaN</td>\n",
       "      <td>NaN</td>\n",
       "      <td>2.0</td>\n",
       "      <td>NaN</td>\n",
       "      <td>NaN</td>\n",
       "      <td>NaN</td>\n",
       "      <td>2.0</td>\n",
       "      <td>NaN</td>\n",
       "      <td>NaN</td>\n",
       "      <td>NaN</td>\n",
       "      <td>2.0</td>\n",
       "      <td>NaN</td>\n",
       "      <td>NaN</td>\n",
       "    </tr>\n",
       "    <tr>\n",
       "      <th>3</th>\n",
       "      <td>Afghanistan</td>\n",
       "      <td>NaN</td>\n",
       "      <td>NaN</td>\n",
       "      <td>0.0</td>\n",
       "      <td>NaN</td>\n",
       "      <td>NaN</td>\n",
       "      <td>NaN</td>\n",
       "      <td>0.0</td>\n",
       "      <td>NaN</td>\n",
       "      <td>NaN</td>\n",
       "      <td>NaN</td>\n",
       "      <td>0.0</td>\n",
       "      <td>NaN</td>\n",
       "      <td>NaN</td>\n",
       "    </tr>\n",
       "    <tr>\n",
       "      <th>4</th>\n",
       "      <td>Afghanistan</td>\n",
       "      <td>NaN</td>\n",
       "      <td>NaN</td>\n",
       "      <td>82.0</td>\n",
       "      <td>NaN</td>\n",
       "      <td>NaN</td>\n",
       "      <td>NaN</td>\n",
       "      <td>82.0</td>\n",
       "      <td>NaN</td>\n",
       "      <td>NaN</td>\n",
       "      <td>NaN</td>\n",
       "      <td>82.0</td>\n",
       "      <td>NaN</td>\n",
       "      <td>NaN</td>\n",
       "    </tr>\n",
       "  </tbody>\n",
       "</table>\n",
       "</div>"
      ],
      "text/plain": [
       "          zone  aliments_animaux  autre  nourriture  pertes  semences  \\\n",
       "0  Afghanistan               NaN    NaN        53.0     NaN       NaN   \n",
       "1  Afghanistan               NaN    NaN        39.0     2.0       NaN   \n",
       "2  Afghanistan               NaN    NaN         2.0     NaN       NaN   \n",
       "3  Afghanistan               NaN    NaN         0.0     NaN       NaN   \n",
       "4  Afghanistan               NaN    NaN        82.0     NaN       NaN   \n",
       "\n",
       "   traitement  impor_qte  expor_qte  production  variation_stock  dispo_inter  \\\n",
       "0         NaN        NaN        NaN        53.0              NaN         53.0   \n",
       "1         NaN       40.0        2.0         3.0              NaN         41.0   \n",
       "2         NaN        2.0        NaN         NaN              NaN          2.0   \n",
       "3         NaN        0.0        NaN         NaN              NaN          0.0   \n",
       "4         NaN       82.0        NaN         NaN              NaN         82.0   \n",
       "\n",
       "   somme_util  somme_stock  \n",
       "0         NaN          NaN  \n",
       "1         NaN          NaN  \n",
       "2         NaN          NaN  \n",
       "3         NaN          NaN  \n",
       "4         NaN          NaN  "
      ]
     },
     "execution_count": 239,
     "metadata": {},
     "output_type": "execute_result"
    }
   ],
   "source": [
    "rela_dispo_inter.head()"
   ]
  },
  {
   "cell_type": "code",
   "execution_count": 240,
   "id": "a1b71074",
   "metadata": {},
   "outputs": [
    {
     "data": {
      "text/html": [
       "<div>\n",
       "<style scoped>\n",
       "    .dataframe tbody tr th:only-of-type {\n",
       "        vertical-align: middle;\n",
       "    }\n",
       "\n",
       "    .dataframe tbody tr th {\n",
       "        vertical-align: top;\n",
       "    }\n",
       "\n",
       "    .dataframe thead th {\n",
       "        text-align: right;\n",
       "    }\n",
       "</style>\n",
       "<table border=\"1\" class=\"dataframe\">\n",
       "  <thead>\n",
       "    <tr style=\"text-align: right;\">\n",
       "      <th></th>\n",
       "      <th>dispo_inter</th>\n",
       "      <th>somme_util</th>\n",
       "      <th>somme_stock</th>\n",
       "    </tr>\n",
       "    <tr>\n",
       "      <th>zone</th>\n",
       "      <th></th>\n",
       "      <th></th>\n",
       "      <th></th>\n",
       "    </tr>\n",
       "  </thead>\n",
       "  <tbody>\n",
       "    <tr>\n",
       "      <th>Afghanistan</th>\n",
       "      <td>13515.0</td>\n",
       "      <td>0.0</td>\n",
       "      <td>248.0</td>\n",
       "    </tr>\n",
       "    <tr>\n",
       "      <th>Afrique du Sud</th>\n",
       "      <td>61256.0</td>\n",
       "      <td>12620.0</td>\n",
       "      <td>32896.0</td>\n",
       "    </tr>\n",
       "    <tr>\n",
       "      <th>Albanie</th>\n",
       "      <td>4758.0</td>\n",
       "      <td>464.0</td>\n",
       "      <td>3863.0</td>\n",
       "    </tr>\n",
       "    <tr>\n",
       "      <th>Algérie</th>\n",
       "      <td>42630.0</td>\n",
       "      <td>9460.0</td>\n",
       "      <td>39697.0</td>\n",
       "    </tr>\n",
       "    <tr>\n",
       "      <th>Allemagne</th>\n",
       "      <td>162275.0</td>\n",
       "      <td>32838.0</td>\n",
       "      <td>119614.0</td>\n",
       "    </tr>\n",
       "  </tbody>\n",
       "</table>\n",
       "</div>"
      ],
      "text/plain": [
       "                dispo_inter  somme_util  somme_stock\n",
       "zone                                                \n",
       "Afghanistan         13515.0         0.0        248.0\n",
       "Afrique du Sud      61256.0     12620.0      32896.0\n",
       "Albanie              4758.0       464.0       3863.0\n",
       "Algérie             42630.0      9460.0      39697.0\n",
       "Allemagne          162275.0     32838.0     119614.0"
      ]
     },
     "execution_count": 240,
     "metadata": {},
     "output_type": "execute_result"
    }
   ],
   "source": [
    "rela_dispo_inter_2 = rela_dispo_inter[[\"zone\", \"dispo_inter\", \"somme_util\", \"somme_stock\"]].groupby('zone').sum()\n",
    "rela_dispo_inter_2.head()"
   ]
  },
  {
   "cell_type": "markdown",
   "id": "7662285a",
   "metadata": {},
   "source": [
    "**C. Calculer le total pour chaque colonne** "
   ]
  },
  {
   "cell_type": "code",
   "execution_count": 241,
   "id": "86961150",
   "metadata": {},
   "outputs": [],
   "source": [
    "total_util = rela_dispo_inter_2[\"somme_util\"].sum()\n",
    "total_stock = rela_dispo_inter_2[\"somme_stock\"].sum()\n",
    "total_dispo_inter = rela_dispo_inter_2[\"dispo_inter\"].sum()"
   ]
  },
  {
   "cell_type": "code",
   "execution_count": 242,
   "id": "93ff4fc8",
   "metadata": {},
   "outputs": [
    {
     "name": "stdout",
     "output_type": "stream",
     "text": [
      "total_util:  1.55e+06 \n",
      "total_stock:  6.23e+06 \n",
      "total_dispo_inter:  9.85e+06\n"
     ]
    }
   ],
   "source": [
    "print(\"total_util: \", \"%.2e\" %total_util, \n",
    "      \"\\ntotal_stock: \", \"%.2e\" %total_stock,\n",
    "      \"\\ntotal_dispo_inter: \", \"%.2e\" %total_dispo_inter)"
   ]
  },
  {
   "cell_type": "markdown",
   "id": "a4aebc57",
   "metadata": {},
   "source": [
    "***- CONCLUSION: la disponibilité intérieure correspond à la Somme_util(alimentation animale + nourriture + pertes + semences + traitement + autres utlisation), et aussi  égale à la Somme_stock(production + importations - exportations + variation).***"
   ]
  },
  {
   "cell_type": "markdown",
   "id": "f349c3e7",
   "metadata": {},
   "source": [
    "**D. Visualisation de la répartition de la disponibilité intérieure.**"
   ]
  },
  {
   "cell_type": "code",
   "execution_count": 243,
   "id": "74aa56c7",
   "metadata": {},
   "outputs": [
    {
     "data": {
      "text/html": [
       "<div>\n",
       "<style scoped>\n",
       "    .dataframe tbody tr th:only-of-type {\n",
       "        vertical-align: middle;\n",
       "    }\n",
       "\n",
       "    .dataframe tbody tr th {\n",
       "        vertical-align: top;\n",
       "    }\n",
       "\n",
       "    .dataframe thead th {\n",
       "        text-align: right;\n",
       "    }\n",
       "</style>\n",
       "<table border=\"1\" class=\"dataframe\">\n",
       "  <thead>\n",
       "    <tr style=\"text-align: right;\">\n",
       "      <th></th>\n",
       "      <th>aliments_animaux</th>\n",
       "      <th>autre</th>\n",
       "      <th>nourriture</th>\n",
       "      <th>pertes</th>\n",
       "      <th>semences</th>\n",
       "      <th>traitement</th>\n",
       "    </tr>\n",
       "  </thead>\n",
       "  <tbody>\n",
       "    <tr>\n",
       "      <th>0</th>\n",
       "      <td>NaN</td>\n",
       "      <td>NaN</td>\n",
       "      <td>53.0</td>\n",
       "      <td>NaN</td>\n",
       "      <td>NaN</td>\n",
       "      <td>NaN</td>\n",
       "    </tr>\n",
       "    <tr>\n",
       "      <th>1</th>\n",
       "      <td>NaN</td>\n",
       "      <td>NaN</td>\n",
       "      <td>39.0</td>\n",
       "      <td>2.0</td>\n",
       "      <td>NaN</td>\n",
       "      <td>NaN</td>\n",
       "    </tr>\n",
       "    <tr>\n",
       "      <th>2</th>\n",
       "      <td>NaN</td>\n",
       "      <td>NaN</td>\n",
       "      <td>2.0</td>\n",
       "      <td>NaN</td>\n",
       "      <td>NaN</td>\n",
       "      <td>NaN</td>\n",
       "    </tr>\n",
       "    <tr>\n",
       "      <th>3</th>\n",
       "      <td>NaN</td>\n",
       "      <td>NaN</td>\n",
       "      <td>0.0</td>\n",
       "      <td>NaN</td>\n",
       "      <td>NaN</td>\n",
       "      <td>NaN</td>\n",
       "    </tr>\n",
       "    <tr>\n",
       "      <th>4</th>\n",
       "      <td>NaN</td>\n",
       "      <td>NaN</td>\n",
       "      <td>82.0</td>\n",
       "      <td>NaN</td>\n",
       "      <td>NaN</td>\n",
       "      <td>NaN</td>\n",
       "    </tr>\n",
       "  </tbody>\n",
       "</table>\n",
       "</div>"
      ],
      "text/plain": [
       "   aliments_animaux  autre  nourriture  pertes  semences  traitement\n",
       "0               NaN    NaN        53.0     NaN       NaN         NaN\n",
       "1               NaN    NaN        39.0     2.0       NaN         NaN\n",
       "2               NaN    NaN         2.0     NaN       NaN         NaN\n",
       "3               NaN    NaN         0.0     NaN       NaN         NaN\n",
       "4               NaN    NaN        82.0     NaN       NaN         NaN"
      ]
     },
     "execution_count": 243,
     "metadata": {},
     "output_type": "execute_result"
    }
   ],
   "source": [
    "proportion_util = dispo_alimentaire[[\"aliments_animaux\",\"autre\", \"nourriture\", \"pertes\", \"semences\", \"traitement\"]]\n",
    "proportion_util.head()"
   ]
  },
  {
   "cell_type": "code",
   "execution_count": 244,
   "id": "5bee374b",
   "metadata": {},
   "outputs": [],
   "source": [
    "value = proportion_util.sum()\n",
    "names = [\"aliments_animaux\",\"autre\", \"nourriture\", \"pertes\", \"semences\", \"traitement\"]"
   ]
  },
  {
   "cell_type": "code",
   "execution_count": 245,
   "id": "2eba779d",
   "metadata": {},
   "outputs": [
    {
     "data": {
      "image/png": "[encoded data removed]",
      "text/plain": [
       "<Figure size 504x504 with 1 Axes>"
      ]
     },
     "metadata": {},
     "output_type": "display_data"
    }
   ],
   "source": [
    "plt.figure(figsize=(7,7))\n",
    "patches, l_text, p_text=plt.pie(value, labels=names, autopct='%.1f%%')\n",
    "plt.title(\"Répartition de la disponibilité intérieure \", fontsize = 16, color = 'red')\n",
    "for t in p_text:\n",
    "    t.set_size(8)\n",
    "for t in l_text:\n",
    "    t.set_size(14)\n",
    "    "
   ]
  },
  {
   "cell_type": "code",
   "execution_count": null,
   "id": "e9fac5c5",
   "metadata": {},
   "outputs": [],
   "source": []
  },
  {
   "cell_type": "markdown",
   "id": "36ea060e",
   "metadata": {},
   "source": [
    "### 2. Utilisation des céréales pour l'alimentation humaine et animale"
   ]
  },
  {
   "cell_type": "markdown",
   "id": "d292b3cf",
   "metadata": {},
   "source": [
    "Lors de mes recherches, j’ai découvert des chiffres intéressants sur l’utilisation des céréales, notamment la répartition entre l’alimentation humaine (colonne Nourriture) et l’alimentation pour animaux. La liste des céréales peut être trouvée en allant fouiller un peu dans l’onglet Bilans alimentaires, sur le lien juste ci-dessus."
   ]
  },
  {
   "cell_type": "markdown",
   "id": "8a94cd3f",
   "metadata": {},
   "source": [
    "**A. Créer la dataframe des céréales par type de produits**"
   ]
  },
  {
   "cell_type": "code",
   "execution_count": 246,
   "id": "8621bbfa",
   "metadata": {},
   "outputs": [
    {
     "data": {
      "text/html": [
       "<div>\n",
       "<style scoped>\n",
       "    .dataframe tbody tr th:only-of-type {\n",
       "        vertical-align: middle;\n",
       "    }\n",
       "\n",
       "    .dataframe tbody tr th {\n",
       "        vertical-align: top;\n",
       "    }\n",
       "\n",
       "    .dataframe thead th {\n",
       "        text-align: right;\n",
       "    }\n",
       "</style>\n",
       "<table border=\"1\" class=\"dataframe\">\n",
       "  <thead>\n",
       "    <tr style=\"text-align: right;\">\n",
       "      <th></th>\n",
       "      <th>zone</th>\n",
       "      <th>produit</th>\n",
       "      <th>aliments_animaux</th>\n",
       "      <th>nourriture</th>\n",
       "      <th>dispo_inter</th>\n",
       "    </tr>\n",
       "  </thead>\n",
       "  <tbody>\n",
       "    <tr>\n",
       "      <th>7</th>\n",
       "      <td>Afghanistan</td>\n",
       "      <td>Blé</td>\n",
       "      <td>NaN</td>\n",
       "      <td>4895.0</td>\n",
       "      <td>5992.0</td>\n",
       "    </tr>\n",
       "    <tr>\n",
       "      <th>32</th>\n",
       "      <td>Afghanistan</td>\n",
       "      <td>Maïs</td>\n",
       "      <td>200.0</td>\n",
       "      <td>76.0</td>\n",
       "      <td>313.0</td>\n",
       "    </tr>\n",
       "    <tr>\n",
       "      <th>34</th>\n",
       "      <td>Afghanistan</td>\n",
       "      <td>Millet</td>\n",
       "      <td>NaN</td>\n",
       "      <td>12.0</td>\n",
       "      <td>13.0</td>\n",
       "    </tr>\n",
       "    <tr>\n",
       "      <th>40</th>\n",
       "      <td>Afghanistan</td>\n",
       "      <td>Orge</td>\n",
       "      <td>360.0</td>\n",
       "      <td>89.0</td>\n",
       "      <td>524.0</td>\n",
       "    </tr>\n",
       "    <tr>\n",
       "      <th>67</th>\n",
       "      <td>Afrique du Sud</td>\n",
       "      <td>Avoine</td>\n",
       "      <td>8.0</td>\n",
       "      <td>40.0</td>\n",
       "      <td>49.0</td>\n",
       "    </tr>\n",
       "  </tbody>\n",
       "</table>\n",
       "</div>"
      ],
      "text/plain": [
       "              zone produit  aliments_animaux  nourriture  dispo_inter\n",
       "7      Afghanistan     Blé               NaN      4895.0       5992.0\n",
       "32     Afghanistan    Maïs             200.0        76.0        313.0\n",
       "34     Afghanistan  Millet               NaN        12.0         13.0\n",
       "40     Afghanistan    Orge             360.0        89.0        524.0\n",
       "67  Afrique du Sud  Avoine               8.0        40.0         49.0"
      ]
     },
     "execution_count": 246,
     "metadata": {},
     "output_type": "execute_result"
    }
   ],
   "source": [
    "liste_cereale = [\"Blé\",\"Maïs\",\"Millet\",\"Orge\",\"Riz(EqBlanchi)\",\"Avoine\",\"Céréales,Autres\",\"Seigle\",\"Sorgho\"]\n",
    "df3 = dispo_alimentaire[[\"zone\",\"produit\",\"aliments_animaux\", \"nourriture\", \"dispo_inter\"]]\n",
    "df3 = df3[df3['produit'].isin(liste_cereale)]\n",
    "df3.head()"
   ]
  },
  {
   "cell_type": "code",
   "execution_count": 247,
   "id": "35796239",
   "metadata": {},
   "outputs": [
    {
     "data": {
      "text/html": [
       "<div>\n",
       "<style scoped>\n",
       "    .dataframe tbody tr th:only-of-type {\n",
       "        vertical-align: middle;\n",
       "    }\n",
       "\n",
       "    .dataframe tbody tr th {\n",
       "        vertical-align: top;\n",
       "    }\n",
       "\n",
       "    .dataframe thead th {\n",
       "        text-align: right;\n",
       "    }\n",
       "</style>\n",
       "<table border=\"1\" class=\"dataframe\">\n",
       "  <thead>\n",
       "    <tr style=\"text-align: right;\">\n",
       "      <th></th>\n",
       "      <th>produit</th>\n",
       "      <th>aliments_animaux</th>\n",
       "      <th>nourriture</th>\n",
       "      <th>dispo_inter</th>\n",
       "    </tr>\n",
       "  </thead>\n",
       "  <tbody>\n",
       "    <tr>\n",
       "      <th>0</th>\n",
       "      <td>Avoine</td>\n",
       "      <td>16251.0</td>\n",
       "      <td>3903.0</td>\n",
       "      <td>23407.0</td>\n",
       "    </tr>\n",
       "    <tr>\n",
       "      <th>1</th>\n",
       "      <td>Blé</td>\n",
       "      <td>129668.0</td>\n",
       "      <td>457824.0</td>\n",
       "      <td>679498.0</td>\n",
       "    </tr>\n",
       "    <tr>\n",
       "      <th>2</th>\n",
       "      <td>Maïs</td>\n",
       "      <td>546116.0</td>\n",
       "      <td>125184.0</td>\n",
       "      <td>955799.0</td>\n",
       "    </tr>\n",
       "    <tr>\n",
       "      <th>3</th>\n",
       "      <td>Millet</td>\n",
       "      <td>3306.0</td>\n",
       "      <td>23040.0</td>\n",
       "      <td>29911.0</td>\n",
       "    </tr>\n",
       "    <tr>\n",
       "      <th>4</th>\n",
       "      <td>Orge</td>\n",
       "      <td>92658.0</td>\n",
       "      <td>6794.0</td>\n",
       "      <td>140439.0</td>\n",
       "    </tr>\n",
       "  </tbody>\n",
       "</table>\n",
       "</div>"
      ],
      "text/plain": [
       "  produit  aliments_animaux  nourriture  dispo_inter\n",
       "0  Avoine           16251.0      3903.0      23407.0\n",
       "1     Blé          129668.0    457824.0     679498.0\n",
       "2    Maïs          546116.0    125184.0     955799.0\n",
       "3  Millet            3306.0     23040.0      29911.0\n",
       "4    Orge           92658.0      6794.0     140439.0"
      ]
     },
     "execution_count": 247,
     "metadata": {},
     "output_type": "execute_result"
    }
   ],
   "source": [
    "df_cereale = df3.groupby(\"produit\").sum()\n",
    "df_cereale.reset_index(drop=False, inplace=True)\n",
    "df_cereale.head()"
   ]
  },
  {
   "cell_type": "markdown",
   "id": "1e6f9fda",
   "metadata": {},
   "source": [
    "**B. Calculer la proportion d'utilisation des céréales pour l'alimentation humaine et animal dans le monde**"
   ]
  },
  {
   "cell_type": "code",
   "execution_count": 248,
   "id": "2ef7f262",
   "metadata": {},
   "outputs": [],
   "source": [
    "# Calculer la proportion pour chaque type de céréales\n",
    "df_cereale['propo_nourri'] = round((100*df_cereale['nourriture']/df_cereale['dispo_inter']),2)\n",
    "df_cereale['propo_animaux'] = round((100*df_cereale['aliments_animaux']/df_cereale['dispo_inter']),2)"
   ]
  },
  {
   "cell_type": "code",
   "execution_count": 249,
   "id": "f7374a0a",
   "metadata": {},
   "outputs": [
    {
     "data": {
      "text/html": [
       "<div>\n",
       "<style scoped>\n",
       "    .dataframe tbody tr th:only-of-type {\n",
       "        vertical-align: middle;\n",
       "    }\n",
       "\n",
       "    .dataframe tbody tr th {\n",
       "        vertical-align: top;\n",
       "    }\n",
       "\n",
       "    .dataframe thead th {\n",
       "        text-align: right;\n",
       "    }\n",
       "</style>\n",
       "<table border=\"1\" class=\"dataframe\">\n",
       "  <thead>\n",
       "    <tr style=\"text-align: right;\">\n",
       "      <th></th>\n",
       "      <th>produit</th>\n",
       "      <th>aliments_animaux</th>\n",
       "      <th>nourriture</th>\n",
       "      <th>dispo_inter</th>\n",
       "      <th>propo_nourri</th>\n",
       "      <th>propo_animaux</th>\n",
       "    </tr>\n",
       "  </thead>\n",
       "  <tbody>\n",
       "    <tr>\n",
       "      <th>0</th>\n",
       "      <td>Avoine</td>\n",
       "      <td>16251.0</td>\n",
       "      <td>3903.0</td>\n",
       "      <td>23407.0</td>\n",
       "      <td>16.67</td>\n",
       "      <td>69.43</td>\n",
       "    </tr>\n",
       "    <tr>\n",
       "      <th>1</th>\n",
       "      <td>Blé</td>\n",
       "      <td>129668.0</td>\n",
       "      <td>457824.0</td>\n",
       "      <td>679498.0</td>\n",
       "      <td>67.38</td>\n",
       "      <td>19.08</td>\n",
       "    </tr>\n",
       "    <tr>\n",
       "      <th>2</th>\n",
       "      <td>Maïs</td>\n",
       "      <td>546116.0</td>\n",
       "      <td>125184.0</td>\n",
       "      <td>955799.0</td>\n",
       "      <td>13.10</td>\n",
       "      <td>57.14</td>\n",
       "    </tr>\n",
       "    <tr>\n",
       "      <th>3</th>\n",
       "      <td>Millet</td>\n",
       "      <td>3306.0</td>\n",
       "      <td>23040.0</td>\n",
       "      <td>29911.0</td>\n",
       "      <td>77.03</td>\n",
       "      <td>11.05</td>\n",
       "    </tr>\n",
       "    <tr>\n",
       "      <th>4</th>\n",
       "      <td>Orge</td>\n",
       "      <td>92658.0</td>\n",
       "      <td>6794.0</td>\n",
       "      <td>140439.0</td>\n",
       "      <td>4.84</td>\n",
       "      <td>65.98</td>\n",
       "    </tr>\n",
       "    <tr>\n",
       "      <th>5</th>\n",
       "      <td>Seigle</td>\n",
       "      <td>8099.0</td>\n",
       "      <td>5502.0</td>\n",
       "      <td>16567.0</td>\n",
       "      <td>33.21</td>\n",
       "      <td>48.89</td>\n",
       "    </tr>\n",
       "    <tr>\n",
       "      <th>6</th>\n",
       "      <td>Sorgho</td>\n",
       "      <td>24808.0</td>\n",
       "      <td>24153.0</td>\n",
       "      <td>58237.0</td>\n",
       "      <td>41.47</td>\n",
       "      <td>42.60</td>\n",
       "    </tr>\n",
       "  </tbody>\n",
       "</table>\n",
       "</div>"
      ],
      "text/plain": [
       "  produit  aliments_animaux  nourriture  dispo_inter  propo_nourri  \\\n",
       "0  Avoine           16251.0      3903.0      23407.0         16.67   \n",
       "1     Blé          129668.0    457824.0     679498.0         67.38   \n",
       "2    Maïs          546116.0    125184.0     955799.0         13.10   \n",
       "3  Millet            3306.0     23040.0      29911.0         77.03   \n",
       "4    Orge           92658.0      6794.0     140439.0          4.84   \n",
       "5  Seigle            8099.0      5502.0      16567.0         33.21   \n",
       "6  Sorgho           24808.0     24153.0      58237.0         41.47   \n",
       "\n",
       "   propo_animaux  \n",
       "0          69.43  \n",
       "1          19.08  \n",
       "2          57.14  \n",
       "3          11.05  \n",
       "4          65.98  \n",
       "5          48.89  \n",
       "6          42.60  "
      ]
     },
     "execution_count": 249,
     "metadata": {},
     "output_type": "execute_result"
    }
   ],
   "source": [
    "df_cereale"
   ]
  },
  {
   "cell_type": "code",
   "execution_count": 250,
   "id": "85eec810",
   "metadata": {},
   "outputs": [],
   "source": [
    "# Calculer la proportion pour totale de céréales\n",
    "prop_animaux = 100 * df_cereale['aliments_animaux'].sum() / df_cereale['dispo_inter'].sum()\n",
    "prop_humain =  100 * df_cereale['nourriture'].sum() / df_cereale['dispo_inter'].sum()"
   ]
  },
  {
   "cell_type": "code",
   "execution_count": 251,
   "id": "450db7e8",
   "metadata": {},
   "outputs": [
    {
     "name": "stdout",
     "output_type": "stream",
     "text": [
      "43.12 % des céréales sont utiliées pour les animaux. \n",
      "33.95 % des céréales sont  utiliées comme nourriture pour les humains.\n"
     ]
    }
   ],
   "source": [
    "print(\"%.2f\" %prop_animaux, \"% des céréales sont utiliées pour les animaux.\",\n",
    "     \"\\n%.2f\" %prop_humain, \"% des céréales sont  utiliées comme nourriture pour les humains.\")"
   ]
  },
  {
   "cell_type": "markdown",
   "id": "ab03c315",
   "metadata": {},
   "source": [
    "**C. Visualisation de la répartition des céréales.**"
   ]
  },
  {
   "cell_type": "code",
   "execution_count": 252,
   "id": "2926e91f",
   "metadata": {},
   "outputs": [
    {
     "data": {
      "text/html": [
       "<div>\n",
       "<style scoped>\n",
       "    .dataframe tbody tr th:only-of-type {\n",
       "        vertical-align: middle;\n",
       "    }\n",
       "\n",
       "    .dataframe tbody tr th {\n",
       "        vertical-align: top;\n",
       "    }\n",
       "\n",
       "    .dataframe thead th {\n",
       "        text-align: right;\n",
       "    }\n",
       "</style>\n",
       "<table border=\"1\" class=\"dataframe\">\n",
       "  <thead>\n",
       "    <tr style=\"text-align: right;\">\n",
       "      <th></th>\n",
       "      <th>produit</th>\n",
       "      <th>propo_nourri</th>\n",
       "      <th>propo_animaux</th>\n",
       "    </tr>\n",
       "  </thead>\n",
       "  <tbody>\n",
       "    <tr>\n",
       "      <th>0</th>\n",
       "      <td>Avoine</td>\n",
       "      <td>16.67</td>\n",
       "      <td>69.43</td>\n",
       "    </tr>\n",
       "    <tr>\n",
       "      <th>1</th>\n",
       "      <td>Blé</td>\n",
       "      <td>67.38</td>\n",
       "      <td>19.08</td>\n",
       "    </tr>\n",
       "    <tr>\n",
       "      <th>2</th>\n",
       "      <td>Maïs</td>\n",
       "      <td>13.10</td>\n",
       "      <td>57.14</td>\n",
       "    </tr>\n",
       "    <tr>\n",
       "      <th>3</th>\n",
       "      <td>Millet</td>\n",
       "      <td>77.03</td>\n",
       "      <td>11.05</td>\n",
       "    </tr>\n",
       "    <tr>\n",
       "      <th>4</th>\n",
       "      <td>Orge</td>\n",
       "      <td>4.84</td>\n",
       "      <td>65.98</td>\n",
       "    </tr>\n",
       "    <tr>\n",
       "      <th>5</th>\n",
       "      <td>Seigle</td>\n",
       "      <td>33.21</td>\n",
       "      <td>48.89</td>\n",
       "    </tr>\n",
       "    <tr>\n",
       "      <th>6</th>\n",
       "      <td>Sorgho</td>\n",
       "      <td>41.47</td>\n",
       "      <td>42.60</td>\n",
       "    </tr>\n",
       "  </tbody>\n",
       "</table>\n",
       "</div>"
      ],
      "text/plain": [
       "  produit  propo_nourri  propo_animaux\n",
       "0  Avoine         16.67          69.43\n",
       "1     Blé         67.38          19.08\n",
       "2    Maïs         13.10          57.14\n",
       "3  Millet         77.03          11.05\n",
       "4    Orge          4.84          65.98\n",
       "5  Seigle         33.21          48.89\n",
       "6  Sorgho         41.47          42.60"
      ]
     },
     "execution_count": 252,
     "metadata": {},
     "output_type": "execute_result"
    }
   ],
   "source": [
    "repart_cere = df_cereale[[\"produit\",\"propo_nourri\",\"propo_animaux\"]]\n",
    "repart_cere"
   ]
  },
  {
   "cell_type": "code",
   "execution_count": 253,
   "id": "77b9995b",
   "metadata": {},
   "outputs": [
    {
     "data": {
      "image/png": "[encoded data removed]",
      "text/plain": [
       "<Figure size 1008x576 with 1 Axes>"
      ]
     },
     "metadata": {
      "needs_background": "light"
     },
     "output_type": "display_data"
    }
   ],
   "source": [
    "fig=repart_cere.plot.bar(figsize=(14,8), x = \"produit\", stacked=True, rot=0)\n",
    "plt.title(\"Répartition de la disponibilité intérieure des céréales en 2017\",fontsize = 18, color = 'red',y =1.03)\n",
    "fig.legend([\"Alimentation humaine\", \"Alimentation animale\"], fontsize=10,loc=\"lower right\")\n",
    "plt.xlabel(\"Types des céréales \", fontsize = 14, color = '#A0522D')\n",
    "plt.ylabel('Proportion (%)', fontsize = 14, color = '#A0522D')\n",
    "plt.tick_params(axis = \"both\", labelsize=12)\n"
   ]
  },
  {
   "cell_type": "code",
   "execution_count": null,
   "id": "9629da2d",
   "metadata": {},
   "outputs": [],
   "source": []
  },
  {
   "cell_type": "markdown",
   "id": "d70dbf99",
   "metadata": {},
   "source": [
    "### 3.Utilisation du maniocs en Thaïlande"
   ]
  },
  {
   "cell_type": "markdown",
   "id": "d39ddd9b",
   "metadata": {},
   "source": [
    "Enfin, je me souviens d’un exemple étonnant d’utilisation du par la Thaïlande aux égards de la proportion de personnes en sous-nutrition. Il serait intéressant d’aller à nouveau y jeter un coup d’œil, de mémoire ça concernait l’exportation par rapport à la production."
   ]
  },
  {
   "cell_type": "markdown",
   "id": "c2df8846",
   "metadata": {},
   "source": [
    "**A. Calculer la population Thaïlandaise sous-alimentée**"
   ]
  },
  {
   "cell_type": "code",
   "execution_count": 254,
   "id": "3ac49cfd",
   "metadata": {},
   "outputs": [
    {
     "data": {
      "text/html": [
       "<div>\n",
       "<style scoped>\n",
       "    .dataframe tbody tr th:only-of-type {\n",
       "        vertical-align: middle;\n",
       "    }\n",
       "\n",
       "    .dataframe tbody tr th {\n",
       "        vertical-align: top;\n",
       "    }\n",
       "\n",
       "    .dataframe thead th {\n",
       "        text-align: right;\n",
       "    }\n",
       "</style>\n",
       "<table border=\"1\" class=\"dataframe\">\n",
       "  <thead>\n",
       "    <tr style=\"text-align: right;\">\n",
       "      <th></th>\n",
       "      <th>zone</th>\n",
       "      <th>année</th>\n",
       "      <th>populations</th>\n",
       "      <th>nbr_pers</th>\n",
       "    </tr>\n",
       "  </thead>\n",
       "  <tbody>\n",
       "    <tr>\n",
       "      <th>0</th>\n",
       "      <td>Afghanistan</td>\n",
       "      <td>2017</td>\n",
       "      <td>36296.113</td>\n",
       "      <td>10.5</td>\n",
       "    </tr>\n",
       "    <tr>\n",
       "      <th>1</th>\n",
       "      <td>Afrique du Sud</td>\n",
       "      <td>2017</td>\n",
       "      <td>57009.756</td>\n",
       "      <td>3.1</td>\n",
       "    </tr>\n",
       "    <tr>\n",
       "      <th>2</th>\n",
       "      <td>Albanie</td>\n",
       "      <td>2017</td>\n",
       "      <td>2884.169</td>\n",
       "      <td>0.1</td>\n",
       "    </tr>\n",
       "    <tr>\n",
       "      <th>3</th>\n",
       "      <td>Algérie</td>\n",
       "      <td>2017</td>\n",
       "      <td>41389.189</td>\n",
       "      <td>1.3</td>\n",
       "    </tr>\n",
       "    <tr>\n",
       "      <th>4</th>\n",
       "      <td>Allemagne</td>\n",
       "      <td>2017</td>\n",
       "      <td>82658.409</td>\n",
       "      <td>NaN</td>\n",
       "    </tr>\n",
       "  </tbody>\n",
       "</table>\n",
       "</div>"
      ],
      "text/plain": [
       "             zone  année  populations  nbr_pers\n",
       "0     Afghanistan   2017    36296.113      10.5\n",
       "1  Afrique du Sud   2017    57009.756       3.1\n",
       "2         Albanie   2017     2884.169       0.1\n",
       "3         Algérie   2017    41389.189       1.3\n",
       "4       Allemagne   2017    82658.409       NaN"
      ]
     },
     "execution_count": 254,
     "metadata": {},
     "output_type": "execute_result"
    }
   ],
   "source": [
    "# Utilise la table avec la population et le nombre de personnes sous-alimentées\n",
    "popu_sous.head()"
   ]
  },
  {
   "cell_type": "code",
   "execution_count": 255,
   "id": "77a9b7b2",
   "metadata": {},
   "outputs": [
    {
     "data": {
      "text/html": [
       "<div>\n",
       "<style scoped>\n",
       "    .dataframe tbody tr th:only-of-type {\n",
       "        vertical-align: middle;\n",
       "    }\n",
       "\n",
       "    .dataframe tbody tr th {\n",
       "        vertical-align: top;\n",
       "    }\n",
       "\n",
       "    .dataframe thead th {\n",
       "        text-align: right;\n",
       "    }\n",
       "</style>\n",
       "<table border=\"1\" class=\"dataframe\">\n",
       "  <thead>\n",
       "    <tr style=\"text-align: right;\">\n",
       "      <th></th>\n",
       "      <th>zone</th>\n",
       "      <th>année</th>\n",
       "      <th>populations</th>\n",
       "      <th>nbr_pers</th>\n",
       "    </tr>\n",
       "  </thead>\n",
       "  <tbody>\n",
       "    <tr>\n",
       "      <th>185</th>\n",
       "      <td>Thaïlande</td>\n",
       "      <td>2017</td>\n",
       "      <td>69209.81</td>\n",
       "      <td>6.2</td>\n",
       "    </tr>\n",
       "  </tbody>\n",
       "</table>\n",
       "</div>"
      ],
      "text/plain": [
       "          zone  année  populations  nbr_pers\n",
       "185  Thaïlande   2017     69209.81       6.2"
      ]
     },
     "execution_count": 255,
     "metadata": {},
     "output_type": "execute_result"
    }
   ],
   "source": [
    "nbr_thai = popu_sous.loc[popu_sous['zone']=='Thaïlande',:]\n",
    "nbr_thai"
   ]
  },
  {
   "cell_type": "code",
   "execution_count": 256,
   "id": "65538559",
   "metadata": {},
   "outputs": [
    {
     "data": {
      "text/plain": [
       "185    8.958268\n",
       "dtype: float64"
      ]
     },
     "execution_count": 256,
     "metadata": {},
     "output_type": "execute_result"
    }
   ],
   "source": [
    "sous_ali_thai = 100*(nbr_thai[\"nbr_pers\"]*1000) / nbr_thai[\"populations\"]\n",
    "sous_ali_thai"
   ]
  },
  {
   "cell_type": "code",
   "execution_count": 257,
   "id": "2b6df17e",
   "metadata": {},
   "outputs": [
    {
     "name": "stdout",
     "output_type": "stream",
     "text": [
      "Il y a  8.96 % de la population Thaïlandaise sous-alimentée.\n"
     ]
    }
   ],
   "source": [
    "print(\"Il y a \", \"%.2f\" %sous_ali_thai, \"% de la population Thaïlandaise sous-alimentée.\")"
   ]
  },
  {
   "cell_type": "markdown",
   "id": "cc233901",
   "metadata": {},
   "source": [
    "**B. Sélection des données Nourriture, Exportation et Production pour la manioc en Thaïlande**"
   ]
  },
  {
   "cell_type": "code",
   "execution_count": 258,
   "id": "f44dde3f",
   "metadata": {},
   "outputs": [
    {
     "data": {
      "text/html": [
       "<div>\n",
       "<style scoped>\n",
       "    .dataframe tbody tr th:only-of-type {\n",
       "        vertical-align: middle;\n",
       "    }\n",
       "\n",
       "    .dataframe tbody tr th {\n",
       "        vertical-align: top;\n",
       "    }\n",
       "\n",
       "    .dataframe thead th {\n",
       "        text-align: right;\n",
       "    }\n",
       "</style>\n",
       "<table border=\"1\" class=\"dataframe\">\n",
       "  <thead>\n",
       "    <tr style=\"text-align: right;\">\n",
       "      <th></th>\n",
       "      <th>zone</th>\n",
       "      <th>produit</th>\n",
       "      <th>origine</th>\n",
       "      <th>aliments_animaux</th>\n",
       "      <th>autre</th>\n",
       "      <th>dispo_ali_kcal_pers_j</th>\n",
       "      <th>dispo_ali_kg_pers_an</th>\n",
       "      <th>dispo_mg_g_pers_j</th>\n",
       "      <th>dispo_pt_g_pers_j</th>\n",
       "      <th>dispo_inter</th>\n",
       "      <th>expor_qte</th>\n",
       "      <th>impor_qte</th>\n",
       "      <th>nourriture</th>\n",
       "      <th>pertes</th>\n",
       "      <th>production</th>\n",
       "      <th>semences</th>\n",
       "      <th>traitement</th>\n",
       "      <th>variation_stock</th>\n",
       "    </tr>\n",
       "  </thead>\n",
       "  <tbody>\n",
       "    <tr>\n",
       "      <th>0</th>\n",
       "      <td>Afghanistan</td>\n",
       "      <td>Abats Comestible</td>\n",
       "      <td>animale</td>\n",
       "      <td>NaN</td>\n",
       "      <td>NaN</td>\n",
       "      <td>5.0</td>\n",
       "      <td>1.72</td>\n",
       "      <td>0.20</td>\n",
       "      <td>0.77</td>\n",
       "      <td>53.0</td>\n",
       "      <td>NaN</td>\n",
       "      <td>NaN</td>\n",
       "      <td>53.0</td>\n",
       "      <td>NaN</td>\n",
       "      <td>53.0</td>\n",
       "      <td>NaN</td>\n",
       "      <td>NaN</td>\n",
       "      <td>NaN</td>\n",
       "    </tr>\n",
       "    <tr>\n",
       "      <th>1</th>\n",
       "      <td>Afghanistan</td>\n",
       "      <td>Agrumes, Autres</td>\n",
       "      <td>vegetale</td>\n",
       "      <td>NaN</td>\n",
       "      <td>NaN</td>\n",
       "      <td>1.0</td>\n",
       "      <td>1.29</td>\n",
       "      <td>0.01</td>\n",
       "      <td>0.02</td>\n",
       "      <td>41.0</td>\n",
       "      <td>2.0</td>\n",
       "      <td>40.0</td>\n",
       "      <td>39.0</td>\n",
       "      <td>2.0</td>\n",
       "      <td>3.0</td>\n",
       "      <td>NaN</td>\n",
       "      <td>NaN</td>\n",
       "      <td>NaN</td>\n",
       "    </tr>\n",
       "    <tr>\n",
       "      <th>2</th>\n",
       "      <td>Afghanistan</td>\n",
       "      <td>Aliments pour enfants</td>\n",
       "      <td>vegetale</td>\n",
       "      <td>NaN</td>\n",
       "      <td>NaN</td>\n",
       "      <td>1.0</td>\n",
       "      <td>0.06</td>\n",
       "      <td>0.01</td>\n",
       "      <td>0.03</td>\n",
       "      <td>2.0</td>\n",
       "      <td>NaN</td>\n",
       "      <td>2.0</td>\n",
       "      <td>2.0</td>\n",
       "      <td>NaN</td>\n",
       "      <td>NaN</td>\n",
       "      <td>NaN</td>\n",
       "      <td>NaN</td>\n",
       "      <td>NaN</td>\n",
       "    </tr>\n",
       "    <tr>\n",
       "      <th>3</th>\n",
       "      <td>Afghanistan</td>\n",
       "      <td>Ananas</td>\n",
       "      <td>vegetale</td>\n",
       "      <td>NaN</td>\n",
       "      <td>NaN</td>\n",
       "      <td>0.0</td>\n",
       "      <td>0.00</td>\n",
       "      <td>NaN</td>\n",
       "      <td>NaN</td>\n",
       "      <td>0.0</td>\n",
       "      <td>NaN</td>\n",
       "      <td>0.0</td>\n",
       "      <td>0.0</td>\n",
       "      <td>NaN</td>\n",
       "      <td>NaN</td>\n",
       "      <td>NaN</td>\n",
       "      <td>NaN</td>\n",
       "      <td>NaN</td>\n",
       "    </tr>\n",
       "    <tr>\n",
       "      <th>4</th>\n",
       "      <td>Afghanistan</td>\n",
       "      <td>Bananes</td>\n",
       "      <td>vegetale</td>\n",
       "      <td>NaN</td>\n",
       "      <td>NaN</td>\n",
       "      <td>4.0</td>\n",
       "      <td>2.70</td>\n",
       "      <td>0.02</td>\n",
       "      <td>0.05</td>\n",
       "      <td>82.0</td>\n",
       "      <td>NaN</td>\n",
       "      <td>82.0</td>\n",
       "      <td>82.0</td>\n",
       "      <td>NaN</td>\n",
       "      <td>NaN</td>\n",
       "      <td>NaN</td>\n",
       "      <td>NaN</td>\n",
       "      <td>NaN</td>\n",
       "    </tr>\n",
       "  </tbody>\n",
       "</table>\n",
       "</div>"
      ],
      "text/plain": [
       "          zone                produit   origine  aliments_animaux  autre  \\\n",
       "0  Afghanistan       Abats Comestible   animale               NaN    NaN   \n",
       "1  Afghanistan        Agrumes, Autres  vegetale               NaN    NaN   \n",
       "2  Afghanistan  Aliments pour enfants  vegetale               NaN    NaN   \n",
       "3  Afghanistan                 Ananas  vegetale               NaN    NaN   \n",
       "4  Afghanistan                Bananes  vegetale               NaN    NaN   \n",
       "\n",
       "   dispo_ali_kcal_pers_j  dispo_ali_kg_pers_an  dispo_mg_g_pers_j  \\\n",
       "0                    5.0                  1.72               0.20   \n",
       "1                    1.0                  1.29               0.01   \n",
       "2                    1.0                  0.06               0.01   \n",
       "3                    0.0                  0.00                NaN   \n",
       "4                    4.0                  2.70               0.02   \n",
       "\n",
       "   dispo_pt_g_pers_j  dispo_inter  expor_qte  impor_qte  nourriture  pertes  \\\n",
       "0               0.77         53.0        NaN        NaN        53.0     NaN   \n",
       "1               0.02         41.0        2.0       40.0        39.0     2.0   \n",
       "2               0.03          2.0        NaN        2.0         2.0     NaN   \n",
       "3                NaN          0.0        NaN        0.0         0.0     NaN   \n",
       "4               0.05         82.0        NaN       82.0        82.0     NaN   \n",
       "\n",
       "   production  semences  traitement  variation_stock  \n",
       "0        53.0       NaN         NaN              NaN  \n",
       "1         3.0       NaN         NaN              NaN  \n",
       "2         NaN       NaN         NaN              NaN  \n",
       "3         NaN       NaN         NaN              NaN  \n",
       "4         NaN       NaN         NaN              NaN  "
      ]
     },
     "execution_count": 258,
     "metadata": {},
     "output_type": "execute_result"
    }
   ],
   "source": [
    "dispo_alimentaire.head()"
   ]
  },
  {
   "cell_type": "code",
   "execution_count": 259,
   "id": "d8d23146",
   "metadata": {},
   "outputs": [
    {
     "data": {
      "text/html": [
       "<div>\n",
       "<style scoped>\n",
       "    .dataframe tbody tr th:only-of-type {\n",
       "        vertical-align: middle;\n",
       "    }\n",
       "\n",
       "    .dataframe tbody tr th {\n",
       "        vertical-align: top;\n",
       "    }\n",
       "\n",
       "    .dataframe thead th {\n",
       "        text-align: right;\n",
       "    }\n",
       "</style>\n",
       "<table border=\"1\" class=\"dataframe\">\n",
       "  <thead>\n",
       "    <tr style=\"text-align: right;\">\n",
       "      <th></th>\n",
       "      <th>zone</th>\n",
       "      <th>produit</th>\n",
       "      <th>expor_qte</th>\n",
       "      <th>production</th>\n",
       "      <th>nourriture</th>\n",
       "    </tr>\n",
       "  </thead>\n",
       "  <tbody>\n",
       "    <tr>\n",
       "      <th>0</th>\n",
       "      <td>Afghanistan</td>\n",
       "      <td>Abats Comestible</td>\n",
       "      <td>NaN</td>\n",
       "      <td>53.0</td>\n",
       "      <td>53.0</td>\n",
       "    </tr>\n",
       "    <tr>\n",
       "      <th>1</th>\n",
       "      <td>Afghanistan</td>\n",
       "      <td>Agrumes, Autres</td>\n",
       "      <td>2.0</td>\n",
       "      <td>3.0</td>\n",
       "      <td>39.0</td>\n",
       "    </tr>\n",
       "    <tr>\n",
       "      <th>2</th>\n",
       "      <td>Afghanistan</td>\n",
       "      <td>Aliments pour enfants</td>\n",
       "      <td>NaN</td>\n",
       "      <td>NaN</td>\n",
       "      <td>2.0</td>\n",
       "    </tr>\n",
       "    <tr>\n",
       "      <th>3</th>\n",
       "      <td>Afghanistan</td>\n",
       "      <td>Ananas</td>\n",
       "      <td>NaN</td>\n",
       "      <td>NaN</td>\n",
       "      <td>0.0</td>\n",
       "    </tr>\n",
       "    <tr>\n",
       "      <th>4</th>\n",
       "      <td>Afghanistan</td>\n",
       "      <td>Bananes</td>\n",
       "      <td>NaN</td>\n",
       "      <td>NaN</td>\n",
       "      <td>82.0</td>\n",
       "    </tr>\n",
       "  </tbody>\n",
       "</table>\n",
       "</div>"
      ],
      "text/plain": [
       "          zone                produit  expor_qte  production  nourriture\n",
       "0  Afghanistan       Abats Comestible        NaN        53.0        53.0\n",
       "1  Afghanistan        Agrumes, Autres        2.0         3.0        39.0\n",
       "2  Afghanistan  Aliments pour enfants        NaN         NaN         2.0\n",
       "3  Afghanistan                 Ananas        NaN         NaN         0.0\n",
       "4  Afghanistan                Bananes        NaN         NaN        82.0"
      ]
     },
     "execution_count": 259,
     "metadata": {},
     "output_type": "execute_result"
    }
   ],
   "source": [
    "df5= dispo_alimentaire[[\"zone\", \"produit\", \"expor_qte\",\"production\",\"nourriture\"]]\n",
    "df5.head()"
   ]
  },
  {
   "cell_type": "code",
   "execution_count": 260,
   "id": "1b82d1ff",
   "metadata": {},
   "outputs": [
    {
     "data": {
      "text/html": [
       "<div>\n",
       "<style scoped>\n",
       "    .dataframe tbody tr th:only-of-type {\n",
       "        vertical-align: middle;\n",
       "    }\n",
       "\n",
       "    .dataframe tbody tr th {\n",
       "        vertical-align: top;\n",
       "    }\n",
       "\n",
       "    .dataframe thead th {\n",
       "        text-align: right;\n",
       "    }\n",
       "</style>\n",
       "<table border=\"1\" class=\"dataframe\">\n",
       "  <thead>\n",
       "    <tr style=\"text-align: right;\">\n",
       "      <th></th>\n",
       "      <th>zone</th>\n",
       "      <th>produit</th>\n",
       "      <th>expor_qte</th>\n",
       "      <th>production</th>\n",
       "      <th>nourriture</th>\n",
       "    </tr>\n",
       "  </thead>\n",
       "  <tbody>\n",
       "    <tr>\n",
       "      <th>13809</th>\n",
       "      <td>Thaïlande</td>\n",
       "      <td>Manioc</td>\n",
       "      <td>25214.0</td>\n",
       "      <td>30228.0</td>\n",
       "      <td>871.0</td>\n",
       "    </tr>\n",
       "  </tbody>\n",
       "</table>\n",
       "</div>"
      ],
      "text/plain": [
       "            zone produit  expor_qte  production  nourriture\n",
       "13809  Thaïlande  Manioc    25214.0     30228.0       871.0"
      ]
     },
     "execution_count": 260,
     "metadata": {},
     "output_type": "execute_result"
    }
   ],
   "source": [
    "maniocs_thai = df5.loc[(df5['zone']=='Thaïlande') & (df5['produit']=='Manioc'),:].copy()\n",
    "maniocs_thai"
   ]
  },
  {
   "cell_type": "markdown",
   "id": "a34d3309",
   "metadata": {},
   "source": [
    "**C. Calcul de la proportion du maniocs pour l'exportation et l'alimentation humaine en Thaïlande**"
   ]
  },
  {
   "cell_type": "code",
   "execution_count": 261,
   "id": "01ed073b",
   "metadata": {},
   "outputs": [],
   "source": [
    "propo_nourri = 100*maniocs_thai[\"nourriture\"] / maniocs_thai[\"production\"]\n",
    "propo_export = 100*maniocs_thai[\"expor_qte\"] / maniocs_thai[\"production\"]"
   ]
  },
  {
   "cell_type": "code",
   "execution_count": 262,
   "id": "2dbd3bfd",
   "metadata": {},
   "outputs": [
    {
     "data": {
      "text/html": [
       "<div>\n",
       "<style scoped>\n",
       "    .dataframe tbody tr th:only-of-type {\n",
       "        vertical-align: middle;\n",
       "    }\n",
       "\n",
       "    .dataframe tbody tr th {\n",
       "        vertical-align: top;\n",
       "    }\n",
       "\n",
       "    .dataframe thead th {\n",
       "        text-align: right;\n",
       "    }\n",
       "</style>\n",
       "<table border=\"1\" class=\"dataframe\">\n",
       "  <thead>\n",
       "    <tr style=\"text-align: right;\">\n",
       "      <th></th>\n",
       "      <th>zone</th>\n",
       "      <th>produit</th>\n",
       "      <th>expor_qte</th>\n",
       "      <th>production</th>\n",
       "      <th>nourriture</th>\n",
       "      <th>propo_nourriture</th>\n",
       "      <th>propo_export</th>\n",
       "    </tr>\n",
       "  </thead>\n",
       "  <tbody>\n",
       "    <tr>\n",
       "      <th>13809</th>\n",
       "      <td>Thaïlande</td>\n",
       "      <td>Manioc</td>\n",
       "      <td>25214.0</td>\n",
       "      <td>30228.0</td>\n",
       "      <td>871.0</td>\n",
       "      <td>2.881434</td>\n",
       "      <td>83.41273</td>\n",
       "    </tr>\n",
       "  </tbody>\n",
       "</table>\n",
       "</div>"
      ],
      "text/plain": [
       "            zone produit  expor_qte  production  nourriture  propo_nourriture  \\\n",
       "13809  Thaïlande  Manioc    25214.0     30228.0       871.0          2.881434   \n",
       "\n",
       "       propo_export  \n",
       "13809      83.41273  "
      ]
     },
     "execution_count": 262,
     "metadata": {},
     "output_type": "execute_result"
    }
   ],
   "source": [
    "maniocs_thai[\"propo_nourriture\"] = propo_nourri\n",
    "maniocs_thai[\"propo_export\"] = propo_export\n",
    "maniocs_thai"
   ]
  },
  {
   "cell_type": "markdown",
   "id": "b898cc3d",
   "metadata": {},
   "source": [
    "**Résultat :**"
   ]
  },
  {
   "cell_type": "code",
   "execution_count": 263,
   "id": "94dc2596",
   "metadata": {},
   "outputs": [
    {
     "name": "stdout",
     "output_type": "stream",
     "text": [
      "Il y a  8.96 % de la population Thaïlandaise sous-alimentée. \n",
      "83.41 % du maniocs en Thaïlande pour l'exportation. \n",
      "2.88 % du maniocs pour l'alimentation humaine.\n"
     ]
    }
   ],
   "source": [
    "print( \"Il y a \", \"%.2f\" %sous_ali_thai, \"% de la population Thaïlandaise sous-alimentée.\",\n",
    "      \"\\n%.2f\" %propo_export, \"% du maniocs en Thaïlande pour l'exportation.\",\n",
    "      \"\\n%.2f\" %propo_nourri,\"% du maniocs pour l'alimentation humaine.\")"
   ]
  },
  {
   "cell_type": "code",
   "execution_count": null,
   "id": "cfa169ab",
   "metadata": {},
   "outputs": [],
   "source": []
  },
  {
   "cell_type": "markdown",
   "id": "698a3ea2",
   "metadata": {},
   "source": [
    "## Partie 4 - MISSION (Mélanie )"
   ]
  },
  {
   "cell_type": "markdown",
   "id": "e09d326d",
   "metadata": {},
   "source": [
    "### 1. Liste des 10 pays ou la proportion de personnes sous-alimentées est la plus élevée en 2017"
   ]
  },
  {
   "cell_type": "code",
   "execution_count": 264,
   "id": "bcaa45af",
   "metadata": {},
   "outputs": [
    {
     "data": {
      "text/html": [
       "<div>\n",
       "<style scoped>\n",
       "    .dataframe tbody tr th:only-of-type {\n",
       "        vertical-align: middle;\n",
       "    }\n",
       "\n",
       "    .dataframe tbody tr th {\n",
       "        vertical-align: top;\n",
       "    }\n",
       "\n",
       "    .dataframe thead th {\n",
       "        text-align: right;\n",
       "    }\n",
       "</style>\n",
       "<table border=\"1\" class=\"dataframe\">\n",
       "  <thead>\n",
       "    <tr style=\"text-align: right;\">\n",
       "      <th></th>\n",
       "      <th>zone</th>\n",
       "      <th>année</th>\n",
       "      <th>populations</th>\n",
       "      <th>nbr_pers</th>\n",
       "    </tr>\n",
       "  </thead>\n",
       "  <tbody>\n",
       "    <tr>\n",
       "      <th>0</th>\n",
       "      <td>Afghanistan</td>\n",
       "      <td>2017</td>\n",
       "      <td>36296.113</td>\n",
       "      <td>10.5</td>\n",
       "    </tr>\n",
       "    <tr>\n",
       "      <th>1</th>\n",
       "      <td>Afrique du Sud</td>\n",
       "      <td>2017</td>\n",
       "      <td>57009.756</td>\n",
       "      <td>3.1</td>\n",
       "    </tr>\n",
       "    <tr>\n",
       "      <th>2</th>\n",
       "      <td>Albanie</td>\n",
       "      <td>2017</td>\n",
       "      <td>2884.169</td>\n",
       "      <td>0.1</td>\n",
       "    </tr>\n",
       "    <tr>\n",
       "      <th>3</th>\n",
       "      <td>Algérie</td>\n",
       "      <td>2017</td>\n",
       "      <td>41389.189</td>\n",
       "      <td>1.3</td>\n",
       "    </tr>\n",
       "    <tr>\n",
       "      <th>4</th>\n",
       "      <td>Allemagne</td>\n",
       "      <td>2017</td>\n",
       "      <td>82658.409</td>\n",
       "      <td>NaN</td>\n",
       "    </tr>\n",
       "  </tbody>\n",
       "</table>\n",
       "</div>"
      ],
      "text/plain": [
       "             zone  année  populations  nbr_pers\n",
       "0     Afghanistan   2017    36296.113      10.5\n",
       "1  Afrique du Sud   2017    57009.756       3.1\n",
       "2         Albanie   2017     2884.169       0.1\n",
       "3         Algérie   2017    41389.189       1.3\n",
       "4       Allemagne   2017    82658.409       NaN"
      ]
     },
     "execution_count": 264,
     "metadata": {},
     "output_type": "execute_result"
    }
   ],
   "source": [
    "# Utilise la table avec la population et le nombre de personnes sous-alimentées\n",
    "popu_sous.head()"
   ]
  },
  {
   "cell_type": "markdown",
   "id": "4b7fbc66",
   "metadata": {},
   "source": [
    "**A. Calul de la proportion de la population sous-alimentée par zone**"
   ]
  },
  {
   "cell_type": "code",
   "execution_count": 265,
   "id": "a4d0f61d",
   "metadata": {},
   "outputs": [],
   "source": [
    "# Ajoute une nouvelle colonne \"prop_sous_ali\"\n",
    "popu_sous['prop_sous_ali'] = 100*(1000*popu_sous['nbr_pers'] / popu_sous['populations'])"
   ]
  },
  {
   "cell_type": "code",
   "execution_count": 266,
   "id": "a7e67066",
   "metadata": {},
   "outputs": [
    {
     "data": {
      "text/html": [
       "<div>\n",
       "<style scoped>\n",
       "    .dataframe tbody tr th:only-of-type {\n",
       "        vertical-align: middle;\n",
       "    }\n",
       "\n",
       "    .dataframe tbody tr th {\n",
       "        vertical-align: top;\n",
       "    }\n",
       "\n",
       "    .dataframe thead th {\n",
       "        text-align: right;\n",
       "    }\n",
       "</style>\n",
       "<table border=\"1\" class=\"dataframe\">\n",
       "  <thead>\n",
       "    <tr style=\"text-align: right;\">\n",
       "      <th></th>\n",
       "      <th>zone</th>\n",
       "      <th>année</th>\n",
       "      <th>populations</th>\n",
       "      <th>nbr_pers</th>\n",
       "      <th>prop_sous_ali</th>\n",
       "    </tr>\n",
       "  </thead>\n",
       "  <tbody>\n",
       "    <tr>\n",
       "      <th>0</th>\n",
       "      <td>Afghanistan</td>\n",
       "      <td>2017</td>\n",
       "      <td>36296.113</td>\n",
       "      <td>10.5</td>\n",
       "      <td>28.928718</td>\n",
       "    </tr>\n",
       "    <tr>\n",
       "      <th>1</th>\n",
       "      <td>Afrique du Sud</td>\n",
       "      <td>2017</td>\n",
       "      <td>57009.756</td>\n",
       "      <td>3.1</td>\n",
       "      <td>5.437666</td>\n",
       "    </tr>\n",
       "    <tr>\n",
       "      <th>2</th>\n",
       "      <td>Albanie</td>\n",
       "      <td>2017</td>\n",
       "      <td>2884.169</td>\n",
       "      <td>0.1</td>\n",
       "      <td>3.467203</td>\n",
       "    </tr>\n",
       "    <tr>\n",
       "      <th>3</th>\n",
       "      <td>Algérie</td>\n",
       "      <td>2017</td>\n",
       "      <td>41389.189</td>\n",
       "      <td>1.3</td>\n",
       "      <td>3.140917</td>\n",
       "    </tr>\n",
       "    <tr>\n",
       "      <th>4</th>\n",
       "      <td>Allemagne</td>\n",
       "      <td>2017</td>\n",
       "      <td>82658.409</td>\n",
       "      <td>NaN</td>\n",
       "      <td>NaN</td>\n",
       "    </tr>\n",
       "  </tbody>\n",
       "</table>\n",
       "</div>"
      ],
      "text/plain": [
       "             zone  année  populations  nbr_pers  prop_sous_ali\n",
       "0     Afghanistan   2017    36296.113      10.5      28.928718\n",
       "1  Afrique du Sud   2017    57009.756       3.1       5.437666\n",
       "2         Albanie   2017     2884.169       0.1       3.467203\n",
       "3         Algérie   2017    41389.189       1.3       3.140917\n",
       "4       Allemagne   2017    82658.409       NaN            NaN"
      ]
     },
     "execution_count": 266,
     "metadata": {},
     "output_type": "execute_result"
    }
   ],
   "source": [
    "popu_sous.head()"
   ]
  },
  {
   "cell_type": "markdown",
   "id": "b43602af",
   "metadata": {},
   "source": [
    "**B. Liste des 10 pays où la proportion de personnes sous-alimentées est la plus élevée**"
   ]
  },
  {
   "cell_type": "code",
   "execution_count": 267,
   "id": "b46c4709",
   "metadata": {},
   "outputs": [],
   "source": [
    "proportion_sous_ali = popu_sous.sort_values(by='prop_sous_ali', ascending=False).head(10)"
   ]
  },
  {
   "cell_type": "code",
   "execution_count": 268,
   "id": "59bf21a6",
   "metadata": {},
   "outputs": [
    {
     "data": {
      "text/html": [
       "<div>\n",
       "<style scoped>\n",
       "    .dataframe tbody tr th:only-of-type {\n",
       "        vertical-align: middle;\n",
       "    }\n",
       "\n",
       "    .dataframe tbody tr th {\n",
       "        vertical-align: top;\n",
       "    }\n",
       "\n",
       "    .dataframe thead th {\n",
       "        text-align: right;\n",
       "    }\n",
       "</style>\n",
       "<table border=\"1\" class=\"dataframe\">\n",
       "  <thead>\n",
       "    <tr style=\"text-align: right;\">\n",
       "      <th></th>\n",
       "      <th>zone</th>\n",
       "      <th>année</th>\n",
       "      <th>populations</th>\n",
       "      <th>nbr_pers</th>\n",
       "      <th>prop_sous_ali</th>\n",
       "    </tr>\n",
       "  </thead>\n",
       "  <tbody>\n",
       "    <tr>\n",
       "      <th>78</th>\n",
       "      <td>Haïti</td>\n",
       "      <td>2017</td>\n",
       "      <td>10982.366</td>\n",
       "      <td>5.3</td>\n",
       "      <td>48.259182</td>\n",
       "    </tr>\n",
       "    <tr>\n",
       "      <th>157</th>\n",
       "      <td>République populaire démocratique de Corée</td>\n",
       "      <td>2017</td>\n",
       "      <td>25429.825</td>\n",
       "      <td>12.0</td>\n",
       "      <td>47.188685</td>\n",
       "    </tr>\n",
       "    <tr>\n",
       "      <th>108</th>\n",
       "      <td>Madagascar</td>\n",
       "      <td>2017</td>\n",
       "      <td>25570.512</td>\n",
       "      <td>10.5</td>\n",
       "      <td>41.062924</td>\n",
       "    </tr>\n",
       "    <tr>\n",
       "      <th>103</th>\n",
       "      <td>Libéria</td>\n",
       "      <td>2017</td>\n",
       "      <td>4702.226</td>\n",
       "      <td>1.8</td>\n",
       "      <td>38.279742</td>\n",
       "    </tr>\n",
       "    <tr>\n",
       "      <th>100</th>\n",
       "      <td>Lesotho</td>\n",
       "      <td>2017</td>\n",
       "      <td>2091.534</td>\n",
       "      <td>0.8</td>\n",
       "      <td>38.249438</td>\n",
       "    </tr>\n",
       "    <tr>\n",
       "      <th>183</th>\n",
       "      <td>Tchad</td>\n",
       "      <td>2017</td>\n",
       "      <td>15016.753</td>\n",
       "      <td>5.7</td>\n",
       "      <td>37.957606</td>\n",
       "    </tr>\n",
       "    <tr>\n",
       "      <th>161</th>\n",
       "      <td>Rwanda</td>\n",
       "      <td>2017</td>\n",
       "      <td>11980.961</td>\n",
       "      <td>4.2</td>\n",
       "      <td>35.055619</td>\n",
       "    </tr>\n",
       "    <tr>\n",
       "      <th>121</th>\n",
       "      <td>Mozambique</td>\n",
       "      <td>2017</td>\n",
       "      <td>28649.018</td>\n",
       "      <td>9.4</td>\n",
       "      <td>32.810898</td>\n",
       "    </tr>\n",
       "    <tr>\n",
       "      <th>186</th>\n",
       "      <td>Timor-Leste</td>\n",
       "      <td>2017</td>\n",
       "      <td>1243.258</td>\n",
       "      <td>0.4</td>\n",
       "      <td>32.173531</td>\n",
       "    </tr>\n",
       "    <tr>\n",
       "      <th>0</th>\n",
       "      <td>Afghanistan</td>\n",
       "      <td>2017</td>\n",
       "      <td>36296.113</td>\n",
       "      <td>10.5</td>\n",
       "      <td>28.928718</td>\n",
       "    </tr>\n",
       "  </tbody>\n",
       "</table>\n",
       "</div>"
      ],
      "text/plain": [
       "                                           zone  année  populations  nbr_pers  \\\n",
       "78                                        Haïti   2017    10982.366       5.3   \n",
       "157  République populaire démocratique de Corée   2017    25429.825      12.0   \n",
       "108                                  Madagascar   2017    25570.512      10.5   \n",
       "103                                     Libéria   2017     4702.226       1.8   \n",
       "100                                     Lesotho   2017     2091.534       0.8   \n",
       "183                                       Tchad   2017    15016.753       5.7   \n",
       "161                                      Rwanda   2017    11980.961       4.2   \n",
       "121                                  Mozambique   2017    28649.018       9.4   \n",
       "186                                 Timor-Leste   2017     1243.258       0.4   \n",
       "0                                   Afghanistan   2017    36296.113      10.5   \n",
       "\n",
       "     prop_sous_ali  \n",
       "78       48.259182  \n",
       "157      47.188685  \n",
       "108      41.062924  \n",
       "103      38.279742  \n",
       "100      38.249438  \n",
       "183      37.957606  \n",
       "161      35.055619  \n",
       "121      32.810898  \n",
       "186      32.173531  \n",
       "0        28.928718  "
      ]
     },
     "execution_count": 268,
     "metadata": {},
     "output_type": "execute_result"
    }
   ],
   "source": [
    "proportion_sous_ali"
   ]
  },
  {
   "cell_type": "markdown",
   "id": "173c259d",
   "metadata": {},
   "source": [
    "**C. Visualise  les résultats avec seaborn**"
   ]
  },
  {
   "cell_type": "code",
   "execution_count": 269,
   "id": "e22a7cd7",
   "metadata": {},
   "outputs": [
    {
     "data": {
      "image/png": "[encoded data removed]",
      "text/plain": [
       "<Figure size 864x504 with 1 Axes>"
      ]
     },
     "metadata": {
      "needs_background": "light"
     },
     "output_type": "display_data"
    }
   ],
   "source": [
    "plt.figure(figsize=(12, 7))\n",
    "sns.barplot(x='prop_sous_ali', y = 'zone', data = proportion_sous_ali )\n",
    "plt.xlabel('proportion de personnes sous-alimentées (%)', fontsize = 14, color = 'darkblue',y =1.03)\n",
    "plt.ylabel('Pays', fontsize = 14, color = 'darkblue')\n",
    "plt.title('Top 10 des pays sous-alimentés en 2017', fontsize = 18, color = 'red')\n",
    "plt.tick_params(axis = \"both\", labelsize=12)"
   ]
  },
  {
   "cell_type": "code",
   "execution_count": null,
   "id": "f5943dc9",
   "metadata": {},
   "outputs": [],
   "source": []
  },
  {
   "cell_type": "markdown",
   "id": "932f557c",
   "metadata": {},
   "source": [
    "### 2. Liste des 10 pays qui ont le plus bénéficié d’aide depuis 2013"
   ]
  },
  {
   "cell_type": "code",
   "execution_count": 270,
   "id": "cb447df7",
   "metadata": {},
   "outputs": [
    {
     "data": {
      "text/html": [
       "<div>\n",
       "<style scoped>\n",
       "    .dataframe tbody tr th:only-of-type {\n",
       "        vertical-align: middle;\n",
       "    }\n",
       "\n",
       "    .dataframe tbody tr th {\n",
       "        vertical-align: top;\n",
       "    }\n",
       "\n",
       "    .dataframe thead th {\n",
       "        text-align: right;\n",
       "    }\n",
       "</style>\n",
       "<table border=\"1\" class=\"dataframe\">\n",
       "  <thead>\n",
       "    <tr style=\"text-align: right;\">\n",
       "      <th></th>\n",
       "      <th>zone</th>\n",
       "      <th>année</th>\n",
       "      <th>produit</th>\n",
       "      <th>valeur</th>\n",
       "    </tr>\n",
       "  </thead>\n",
       "  <tbody>\n",
       "    <tr>\n",
       "      <th>0</th>\n",
       "      <td>Afghanistan</td>\n",
       "      <td>2013</td>\n",
       "      <td>Autres non-céréales</td>\n",
       "      <td>682</td>\n",
       "    </tr>\n",
       "    <tr>\n",
       "      <th>1</th>\n",
       "      <td>Afghanistan</td>\n",
       "      <td>2014</td>\n",
       "      <td>Autres non-céréales</td>\n",
       "      <td>335</td>\n",
       "    </tr>\n",
       "    <tr>\n",
       "      <th>2</th>\n",
       "      <td>Afghanistan</td>\n",
       "      <td>2013</td>\n",
       "      <td>Blé et Farin</td>\n",
       "      <td>39224</td>\n",
       "    </tr>\n",
       "    <tr>\n",
       "      <th>3</th>\n",
       "      <td>Afghanistan</td>\n",
       "      <td>2014</td>\n",
       "      <td>Blé et Farin</td>\n",
       "      <td>15160</td>\n",
       "    </tr>\n",
       "    <tr>\n",
       "      <th>4</th>\n",
       "      <td>Afghanistan</td>\n",
       "      <td>2013</td>\n",
       "      <td>Céréales</td>\n",
       "      <td>40504</td>\n",
       "    </tr>\n",
       "  </tbody>\n",
       "</table>\n",
       "</div>"
      ],
      "text/plain": [
       "          zone  année              produit  valeur\n",
       "0  Afghanistan   2013  Autres non-céréales     682\n",
       "1  Afghanistan   2014  Autres non-céréales     335\n",
       "2  Afghanistan   2013         Blé et Farin   39224\n",
       "3  Afghanistan   2014         Blé et Farin   15160\n",
       "4  Afghanistan   2013             Céréales   40504"
      ]
     },
     "execution_count": 270,
     "metadata": {},
     "output_type": "execute_result"
    }
   ],
   "source": [
    "aide_alimentaire.head()"
   ]
  },
  {
   "cell_type": "code",
   "execution_count": 271,
   "id": "41e9682c",
   "metadata": {},
   "outputs": [
    {
     "data": {
      "text/html": [
       "<div>\n",
       "<style scoped>\n",
       "    .dataframe tbody tr th:only-of-type {\n",
       "        vertical-align: middle;\n",
       "    }\n",
       "\n",
       "    .dataframe tbody tr th {\n",
       "        vertical-align: top;\n",
       "    }\n",
       "\n",
       "    .dataframe thead th {\n",
       "        text-align: right;\n",
       "    }\n",
       "</style>\n",
       "<table border=\"1\" class=\"dataframe\">\n",
       "  <thead>\n",
       "    <tr style=\"text-align: right;\">\n",
       "      <th></th>\n",
       "      <th>zone</th>\n",
       "      <th>valeur</th>\n",
       "    </tr>\n",
       "  </thead>\n",
       "  <tbody>\n",
       "    <tr>\n",
       "      <th>0</th>\n",
       "      <td>Afghanistan</td>\n",
       "      <td>185452</td>\n",
       "    </tr>\n",
       "    <tr>\n",
       "      <th>1</th>\n",
       "      <td>Algérie</td>\n",
       "      <td>81114</td>\n",
       "    </tr>\n",
       "    <tr>\n",
       "      <th>2</th>\n",
       "      <td>Angola</td>\n",
       "      <td>5014</td>\n",
       "    </tr>\n",
       "    <tr>\n",
       "      <th>3</th>\n",
       "      <td>Bangladesh</td>\n",
       "      <td>348188</td>\n",
       "    </tr>\n",
       "    <tr>\n",
       "      <th>4</th>\n",
       "      <td>Bhoutan</td>\n",
       "      <td>2666</td>\n",
       "    </tr>\n",
       "  </tbody>\n",
       "</table>\n",
       "</div>"
      ],
      "text/plain": [
       "          zone  valeur\n",
       "0  Afghanistan  185452\n",
       "1      Algérie   81114\n",
       "2       Angola    5014\n",
       "3   Bangladesh  348188\n",
       "4      Bhoutan    2666"
      ]
     },
     "execution_count": 271,
     "metadata": {},
     "output_type": "execute_result"
    }
   ],
   "source": [
    "# Créer la table 'pays_benef' avec les pays et leur bénef total\n",
    "pays_benef = aide_alimentaire[['zone', 'valeur']].groupby('zone').sum()\n",
    "pays_benef.reset_index(drop=False, inplace=True)\n",
    "pays_benef.head()"
   ]
  },
  {
   "cell_type": "code",
   "execution_count": 272,
   "id": "0db655aa",
   "metadata": {},
   "outputs": [
    {
     "data": {
      "text/html": [
       "<div>\n",
       "<style scoped>\n",
       "    .dataframe tbody tr th:only-of-type {\n",
       "        vertical-align: middle;\n",
       "    }\n",
       "\n",
       "    .dataframe tbody tr th {\n",
       "        vertical-align: top;\n",
       "    }\n",
       "\n",
       "    .dataframe thead th {\n",
       "        text-align: right;\n",
       "    }\n",
       "</style>\n",
       "<table border=\"1\" class=\"dataframe\">\n",
       "  <thead>\n",
       "    <tr style=\"text-align: right;\">\n",
       "      <th></th>\n",
       "      <th>zone</th>\n",
       "      <th>valeur</th>\n",
       "    </tr>\n",
       "  </thead>\n",
       "  <tbody>\n",
       "    <tr>\n",
       "      <th>50</th>\n",
       "      <td>République arabe syrienne</td>\n",
       "      <td>1858943</td>\n",
       "    </tr>\n",
       "    <tr>\n",
       "      <th>75</th>\n",
       "      <td>Éthiopie</td>\n",
       "      <td>1381294</td>\n",
       "    </tr>\n",
       "    <tr>\n",
       "      <th>70</th>\n",
       "      <td>Yémen</td>\n",
       "      <td>1206484</td>\n",
       "    </tr>\n",
       "    <tr>\n",
       "      <th>61</th>\n",
       "      <td>Soudan du Sud</td>\n",
       "      <td>695248</td>\n",
       "    </tr>\n",
       "    <tr>\n",
       "      <th>60</th>\n",
       "      <td>Soudan</td>\n",
       "      <td>669784</td>\n",
       "    </tr>\n",
       "    <tr>\n",
       "      <th>30</th>\n",
       "      <td>Kenya</td>\n",
       "      <td>552836</td>\n",
       "    </tr>\n",
       "    <tr>\n",
       "      <th>3</th>\n",
       "      <td>Bangladesh</td>\n",
       "      <td>348188</td>\n",
       "    </tr>\n",
       "    <tr>\n",
       "      <th>59</th>\n",
       "      <td>Somalie</td>\n",
       "      <td>292678</td>\n",
       "    </tr>\n",
       "    <tr>\n",
       "      <th>53</th>\n",
       "      <td>République démocratique du Congo</td>\n",
       "      <td>288502</td>\n",
       "    </tr>\n",
       "    <tr>\n",
       "      <th>43</th>\n",
       "      <td>Niger</td>\n",
       "      <td>276344</td>\n",
       "    </tr>\n",
       "  </tbody>\n",
       "</table>\n",
       "</div>"
      ],
      "text/plain": [
       "                                zone   valeur\n",
       "50         République arabe syrienne  1858943\n",
       "75                          Éthiopie  1381294\n",
       "70                             Yémen  1206484\n",
       "61                     Soudan du Sud   695248\n",
       "60                            Soudan   669784\n",
       "30                             Kenya   552836\n",
       "3                         Bangladesh   348188\n",
       "59                           Somalie   292678\n",
       "53  République démocratique du Congo   288502\n",
       "43                             Niger   276344"
      ]
     },
     "execution_count": 272,
     "metadata": {},
     "output_type": "execute_result"
    }
   ],
   "source": [
    "# Top 10 pays qui ont le plus bénéficié d’aide depuis 2013\n",
    "pays_benef_10 = pays_benef.sort_values(by='valeur', ascending=False).head(10)\n",
    "pays_benef_10"
   ]
  },
  {
   "cell_type": "markdown",
   "id": "1428ba00",
   "metadata": {},
   "source": [
    "**- Visualise les résultats avec seaborn**"
   ]
  },
  {
   "cell_type": "code",
   "execution_count": 273,
   "id": "2f1b970c",
   "metadata": {},
   "outputs": [
    {
     "data": {
      "image/png": "[encoded data removed]",
      "text/plain": [
       "<Figure size 864x504 with 1 Axes>"
      ]
     },
     "metadata": {
      "needs_background": "light"
     },
     "output_type": "display_data"
    }
   ],
   "source": [
    "plt.figure(figsize=(12, 7))\n",
    "sns.barplot(x='valeur', y = 'zone', data = pays_benef_10)\n",
    "plt.xlabel(\"Quantité d'aide alimentaire (tonnes)\", fontsize = 14, color = 'darkblue')\n",
    "plt.ylabel('Pays', fontsize = 14, color = 'darkblue')\n",
    "plt.title('Top 10 pays qui ont le plus bénéficié d’aide depuis 2013', fontsize = 18, color = 'red',y =1.03)\n",
    "plt.tick_params(axis = \"both\", labelsize=12)"
   ]
  },
  {
   "cell_type": "code",
   "execution_count": null,
   "id": "07b492f4",
   "metadata": {},
   "outputs": [],
   "source": []
  },
  {
   "cell_type": "markdown",
   "id": "ce2e3f70",
   "metadata": {},
   "source": [
    "### 3. Liste des 10 pays ayant le plus/le moins de disponibilité/habitant en 2013"
   ]
  },
  {
   "cell_type": "code",
   "execution_count": 274,
   "id": "293c28d7",
   "metadata": {},
   "outputs": [
    {
     "data": {
      "text/html": [
       "<div>\n",
       "<style scoped>\n",
       "    .dataframe tbody tr th:only-of-type {\n",
       "        vertical-align: middle;\n",
       "    }\n",
       "\n",
       "    .dataframe tbody tr th {\n",
       "        vertical-align: top;\n",
       "    }\n",
       "\n",
       "    .dataframe thead th {\n",
       "        text-align: right;\n",
       "    }\n",
       "</style>\n",
       "<table border=\"1\" class=\"dataframe\">\n",
       "  <thead>\n",
       "    <tr style=\"text-align: right;\">\n",
       "      <th></th>\n",
       "      <th>zone</th>\n",
       "      <th>dispo_ali_kcal_pers_j</th>\n",
       "    </tr>\n",
       "  </thead>\n",
       "  <tbody>\n",
       "    <tr>\n",
       "      <th>0</th>\n",
       "      <td>Afghanistan</td>\n",
       "      <td>2087.0</td>\n",
       "    </tr>\n",
       "    <tr>\n",
       "      <th>1</th>\n",
       "      <td>Afrique du Sud</td>\n",
       "      <td>3020.0</td>\n",
       "    </tr>\n",
       "    <tr>\n",
       "      <th>2</th>\n",
       "      <td>Albanie</td>\n",
       "      <td>3188.0</td>\n",
       "    </tr>\n",
       "    <tr>\n",
       "      <th>3</th>\n",
       "      <td>Algérie</td>\n",
       "      <td>3293.0</td>\n",
       "    </tr>\n",
       "    <tr>\n",
       "      <th>4</th>\n",
       "      <td>Allemagne</td>\n",
       "      <td>3503.0</td>\n",
       "    </tr>\n",
       "  </tbody>\n",
       "</table>\n",
       "</div>"
      ],
      "text/plain": [
       "             zone  dispo_ali_kcal_pers_j\n",
       "0     Afghanistan                 2087.0\n",
       "1  Afrique du Sud                 3020.0\n",
       "2         Albanie                 3188.0\n",
       "3         Algérie                 3293.0\n",
       "4       Allemagne                 3503.0"
      ]
     },
     "execution_count": 274,
     "metadata": {},
     "output_type": "execute_result"
    }
   ],
   "source": [
    "# Créer la table 'dispo_ali_pays' avec les pays et disponibilité alimentaire (Kcal/personne/jour)\n",
    "dispo_ali_pays = dispo_alimentaire[['zone','dispo_ali_kcal_pers_j']].groupby('zone').sum()\n",
    "dispo_ali_pays.reset_index(drop=False, inplace=True)\n",
    "dispo_ali_pays.head()"
   ]
  },
  {
   "cell_type": "markdown",
   "id": "e4f41dc6",
   "metadata": {},
   "source": [
    "**A. - Liste des 10 pays ayants le plus de disponibilités alimentaires par habitant**"
   ]
  },
  {
   "cell_type": "code",
   "execution_count": 275,
   "id": "89028cb4",
   "metadata": {},
   "outputs": [
    {
     "data": {
      "text/html": [
       "<div>\n",
       "<style scoped>\n",
       "    .dataframe tbody tr th:only-of-type {\n",
       "        vertical-align: middle;\n",
       "    }\n",
       "\n",
       "    .dataframe tbody tr th {\n",
       "        vertical-align: top;\n",
       "    }\n",
       "\n",
       "    .dataframe thead th {\n",
       "        text-align: right;\n",
       "    }\n",
       "</style>\n",
       "<table border=\"1\" class=\"dataframe\">\n",
       "  <thead>\n",
       "    <tr style=\"text-align: right;\">\n",
       "      <th></th>\n",
       "      <th>zone</th>\n",
       "      <th>dispo_ali_kcal_pers_j</th>\n",
       "    </tr>\n",
       "  </thead>\n",
       "  <tbody>\n",
       "    <tr>\n",
       "      <th>11</th>\n",
       "      <td>Autriche</td>\n",
       "      <td>3770.0</td>\n",
       "    </tr>\n",
       "    <tr>\n",
       "      <th>16</th>\n",
       "      <td>Belgique</td>\n",
       "      <td>3737.0</td>\n",
       "    </tr>\n",
       "    <tr>\n",
       "      <th>159</th>\n",
       "      <td>Turquie</td>\n",
       "      <td>3708.0</td>\n",
       "    </tr>\n",
       "    <tr>\n",
       "      <th>171</th>\n",
       "      <td>États-Unis d'Amérique</td>\n",
       "      <td>3682.0</td>\n",
       "    </tr>\n",
       "    <tr>\n",
       "      <th>74</th>\n",
       "      <td>Israël</td>\n",
       "      <td>3610.0</td>\n",
       "    </tr>\n",
       "    <tr>\n",
       "      <th>72</th>\n",
       "      <td>Irlande</td>\n",
       "      <td>3602.0</td>\n",
       "    </tr>\n",
       "    <tr>\n",
       "      <th>75</th>\n",
       "      <td>Italie</td>\n",
       "      <td>3578.0</td>\n",
       "    </tr>\n",
       "    <tr>\n",
       "      <th>89</th>\n",
       "      <td>Luxembourg</td>\n",
       "      <td>3540.0</td>\n",
       "    </tr>\n",
       "    <tr>\n",
       "      <th>168</th>\n",
       "      <td>Égypte</td>\n",
       "      <td>3518.0</td>\n",
       "    </tr>\n",
       "    <tr>\n",
       "      <th>4</th>\n",
       "      <td>Allemagne</td>\n",
       "      <td>3503.0</td>\n",
       "    </tr>\n",
       "  </tbody>\n",
       "</table>\n",
       "</div>"
      ],
      "text/plain": [
       "                      zone  dispo_ali_kcal_pers_j\n",
       "11                Autriche                 3770.0\n",
       "16                Belgique                 3737.0\n",
       "159                Turquie                 3708.0\n",
       "171  États-Unis d'Amérique                 3682.0\n",
       "74                  Israël                 3610.0\n",
       "72                 Irlande                 3602.0\n",
       "75                  Italie                 3578.0\n",
       "89              Luxembourg                 3540.0\n",
       "168                 Égypte                 3518.0\n",
       "4                Allemagne                 3503.0"
      ]
     },
     "execution_count": 275,
     "metadata": {},
     "output_type": "execute_result"
    }
   ],
   "source": [
    "dispo_ali_plus_10 = dispo_ali_pays.sort_values(by='dispo_ali_kcal_pers_j', ascending=False).head(10)\n",
    "dispo_ali_plus_10 "
   ]
  },
  {
   "cell_type": "markdown",
   "id": "b1c2cca6",
   "metadata": {},
   "source": [
    "**- Visualise les \"Top 10 pays ayants le plus de disponibilités alimentaires par habitant\" avec seaborn**"
   ]
  },
  {
   "cell_type": "code",
   "execution_count": 276,
   "id": "3a180d0b",
   "metadata": {},
   "outputs": [
    {
     "data": {
      "image/png": "[encoded data removed]",
      "text/plain": [
       "<Figure size 864x432 with 1 Axes>"
      ]
     },
     "metadata": {
      "needs_background": "light"
     },
     "output_type": "display_data"
    }
   ],
   "source": [
    "plt.figure(figsize=(12, 6))\n",
    "sns.barplot(x='zone', y = 'dispo_ali_kcal_pers_j', data = dispo_ali_plus_10)\n",
    "plt.xlabel(\"Pays\", fontsize = 14, color = 'darkblue')\n",
    "plt.ylabel('Disponibilité alimentaire (Kcal/personne/jour)', fontsize = 14, color = 'darkblue')\n",
    "plt.title('Top 10 pays ayants le plus de disponibilités alimentaires par habitant en 2013', fontsize = 18, color = 'red',y =1.03)\n",
    "plt.tick_params(axis = \"x\", labelrotation=30)"
   ]
  },
  {
   "cell_type": "markdown",
   "id": "951c8bd2",
   "metadata": {},
   "source": [
    " **B.- Liste des 10 pays ayant le moins de disponibilités alimentaires par habitant**"
   ]
  },
  {
   "cell_type": "code",
   "execution_count": 277,
   "id": "9d54f425",
   "metadata": {},
   "outputs": [
    {
     "data": {
      "text/html": [
       "<div>\n",
       "<style scoped>\n",
       "    .dataframe tbody tr th:only-of-type {\n",
       "        vertical-align: middle;\n",
       "    }\n",
       "\n",
       "    .dataframe tbody tr th {\n",
       "        vertical-align: top;\n",
       "    }\n",
       "\n",
       "    .dataframe thead th {\n",
       "        text-align: right;\n",
       "    }\n",
       "</style>\n",
       "<table border=\"1\" class=\"dataframe\">\n",
       "  <thead>\n",
       "    <tr style=\"text-align: right;\">\n",
       "      <th></th>\n",
       "      <th>zone</th>\n",
       "      <th>dispo_ali_kcal_pers_j</th>\n",
       "    </tr>\n",
       "  </thead>\n",
       "  <tbody>\n",
       "    <tr>\n",
       "      <th>128</th>\n",
       "      <td>République centrafricaine</td>\n",
       "      <td>1879.0</td>\n",
       "    </tr>\n",
       "    <tr>\n",
       "      <th>166</th>\n",
       "      <td>Zambie</td>\n",
       "      <td>1924.0</td>\n",
       "    </tr>\n",
       "    <tr>\n",
       "      <th>91</th>\n",
       "      <td>Madagascar</td>\n",
       "      <td>2056.0</td>\n",
       "    </tr>\n",
       "    <tr>\n",
       "      <th>0</th>\n",
       "      <td>Afghanistan</td>\n",
       "      <td>2087.0</td>\n",
       "    </tr>\n",
       "    <tr>\n",
       "      <th>65</th>\n",
       "      <td>Haïti</td>\n",
       "      <td>2089.0</td>\n",
       "    </tr>\n",
       "    <tr>\n",
       "      <th>133</th>\n",
       "      <td>République populaire démocratique de Corée</td>\n",
       "      <td>2093.0</td>\n",
       "    </tr>\n",
       "    <tr>\n",
       "      <th>151</th>\n",
       "      <td>Tchad</td>\n",
       "      <td>2109.0</td>\n",
       "    </tr>\n",
       "    <tr>\n",
       "      <th>167</th>\n",
       "      <td>Zimbabwe</td>\n",
       "      <td>2113.0</td>\n",
       "    </tr>\n",
       "    <tr>\n",
       "      <th>114</th>\n",
       "      <td>Ouganda</td>\n",
       "      <td>2126.0</td>\n",
       "    </tr>\n",
       "    <tr>\n",
       "      <th>154</th>\n",
       "      <td>Timor-Leste</td>\n",
       "      <td>2129.0</td>\n",
       "    </tr>\n",
       "  </tbody>\n",
       "</table>\n",
       "</div>"
      ],
      "text/plain": [
       "                                           zone  dispo_ali_kcal_pers_j\n",
       "128                   République centrafricaine                 1879.0\n",
       "166                                      Zambie                 1924.0\n",
       "91                                   Madagascar                 2056.0\n",
       "0                                   Afghanistan                 2087.0\n",
       "65                                        Haïti                 2089.0\n",
       "133  République populaire démocratique de Corée                 2093.0\n",
       "151                                       Tchad                 2109.0\n",
       "167                                    Zimbabwe                 2113.0\n",
       "114                                     Ouganda                 2126.0\n",
       "154                                 Timor-Leste                 2129.0"
      ]
     },
     "execution_count": 277,
     "metadata": {},
     "output_type": "execute_result"
    }
   ],
   "source": [
    "dispo_ali_moins_10 = dispo_ali_pays.sort_values(by='dispo_ali_kcal_pers_j', ascending=True).head(10)\n",
    "dispo_ali_moins_10 "
   ]
  },
  {
   "cell_type": "markdown",
   "id": "46f6a1ac",
   "metadata": {},
   "source": [
    "**- Visualise les \"Top 10 pays ayants le moins de disponibilités alimentaires par habitant\" avec seaborn\"**"
   ]
  },
  {
   "cell_type": "code",
   "execution_count": 278,
   "id": "5a4917c4",
   "metadata": {},
   "outputs": [
    {
     "data": {
      "image/png": "[encoded data removed]",
      "text/plain": [
       "<Figure size 864x432 with 1 Axes>"
      ]
     },
     "metadata": {
      "needs_background": "light"
     },
     "output_type": "display_data"
    }
   ],
   "source": [
    "plt.figure(figsize=(12, 6))\n",
    "sns.barplot(x='zone', y = 'dispo_ali_kcal_pers_j', data = dispo_ali_moins_10)\n",
    "plt.xlabel(\"Pays\", fontsize = 12, color = 'darkblue')\n",
    "plt.ylabel('Disponibilité alimentaire (Kcal/personne/jour)', fontsize = 14, color = 'darkblue')\n",
    "plt.title('Top 10 pays ayants le moins de disponibilités alimentaires par habitant en 2013', fontsize = 18, color = 'red',y =1.03)\n",
    "plt.tick_params(axis = \"x\", labelrotation=20)"
   ]
  },
  {
   "cell_type": "markdown",
   "id": "8ada602f",
   "metadata": {},
   "source": [
    "### 4. Relation entre le nombre de personnes sous-alimentées et l'aide alimentaire pour le top 30 des pays sous-alimentés\n",
    " "
   ]
  },
  {
   "cell_type": "markdown",
   "id": "76657909",
   "metadata": {},
   "source": [
    "**A. Utiliser les tables \"pays_benef\" et \"sous_nutrition_17\"**"
   ]
  },
  {
   "cell_type": "code",
   "execution_count": 279,
   "id": "eb10a180",
   "metadata": {},
   "outputs": [
    {
     "data": {
      "text/html": [
       "<div>\n",
       "<style scoped>\n",
       "    .dataframe tbody tr th:only-of-type {\n",
       "        vertical-align: middle;\n",
       "    }\n",
       "\n",
       "    .dataframe tbody tr th {\n",
       "        vertical-align: top;\n",
       "    }\n",
       "\n",
       "    .dataframe thead th {\n",
       "        text-align: right;\n",
       "    }\n",
       "</style>\n",
       "<table border=\"1\" class=\"dataframe\">\n",
       "  <thead>\n",
       "    <tr style=\"text-align: right;\">\n",
       "      <th></th>\n",
       "      <th>zone</th>\n",
       "      <th>valeur</th>\n",
       "    </tr>\n",
       "  </thead>\n",
       "  <tbody>\n",
       "    <tr>\n",
       "      <th>0</th>\n",
       "      <td>Afghanistan</td>\n",
       "      <td>185452</td>\n",
       "    </tr>\n",
       "    <tr>\n",
       "      <th>1</th>\n",
       "      <td>Algérie</td>\n",
       "      <td>81114</td>\n",
       "    </tr>\n",
       "    <tr>\n",
       "      <th>2</th>\n",
       "      <td>Angola</td>\n",
       "      <td>5014</td>\n",
       "    </tr>\n",
       "    <tr>\n",
       "      <th>3</th>\n",
       "      <td>Bangladesh</td>\n",
       "      <td>348188</td>\n",
       "    </tr>\n",
       "    <tr>\n",
       "      <th>4</th>\n",
       "      <td>Bhoutan</td>\n",
       "      <td>2666</td>\n",
       "    </tr>\n",
       "  </tbody>\n",
       "</table>\n",
       "</div>"
      ],
      "text/plain": [
       "          zone  valeur\n",
       "0  Afghanistan  185452\n",
       "1      Algérie   81114\n",
       "2       Angola    5014\n",
       "3   Bangladesh  348188\n",
       "4      Bhoutan    2666"
      ]
     },
     "execution_count": 279,
     "metadata": {},
     "output_type": "execute_result"
    }
   ],
   "source": [
    "#Utiliser la table \"pays_benef\" avec les pays et leur bénef total (en tonnes) depuis 2013\n",
    "pays_benef.head()"
   ]
  },
  {
   "cell_type": "code",
   "execution_count": 280,
   "id": "5a44fd4e",
   "metadata": {},
   "outputs": [
    {
     "data": {
      "text/html": [
       "<div>\n",
       "<style scoped>\n",
       "    .dataframe tbody tr th:only-of-type {\n",
       "        vertical-align: middle;\n",
       "    }\n",
       "\n",
       "    .dataframe tbody tr th {\n",
       "        vertical-align: top;\n",
       "    }\n",
       "\n",
       "    .dataframe thead th {\n",
       "        text-align: right;\n",
       "    }\n",
       "</style>\n",
       "<table border=\"1\" class=\"dataframe\">\n",
       "  <thead>\n",
       "    <tr style=\"text-align: right;\">\n",
       "      <th></th>\n",
       "      <th>zone</th>\n",
       "      <th>année</th>\n",
       "      <th>nbr_pers</th>\n",
       "    </tr>\n",
       "  </thead>\n",
       "  <tbody>\n",
       "    <tr>\n",
       "      <th>4</th>\n",
       "      <td>Afghanistan</td>\n",
       "      <td>2017</td>\n",
       "      <td>10.5</td>\n",
       "    </tr>\n",
       "    <tr>\n",
       "      <th>10</th>\n",
       "      <td>Afrique du Sud</td>\n",
       "      <td>2017</td>\n",
       "      <td>3.1</td>\n",
       "    </tr>\n",
       "    <tr>\n",
       "      <th>16</th>\n",
       "      <td>Albanie</td>\n",
       "      <td>2017</td>\n",
       "      <td>0.1</td>\n",
       "    </tr>\n",
       "    <tr>\n",
       "      <th>22</th>\n",
       "      <td>Algérie</td>\n",
       "      <td>2017</td>\n",
       "      <td>1.3</td>\n",
       "    </tr>\n",
       "    <tr>\n",
       "      <th>28</th>\n",
       "      <td>Allemagne</td>\n",
       "      <td>2017</td>\n",
       "      <td>NaN</td>\n",
       "    </tr>\n",
       "  </tbody>\n",
       "</table>\n",
       "</div>"
      ],
      "text/plain": [
       "              zone  année  nbr_pers\n",
       "4      Afghanistan   2017      10.5\n",
       "10  Afrique du Sud   2017       3.1\n",
       "16         Albanie   2017       0.1\n",
       "22         Algérie   2017       1.3\n",
       "28       Allemagne   2017       NaN"
      ]
     },
     "execution_count": 280,
     "metadata": {},
     "output_type": "execute_result"
    }
   ],
   "source": [
    "#Utiliser la table \"sous_nutrition_17\" avec les pays et le nombre personnes sous-alimentées en 2017 ( en millions d’habitants)\n",
    "sous_nutrition_17.head()"
   ]
  },
  {
   "cell_type": "markdown",
   "id": "7488915a",
   "metadata": {},
   "source": [
    "**B. Créer la table avec les pays, le nombre de personnes sous-alimentées et la quantité d'aide alimentaire**"
   ]
  },
  {
   "cell_type": "code",
   "execution_count": 281,
   "id": "ccbd5763",
   "metadata": {},
   "outputs": [
    {
     "data": {
      "text/html": [
       "<div>\n",
       "<style scoped>\n",
       "    .dataframe tbody tr th:only-of-type {\n",
       "        vertical-align: middle;\n",
       "    }\n",
       "\n",
       "    .dataframe tbody tr th {\n",
       "        vertical-align: top;\n",
       "    }\n",
       "\n",
       "    .dataframe thead th {\n",
       "        text-align: right;\n",
       "    }\n",
       "</style>\n",
       "<table border=\"1\" class=\"dataframe\">\n",
       "  <thead>\n",
       "    <tr style=\"text-align: right;\">\n",
       "      <th></th>\n",
       "      <th>zone</th>\n",
       "      <th>année</th>\n",
       "      <th>nbr_pers</th>\n",
       "      <th>valeur</th>\n",
       "    </tr>\n",
       "  </thead>\n",
       "  <tbody>\n",
       "    <tr>\n",
       "      <th>0</th>\n",
       "      <td>Afghanistan</td>\n",
       "      <td>2017</td>\n",
       "      <td>10.5</td>\n",
       "      <td>185452</td>\n",
       "    </tr>\n",
       "    <tr>\n",
       "      <th>1</th>\n",
       "      <td>Algérie</td>\n",
       "      <td>2017</td>\n",
       "      <td>1.3</td>\n",
       "      <td>81114</td>\n",
       "    </tr>\n",
       "    <tr>\n",
       "      <th>2</th>\n",
       "      <td>Angola</td>\n",
       "      <td>2017</td>\n",
       "      <td>5.8</td>\n",
       "      <td>5014</td>\n",
       "    </tr>\n",
       "    <tr>\n",
       "      <th>3</th>\n",
       "      <td>Bangladesh</td>\n",
       "      <td>2017</td>\n",
       "      <td>21.5</td>\n",
       "      <td>348188</td>\n",
       "    </tr>\n",
       "    <tr>\n",
       "      <th>4</th>\n",
       "      <td>Bénin</td>\n",
       "      <td>2017</td>\n",
       "      <td>0.8</td>\n",
       "      <td>22224</td>\n",
       "    </tr>\n",
       "  </tbody>\n",
       "</table>\n",
       "</div>"
      ],
      "text/plain": [
       "          zone  année  nbr_pers  valeur\n",
       "0  Afghanistan   2017      10.5  185452\n",
       "1      Algérie   2017       1.3   81114\n",
       "2       Angola   2017       5.8    5014\n",
       "3   Bangladesh   2017      21.5  348188\n",
       "4        Bénin   2017       0.8   22224"
      ]
     },
     "execution_count": 281,
     "metadata": {},
     "output_type": "execute_result"
    }
   ],
   "source": [
    "#Joindre les 2 tables : pays_benef et sous_nutrition_17\n",
    "df7 = pd.merge(sous_nutrition_17,pays_benef, how='inner',on='zone')\n",
    "df7.head()"
   ]
  },
  {
   "cell_type": "code",
   "execution_count": 282,
   "id": "afe51f6e",
   "metadata": {},
   "outputs": [],
   "source": [
    "rela_sous_aid = df7[[\"zone\",\"nbr_pers\", \"valeur\" ]].sort_values(by=\"nbr_pers\", ascending=False).head(30)"
   ]
  },
  {
   "cell_type": "code",
   "execution_count": 283,
   "id": "d54a378e",
   "metadata": {},
   "outputs": [
    {
     "data": {
      "text/html": [
       "<div>\n",
       "<style scoped>\n",
       "    .dataframe tbody tr th:only-of-type {\n",
       "        vertical-align: middle;\n",
       "    }\n",
       "\n",
       "    .dataframe tbody tr th {\n",
       "        vertical-align: top;\n",
       "    }\n",
       "\n",
       "    .dataframe thead th {\n",
       "        text-align: right;\n",
       "    }\n",
       "</style>\n",
       "<table border=\"1\" class=\"dataframe\">\n",
       "  <thead>\n",
       "    <tr style=\"text-align: right;\">\n",
       "      <th></th>\n",
       "      <th>zone</th>\n",
       "      <th>nbr_pers</th>\n",
       "      <th>valeur</th>\n",
       "    </tr>\n",
       "  </thead>\n",
       "  <tbody>\n",
       "    <tr>\n",
       "      <th>49</th>\n",
       "      <td>Pakistan</td>\n",
       "      <td>24.8</td>\n",
       "      <td>231072</td>\n",
       "    </tr>\n",
       "    <tr>\n",
       "      <th>3</th>\n",
       "      <td>Bangladesh</td>\n",
       "      <td>21.5</td>\n",
       "      <td>348188</td>\n",
       "    </tr>\n",
       "    <tr>\n",
       "      <th>21</th>\n",
       "      <td>Éthiopie</td>\n",
       "      <td>21.1</td>\n",
       "      <td>1381294</td>\n",
       "    </tr>\n",
       "    <tr>\n",
       "      <th>51</th>\n",
       "      <td>Philippines</td>\n",
       "      <td>15.7</td>\n",
       "      <td>171722</td>\n",
       "    </tr>\n",
       "    <tr>\n",
       "      <th>58</th>\n",
       "      <td>République-Unie de Tanzanie</td>\n",
       "      <td>13.4</td>\n",
       "      <td>172022</td>\n",
       "    </tr>\n",
       "  </tbody>\n",
       "</table>\n",
       "</div>"
      ],
      "text/plain": [
       "                           zone  nbr_pers   valeur\n",
       "49                     Pakistan      24.8   231072\n",
       "3                    Bangladesh      21.5   348188\n",
       "21                     Éthiopie      21.1  1381294\n",
       "51                  Philippines      15.7   171722\n",
       "58  République-Unie de Tanzanie      13.4   172022"
      ]
     },
     "execution_count": 283,
     "metadata": {},
     "output_type": "execute_result"
    }
   ],
   "source": [
    "rela_sous_aid.head()"
   ]
  },
  {
   "cell_type": "markdown",
   "id": "0f5c73f9",
   "metadata": {},
   "source": [
    "**B. - Visualiser \"Relation entre le nombre de personnes sous-alimentées et l'aide alimentaire depuis 2013\" pour le top 30 des pays sous alimentés**"
   ]
  },
  {
   "cell_type": "code",
   "execution_count": 284,
   "id": "37975a02",
   "metadata": {},
   "outputs": [
    {
     "data": {
      "image/png": "[encoded data removed]",
      "text/plain": [
       "<Figure size 864x504 with 1 Axes>"
      ]
     },
     "metadata": {
      "needs_background": "light"
     },
     "output_type": "display_data"
    }
   ],
   "source": [
    "plt.figure(figsize=(12, 7))\n",
    "sns.scatterplot(x='nbr_pers', y = 'valeur', data = rela_sous_aid, hue = 'zone', s =100)\n",
    "plt.legend(bbox_to_anchor=(1.05, 1), loc=2, borderaxespad=0)\n",
    "plt.xlabel(\" Nombre de personnes sous-alimentées( en millions d’habitants) \", fontsize = 16, color = 'darkblue')\n",
    "plt.ylabel(\"Quantité d'aide alimentaire (tonnes)\", fontsize = 16, color = 'darkblue')\n",
    "plt.title(\"Relation entre le nombre de personnes sous-alimentées et l'aide alimentaire\", fontsize = 18, color = 'red', y =1.03)\n",
    "plt.tick_params(axis = \"both\", labelsize=12)"
   ]
  },
  {
   "cell_type": "markdown",
   "id": "3fee7cd4",
   "metadata": {},
   "source": [
    "**- Visualiser avec  une courbe de régression**"
   ]
  },
  {
   "cell_type": "code",
   "execution_count": 285,
   "id": "5d970f05",
   "metadata": {},
   "outputs": [
    {
     "data": {
      "text/plain": [
       "(0.0, 26.0)"
      ]
     },
     "execution_count": 285,
     "metadata": {},
     "output_type": "execute_result"
    },
    {
     "data": {
      "image/png": "[encoded data removed]",
      "text/plain": [
       "<Figure size 864x504 with 1 Axes>"
      ]
     },
     "metadata": {
      "needs_background": "light"
     },
     "output_type": "display_data"
    }
   ],
   "source": [
    "plt.figure(figsize=(12, 7))\n",
    "sns.regplot(x='nbr_pers', y = 'valeur', data = rela_sous_aid)\n",
    "plt.xlabel(\" Nombre de personnes sous-alimentées( en millions d’habitants) \", fontsize = 16, color = 'darkblue')\n",
    "plt.ylabel(\"Quantité d'aide alimentaire (tonnes)\", fontsize = 16, color = 'darkblue')\n",
    "plt.title(\"Relation entre le nombre de personnes sous-alimentées et l'aide alimentaire\", fontsize = 18, color = 'red',y =1.03)\n",
    "plt.tick_params(axis = \"both\", labelsize=12)\n",
    "plt.xlim((0, 26))"
   ]
  },
  {
   "cell_type": "markdown",
   "id": "b4496760",
   "metadata": {},
   "source": [
    "***CONCLUSION:   \n",
    "-Pour les 30 pays qui ont le plus de personnes sous-alimentées, la quantité d'aide alimentaire augmente avec le nombre de personnes sous-alimentées.  \n",
    "-Pour des pays comme le Pakistan, le Bangladesh,les Philippines, la quantité d'aide alimentaire est relativement faible en comparaison avec leur nombre de personnes sous-alimentées.***"
   ]
  },
  {
   "cell_type": "code",
   "execution_count": null,
   "id": "fb78aef9",
   "metadata": {},
   "outputs": [],
   "source": []
  }
 ],
 "metadata": {
  "kernelspec": {
   "display_name": "Python 3",
   "language": "python",
   "name": "python3"
  },
  "language_info": {
   "codemirror_mode": {
    "name": "ipython",
    "version": 3
   },
   "file_extension": ".py",
   "mimetype": "text/x-python",
   "name": "python",
   "nbconvert_exporter": "python",
   "pygments_lexer": "ipython3",
   "version": "3.8.8"
  }
 },
 "nbformat": 4,
 "nbformat_minor": 5
}
